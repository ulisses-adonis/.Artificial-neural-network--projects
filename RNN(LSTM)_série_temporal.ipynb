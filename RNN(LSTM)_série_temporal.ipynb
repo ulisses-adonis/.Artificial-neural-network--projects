{
  "nbformat": 4,
  "nbformat_minor": 0,
  "metadata": {
    "colab": {
      "name": "RNN(LSTM)_série_temporal.ipynb",
      "provenance": [],
      "authorship_tag": "ABX9TyMQZUM0zAnPs8nM30LGiA6H",
      "include_colab_link": true
    },
    "kernelspec": {
      "name": "python3",
      "display_name": "Python 3"
    },
    "language_info": {
      "name": "python"
    }
  },
  "cells": [
    {
      "cell_type": "markdown",
      "metadata": {
        "id": "view-in-github",
        "colab_type": "text"
      },
      "source": [
        "<a href=\"https://colab.research.google.com/github/ulisses-adonis/.Artificial-neural-network--projects/blob/main/RNN(LSTM)_s%C3%A9rie_temporal.ipynb\" target=\"_parent\"><img src=\"https://colab.research.google.com/assets/colab-badge.svg\" alt=\"Open In Colab\"/></a>"
      ]
    },
    {
      "cell_type": "code",
      "metadata": {
        "id": "JuD2ZcebNZ6V"
      },
      "source": [
        "import pandas as pd\n",
        "import numpy as np\n",
        "\n",
        "import matplotlib.pyplot as plt\n",
        "%matplotlib inline"
      ],
      "execution_count": 4,
      "outputs": []
    },
    {
      "cell_type": "code",
      "metadata": {
        "colab": {
          "base_uri": "https://localhost:8080/"
        },
        "id": "bb7bPtmHN6EA",
        "outputId": "2ecac7e4-dd52-4b19-9f85-81160546b30e"
      },
      "source": [
        "#Linspace retorna números espaçados de modo uniforme em um intervalo. Dessa forma, dado um ponto inicial e de parada, assim como a quantidade de valores, \n",
        "# linspace irá distribuí-los uniformemente para você em uma matriz NumPy.\n",
        "x = np.linspace(0,50,501) # 0 = ponto de partida, 50 = ponto de parada, 501 = incremento\n",
        "x"
      ],
      "execution_count": 5,
      "outputs": [
        {
          "output_type": "execute_result",
          "data": {
            "text/plain": [
              "array([ 0. ,  0.1,  0.2,  0.3,  0.4,  0.5,  0.6,  0.7,  0.8,  0.9,  1. ,\n",
              "        1.1,  1.2,  1.3,  1.4,  1.5,  1.6,  1.7,  1.8,  1.9,  2. ,  2.1,\n",
              "        2.2,  2.3,  2.4,  2.5,  2.6,  2.7,  2.8,  2.9,  3. ,  3.1,  3.2,\n",
              "        3.3,  3.4,  3.5,  3.6,  3.7,  3.8,  3.9,  4. ,  4.1,  4.2,  4.3,\n",
              "        4.4,  4.5,  4.6,  4.7,  4.8,  4.9,  5. ,  5.1,  5.2,  5.3,  5.4,\n",
              "        5.5,  5.6,  5.7,  5.8,  5.9,  6. ,  6.1,  6.2,  6.3,  6.4,  6.5,\n",
              "        6.6,  6.7,  6.8,  6.9,  7. ,  7.1,  7.2,  7.3,  7.4,  7.5,  7.6,\n",
              "        7.7,  7.8,  7.9,  8. ,  8.1,  8.2,  8.3,  8.4,  8.5,  8.6,  8.7,\n",
              "        8.8,  8.9,  9. ,  9.1,  9.2,  9.3,  9.4,  9.5,  9.6,  9.7,  9.8,\n",
              "        9.9, 10. , 10.1, 10.2, 10.3, 10.4, 10.5, 10.6, 10.7, 10.8, 10.9,\n",
              "       11. , 11.1, 11.2, 11.3, 11.4, 11.5, 11.6, 11.7, 11.8, 11.9, 12. ,\n",
              "       12.1, 12.2, 12.3, 12.4, 12.5, 12.6, 12.7, 12.8, 12.9, 13. , 13.1,\n",
              "       13.2, 13.3, 13.4, 13.5, 13.6, 13.7, 13.8, 13.9, 14. , 14.1, 14.2,\n",
              "       14.3, 14.4, 14.5, 14.6, 14.7, 14.8, 14.9, 15. , 15.1, 15.2, 15.3,\n",
              "       15.4, 15.5, 15.6, 15.7, 15.8, 15.9, 16. , 16.1, 16.2, 16.3, 16.4,\n",
              "       16.5, 16.6, 16.7, 16.8, 16.9, 17. , 17.1, 17.2, 17.3, 17.4, 17.5,\n",
              "       17.6, 17.7, 17.8, 17.9, 18. , 18.1, 18.2, 18.3, 18.4, 18.5, 18.6,\n",
              "       18.7, 18.8, 18.9, 19. , 19.1, 19.2, 19.3, 19.4, 19.5, 19.6, 19.7,\n",
              "       19.8, 19.9, 20. , 20.1, 20.2, 20.3, 20.4, 20.5, 20.6, 20.7, 20.8,\n",
              "       20.9, 21. , 21.1, 21.2, 21.3, 21.4, 21.5, 21.6, 21.7, 21.8, 21.9,\n",
              "       22. , 22.1, 22.2, 22.3, 22.4, 22.5, 22.6, 22.7, 22.8, 22.9, 23. ,\n",
              "       23.1, 23.2, 23.3, 23.4, 23.5, 23.6, 23.7, 23.8, 23.9, 24. , 24.1,\n",
              "       24.2, 24.3, 24.4, 24.5, 24.6, 24.7, 24.8, 24.9, 25. , 25.1, 25.2,\n",
              "       25.3, 25.4, 25.5, 25.6, 25.7, 25.8, 25.9, 26. , 26.1, 26.2, 26.3,\n",
              "       26.4, 26.5, 26.6, 26.7, 26.8, 26.9, 27. , 27.1, 27.2, 27.3, 27.4,\n",
              "       27.5, 27.6, 27.7, 27.8, 27.9, 28. , 28.1, 28.2, 28.3, 28.4, 28.5,\n",
              "       28.6, 28.7, 28.8, 28.9, 29. , 29.1, 29.2, 29.3, 29.4, 29.5, 29.6,\n",
              "       29.7, 29.8, 29.9, 30. , 30.1, 30.2, 30.3, 30.4, 30.5, 30.6, 30.7,\n",
              "       30.8, 30.9, 31. , 31.1, 31.2, 31.3, 31.4, 31.5, 31.6, 31.7, 31.8,\n",
              "       31.9, 32. , 32.1, 32.2, 32.3, 32.4, 32.5, 32.6, 32.7, 32.8, 32.9,\n",
              "       33. , 33.1, 33.2, 33.3, 33.4, 33.5, 33.6, 33.7, 33.8, 33.9, 34. ,\n",
              "       34.1, 34.2, 34.3, 34.4, 34.5, 34.6, 34.7, 34.8, 34.9, 35. , 35.1,\n",
              "       35.2, 35.3, 35.4, 35.5, 35.6, 35.7, 35.8, 35.9, 36. , 36.1, 36.2,\n",
              "       36.3, 36.4, 36.5, 36.6, 36.7, 36.8, 36.9, 37. , 37.1, 37.2, 37.3,\n",
              "       37.4, 37.5, 37.6, 37.7, 37.8, 37.9, 38. , 38.1, 38.2, 38.3, 38.4,\n",
              "       38.5, 38.6, 38.7, 38.8, 38.9, 39. , 39.1, 39.2, 39.3, 39.4, 39.5,\n",
              "       39.6, 39.7, 39.8, 39.9, 40. , 40.1, 40.2, 40.3, 40.4, 40.5, 40.6,\n",
              "       40.7, 40.8, 40.9, 41. , 41.1, 41.2, 41.3, 41.4, 41.5, 41.6, 41.7,\n",
              "       41.8, 41.9, 42. , 42.1, 42.2, 42.3, 42.4, 42.5, 42.6, 42.7, 42.8,\n",
              "       42.9, 43. , 43.1, 43.2, 43.3, 43.4, 43.5, 43.6, 43.7, 43.8, 43.9,\n",
              "       44. , 44.1, 44.2, 44.3, 44.4, 44.5, 44.6, 44.7, 44.8, 44.9, 45. ,\n",
              "       45.1, 45.2, 45.3, 45.4, 45.5, 45.6, 45.7, 45.8, 45.9, 46. , 46.1,\n",
              "       46.2, 46.3, 46.4, 46.5, 46.6, 46.7, 46.8, 46.9, 47. , 47.1, 47.2,\n",
              "       47.3, 47.4, 47.5, 47.6, 47.7, 47.8, 47.9, 48. , 48.1, 48.2, 48.3,\n",
              "       48.4, 48.5, 48.6, 48.7, 48.8, 48.9, 49. , 49.1, 49.2, 49.3, 49.4,\n",
              "       49.5, 49.6, 49.7, 49.8, 49.9, 50. ])"
            ]
          },
          "metadata": {
            "tags": []
          },
          "execution_count": 5
        }
      ]
    },
    {
      "cell_type": "markdown",
      "metadata": {
        "id": "MgAtJ1efR4xC"
      },
      "source": [
        "Defino meu Y igual ao valor do seno naquele X em particular. Significa que posso  dizer que verei minha onda senoidal de 0 a 50. E após construir a  onda senoidal, devemos transformá-la em um DataFrame"
      ]
    },
    {
      "cell_type": "code",
      "metadata": {
        "colab": {
          "base_uri": "https://localhost:8080/",
          "height": 282
        },
        "id": "bTSkbOm9N6Ga",
        "outputId": "f984d77f-e338-4f6c-a22b-8bdf9d6301fa"
      },
      "source": [
        "y = np.sin(x)\n",
        "plt.plot(x,y)"
      ],
      "execution_count": 6,
      "outputs": [
        {
          "output_type": "execute_result",
          "data": {
            "text/plain": [
              "[<matplotlib.lines.Line2D at 0x7f84a082c050>]"
            ]
          },
          "metadata": {
            "tags": []
          },
          "execution_count": 6
        },
        {
          "output_type": "display_data",
          "data": {
            "image/png": "[encoded data removed]",
            "text/plain": [
              "<Figure size 432x288 with 1 Axes>"
            ]
          },
          "metadata": {
            "tags": [],
            "needs_background": "light"
          }
        }
      ]
    },
    {
      "cell_type": "code",
      "metadata": {
        "colab": {
          "base_uri": "https://localhost:8080/",
          "height": 419
        },
        "id": "mfCfqHK7N6I_",
        "outputId": "c57fd5b4-337a-46a2-fe19-5715336af7e4"
      },
      "source": [
        "df = pd.DataFrame (data = y, index =x, columns = ['Seno'])\n",
        "df\n"
      ],
      "execution_count": 7,
      "outputs": [
        {
          "output_type": "execute_result",
          "data": {
            "text/html": [
              "<div>\n",
              "<style scoped>\n",
              "    .dataframe tbody tr th:only-of-type {\n",
              "        vertical-align: middle;\n",
              "    }\n",
              "\n",
              "    .dataframe tbody tr th {\n",
              "        vertical-align: top;\n",
              "    }\n",
              "\n",
              "    .dataframe thead th {\n",
              "        text-align: right;\n",
              "    }\n",
              "</style>\n",
              "<table border=\"1\" class=\"dataframe\">\n",
              "  <thead>\n",
              "    <tr style=\"text-align: right;\">\n",
              "      <th></th>\n",
              "      <th>Seno</th>\n",
              "    </tr>\n",
              "  </thead>\n",
              "  <tbody>\n",
              "    <tr>\n",
              "      <th>0.0</th>\n",
              "      <td>0.000000</td>\n",
              "    </tr>\n",
              "    <tr>\n",
              "      <th>0.1</th>\n",
              "      <td>0.099833</td>\n",
              "    </tr>\n",
              "    <tr>\n",
              "      <th>0.2</th>\n",
              "      <td>0.198669</td>\n",
              "    </tr>\n",
              "    <tr>\n",
              "      <th>0.3</th>\n",
              "      <td>0.295520</td>\n",
              "    </tr>\n",
              "    <tr>\n",
              "      <th>0.4</th>\n",
              "      <td>0.389418</td>\n",
              "    </tr>\n",
              "    <tr>\n",
              "      <th>...</th>\n",
              "      <td>...</td>\n",
              "    </tr>\n",
              "    <tr>\n",
              "      <th>49.6</th>\n",
              "      <td>-0.617439</td>\n",
              "    </tr>\n",
              "    <tr>\n",
              "      <th>49.7</th>\n",
              "      <td>-0.535823</td>\n",
              "    </tr>\n",
              "    <tr>\n",
              "      <th>49.8</th>\n",
              "      <td>-0.448854</td>\n",
              "    </tr>\n",
              "    <tr>\n",
              "      <th>49.9</th>\n",
              "      <td>-0.357400</td>\n",
              "    </tr>\n",
              "    <tr>\n",
              "      <th>50.0</th>\n",
              "      <td>-0.262375</td>\n",
              "    </tr>\n",
              "  </tbody>\n",
              "</table>\n",
              "<p>501 rows × 1 columns</p>\n",
              "</div>"
            ],
            "text/plain": [
              "          Seno\n",
              "0.0   0.000000\n",
              "0.1   0.099833\n",
              "0.2   0.198669\n",
              "0.3   0.295520\n",
              "0.4   0.389418\n",
              "...        ...\n",
              "49.6 -0.617439\n",
              "49.7 -0.535823\n",
              "49.8 -0.448854\n",
              "49.9 -0.357400\n",
              "50.0 -0.262375\n",
              "\n",
              "[501 rows x 1 columns]"
            ]
          },
          "metadata": {
            "tags": []
          },
          "execution_count": 7
        }
      ]
    },
    {
      "cell_type": "code",
      "metadata": {
        "colab": {
          "base_uri": "https://localhost:8080/"
        },
        "id": "y0oJtr-dN6Lk",
        "outputId": "9108f257-1579-4049-9398-414b322f8282"
      },
      "source": [
        "len(df)"
      ],
      "execution_count": 8,
      "outputs": [
        {
          "output_type": "execute_result",
          "data": {
            "text/plain": [
              "501"
            ]
          },
          "metadata": {
            "tags": []
          },
          "execution_count": 8
        }
      ]
    },
    {
      "cell_type": "code",
      "metadata": {
        "colab": {
          "base_uri": "https://localhost:8080/"
        },
        "id": "uWRe_f_KN6Ol",
        "outputId": "7b04b238-921a-4076-f000-905d1496023d"
      },
      "source": [
        "test_percent=0.1\n",
        "len(df)*test_percent"
      ],
      "execution_count": 9,
      "outputs": [
        {
          "output_type": "execute_result",
          "data": {
            "text/plain": [
              "50.1"
            ]
          },
          "metadata": {
            "tags": []
          },
          "execution_count": 9
        }
      ]
    },
    {
      "cell_type": "markdown",
      "metadata": {
        "id": "mt3OGLY7wmQF"
      },
      "source": [
        "Aqui eu decidi a porcentagem do  meu conjunto de dados que seria usado para o conjunto de teste."
      ]
    },
    {
      "cell_type": "code",
      "metadata": {
        "colab": {
          "base_uri": "https://localhost:8080/"
        },
        "id": "pf-eMLEJw7Gj",
        "outputId": "65d78929-3642-4f55-d5e4-26c7ebf866dd"
      },
      "source": [
        "# np.round: Arredonda uma matriz para o número de decimais fornecido\n",
        "test_point= np.round(len(df)*test_percent)\n",
        "test_point"
      ],
      "execution_count": 10,
      "outputs": [
        {
          "output_type": "execute_result",
          "data": {
            "text/plain": [
              "50.0"
            ]
          },
          "metadata": {
            "tags": []
          },
          "execution_count": 10
        }
      ]
    },
    {
      "cell_type": "code",
      "metadata": {
        "colab": {
          "base_uri": "https://localhost:8080/"
        },
        "id": "fL3FP7mHN6RG",
        "outputId": "09ad3cb6-f7b6-4d2a-88a0-bc4d57eda04a"
      },
      "source": [
        "test_ind = int(len(df)-test_point)\n",
        "test_ind\n"
      ],
      "execution_count": 11,
      "outputs": [
        {
          "output_type": "execute_result",
          "data": {
            "text/plain": [
              "451"
            ]
          },
          "metadata": {
            "tags": []
          },
          "execution_count": 11
        }
      ]
    },
    {
      "cell_type": "markdown",
      "metadata": {
        "id": "QXSB1hOV36Kg"
      },
      "source": [
        "Eu  arredondei o valor para um número inteiro para que futuramente eu  pudesse usa-lo para uma indexação.\n",
        "Abaixo eu defino meu conjunto de dados de treinamento, onde usaremos um corte para indicar  que meu conjunto de treino começe na primeira linha  do conjunto df até  \"test_ind\", mas não o inclua. E meu conjunto de teste comece em \"test_ind\" e vá até o final."
      ]
    },
    {
      "cell_type": "code",
      "metadata": {
        "id": "53YPrGq1N6Tj"
      },
      "source": [
        "# iloc: Indexação puramente baseada em localização de números inteiros para seleção por posição. \n",
        "#df.iloc( :,X)pega todas linhas da tabela, até o limite x\n",
        "train = df.iloc[:test_ind]\n",
        "test = df.iloc[test_ind:]"
      ],
      "execution_count": 12,
      "outputs": []
    },
    {
      "cell_type": "code",
      "metadata": {
        "colab": {
          "base_uri": "https://localhost:8080/",
          "height": 419
        },
        "id": "0f1BUESIN6WX",
        "outputId": "6b65032b-1686-4439-85ae-1a9509e3374a"
      },
      "source": [
        "train"
      ],
      "execution_count": 13,
      "outputs": [
        {
          "output_type": "execute_result",
          "data": {
            "text/html": [
              "<div>\n",
              "<style scoped>\n",
              "    .dataframe tbody tr th:only-of-type {\n",
              "        vertical-align: middle;\n",
              "    }\n",
              "\n",
              "    .dataframe tbody tr th {\n",
              "        vertical-align: top;\n",
              "    }\n",
              "\n",
              "    .dataframe thead th {\n",
              "        text-align: right;\n",
              "    }\n",
              "</style>\n",
              "<table border=\"1\" class=\"dataframe\">\n",
              "  <thead>\n",
              "    <tr style=\"text-align: right;\">\n",
              "      <th></th>\n",
              "      <th>Seno</th>\n",
              "    </tr>\n",
              "  </thead>\n",
              "  <tbody>\n",
              "    <tr>\n",
              "      <th>0.0</th>\n",
              "      <td>0.000000</td>\n",
              "    </tr>\n",
              "    <tr>\n",
              "      <th>0.1</th>\n",
              "      <td>0.099833</td>\n",
              "    </tr>\n",
              "    <tr>\n",
              "      <th>0.2</th>\n",
              "      <td>0.198669</td>\n",
              "    </tr>\n",
              "    <tr>\n",
              "      <th>0.3</th>\n",
              "      <td>0.295520</td>\n",
              "    </tr>\n",
              "    <tr>\n",
              "      <th>0.4</th>\n",
              "      <td>0.389418</td>\n",
              "    </tr>\n",
              "    <tr>\n",
              "      <th>...</th>\n",
              "      <td>...</td>\n",
              "    </tr>\n",
              "    <tr>\n",
              "      <th>44.6</th>\n",
              "      <td>0.579164</td>\n",
              "    </tr>\n",
              "    <tr>\n",
              "      <th>44.7</th>\n",
              "      <td>0.657656</td>\n",
              "    </tr>\n",
              "    <tr>\n",
              "      <th>44.8</th>\n",
              "      <td>0.729577</td>\n",
              "    </tr>\n",
              "    <tr>\n",
              "      <th>44.9</th>\n",
              "      <td>0.794208</td>\n",
              "    </tr>\n",
              "    <tr>\n",
              "      <th>45.0</th>\n",
              "      <td>0.850904</td>\n",
              "    </tr>\n",
              "  </tbody>\n",
              "</table>\n",
              "<p>451 rows × 1 columns</p>\n",
              "</div>"
            ],
            "text/plain": [
              "          Seno\n",
              "0.0   0.000000\n",
              "0.1   0.099833\n",
              "0.2   0.198669\n",
              "0.3   0.295520\n",
              "0.4   0.389418\n",
              "...        ...\n",
              "44.6  0.579164\n",
              "44.7  0.657656\n",
              "44.8  0.729577\n",
              "44.9  0.794208\n",
              "45.0  0.850904\n",
              "\n",
              "[451 rows x 1 columns]"
            ]
          },
          "metadata": {
            "tags": []
          },
          "execution_count": 13
        }
      ]
    },
    {
      "cell_type": "code",
      "metadata": {
        "colab": {
          "base_uri": "https://localhost:8080/",
          "height": 1000
        },
        "id": "C0nIMlpmN6ZB",
        "outputId": "3b9e3ee5-1935-4ab7-f548-6cc1e805bdac"
      },
      "source": [
        "test"
      ],
      "execution_count": 14,
      "outputs": [
        {
          "output_type": "execute_result",
          "data": {
            "text/html": [
              "<div>\n",
              "<style scoped>\n",
              "    .dataframe tbody tr th:only-of-type {\n",
              "        vertical-align: middle;\n",
              "    }\n",
              "\n",
              "    .dataframe tbody tr th {\n",
              "        vertical-align: top;\n",
              "    }\n",
              "\n",
              "    .dataframe thead th {\n",
              "        text-align: right;\n",
              "    }\n",
              "</style>\n",
              "<table border=\"1\" class=\"dataframe\">\n",
              "  <thead>\n",
              "    <tr style=\"text-align: right;\">\n",
              "      <th></th>\n",
              "      <th>Seno</th>\n",
              "    </tr>\n",
              "  </thead>\n",
              "  <tbody>\n",
              "    <tr>\n",
              "      <th>45.1</th>\n",
              "      <td>0.899097</td>\n",
              "    </tr>\n",
              "    <tr>\n",
              "      <th>45.2</th>\n",
              "      <td>0.938307</td>\n",
              "    </tr>\n",
              "    <tr>\n",
              "      <th>45.3</th>\n",
              "      <td>0.968142</td>\n",
              "    </tr>\n",
              "    <tr>\n",
              "      <th>45.4</th>\n",
              "      <td>0.988304</td>\n",
              "    </tr>\n",
              "    <tr>\n",
              "      <th>45.5</th>\n",
              "      <td>0.998591</td>\n",
              "    </tr>\n",
              "    <tr>\n",
              "      <th>45.6</th>\n",
              "      <td>0.998900</td>\n",
              "    </tr>\n",
              "    <tr>\n",
              "      <th>45.7</th>\n",
              "      <td>0.989229</td>\n",
              "    </tr>\n",
              "    <tr>\n",
              "      <th>45.8</th>\n",
              "      <td>0.969673</td>\n",
              "    </tr>\n",
              "    <tr>\n",
              "      <th>45.9</th>\n",
              "      <td>0.940429</td>\n",
              "    </tr>\n",
              "    <tr>\n",
              "      <th>46.0</th>\n",
              "      <td>0.901788</td>\n",
              "    </tr>\n",
              "    <tr>\n",
              "      <th>46.1</th>\n",
              "      <td>0.854137</td>\n",
              "    </tr>\n",
              "    <tr>\n",
              "      <th>46.2</th>\n",
              "      <td>0.797952</td>\n",
              "    </tr>\n",
              "    <tr>\n",
              "      <th>46.3</th>\n",
              "      <td>0.733794</td>\n",
              "    </tr>\n",
              "    <tr>\n",
              "      <th>46.4</th>\n",
              "      <td>0.662304</td>\n",
              "    </tr>\n",
              "    <tr>\n",
              "      <th>46.5</th>\n",
              "      <td>0.584197</td>\n",
              "    </tr>\n",
              "    <tr>\n",
              "      <th>46.6</th>\n",
              "      <td>0.500252</td>\n",
              "    </tr>\n",
              "    <tr>\n",
              "      <th>46.7</th>\n",
              "      <td>0.411309</td>\n",
              "    </tr>\n",
              "    <tr>\n",
              "      <th>46.8</th>\n",
              "      <td>0.318257</td>\n",
              "    </tr>\n",
              "    <tr>\n",
              "      <th>46.9</th>\n",
              "      <td>0.222024</td>\n",
              "    </tr>\n",
              "    <tr>\n",
              "      <th>47.0</th>\n",
              "      <td>0.123573</td>\n",
              "    </tr>\n",
              "    <tr>\n",
              "      <th>47.1</th>\n",
              "      <td>0.023888</td>\n",
              "    </tr>\n",
              "    <tr>\n",
              "      <th>47.2</th>\n",
              "      <td>-0.076037</td>\n",
              "    </tr>\n",
              "    <tr>\n",
              "      <th>47.3</th>\n",
              "      <td>-0.175201</td>\n",
              "    </tr>\n",
              "    <tr>\n",
              "      <th>47.4</th>\n",
              "      <td>-0.272615</td>\n",
              "    </tr>\n",
              "    <tr>\n",
              "      <th>47.5</th>\n",
              "      <td>-0.367305</td>\n",
              "    </tr>\n",
              "    <tr>\n",
              "      <th>47.6</th>\n",
              "      <td>-0.458325</td>\n",
              "    </tr>\n",
              "    <tr>\n",
              "      <th>47.7</th>\n",
              "      <td>-0.544766</td>\n",
              "    </tr>\n",
              "    <tr>\n",
              "      <th>47.8</th>\n",
              "      <td>-0.625764</td>\n",
              "    </tr>\n",
              "    <tr>\n",
              "      <th>47.9</th>\n",
              "      <td>-0.700509</td>\n",
              "    </tr>\n",
              "    <tr>\n",
              "      <th>48.0</th>\n",
              "      <td>-0.768255</td>\n",
              "    </tr>\n",
              "    <tr>\n",
              "      <th>48.1</th>\n",
              "      <td>-0.828324</td>\n",
              "    </tr>\n",
              "    <tr>\n",
              "      <th>48.2</th>\n",
              "      <td>-0.880118</td>\n",
              "    </tr>\n",
              "    <tr>\n",
              "      <th>48.3</th>\n",
              "      <td>-0.923117</td>\n",
              "    </tr>\n",
              "    <tr>\n",
              "      <th>48.4</th>\n",
              "      <td>-0.956893</td>\n",
              "    </tr>\n",
              "    <tr>\n",
              "      <th>48.5</th>\n",
              "      <td>-0.981108</td>\n",
              "    </tr>\n",
              "    <tr>\n",
              "      <th>48.6</th>\n",
              "      <td>-0.995521</td>\n",
              "    </tr>\n",
              "    <tr>\n",
              "      <th>48.7</th>\n",
              "      <td>-0.999986</td>\n",
              "    </tr>\n",
              "    <tr>\n",
              "      <th>48.8</th>\n",
              "      <td>-0.994460</td>\n",
              "    </tr>\n",
              "    <tr>\n",
              "      <th>48.9</th>\n",
              "      <td>-0.978997</td>\n",
              "    </tr>\n",
              "    <tr>\n",
              "      <th>49.0</th>\n",
              "      <td>-0.953753</td>\n",
              "    </tr>\n",
              "    <tr>\n",
              "      <th>49.1</th>\n",
              "      <td>-0.918979</td>\n",
              "    </tr>\n",
              "    <tr>\n",
              "      <th>49.2</th>\n",
              "      <td>-0.875023</td>\n",
              "    </tr>\n",
              "    <tr>\n",
              "      <th>49.3</th>\n",
              "      <td>-0.822324</td>\n",
              "    </tr>\n",
              "    <tr>\n",
              "      <th>49.4</th>\n",
              "      <td>-0.761408</td>\n",
              "    </tr>\n",
              "    <tr>\n",
              "      <th>49.5</th>\n",
              "      <td>-0.692885</td>\n",
              "    </tr>\n",
              "    <tr>\n",
              "      <th>49.6</th>\n",
              "      <td>-0.617439</td>\n",
              "    </tr>\n",
              "    <tr>\n",
              "      <th>49.7</th>\n",
              "      <td>-0.535823</td>\n",
              "    </tr>\n",
              "    <tr>\n",
              "      <th>49.8</th>\n",
              "      <td>-0.448854</td>\n",
              "    </tr>\n",
              "    <tr>\n",
              "      <th>49.9</th>\n",
              "      <td>-0.357400</td>\n",
              "    </tr>\n",
              "    <tr>\n",
              "      <th>50.0</th>\n",
              "      <td>-0.262375</td>\n",
              "    </tr>\n",
              "  </tbody>\n",
              "</table>\n",
              "</div>"
            ],
            "text/plain": [
              "          Seno\n",
              "45.1  0.899097\n",
              "45.2  0.938307\n",
              "45.3  0.968142\n",
              "45.4  0.988304\n",
              "45.5  0.998591\n",
              "45.6  0.998900\n",
              "45.7  0.989229\n",
              "45.8  0.969673\n",
              "45.9  0.940429\n",
              "46.0  0.901788\n",
              "46.1  0.854137\n",
              "46.2  0.797952\n",
              "46.3  0.733794\n",
              "46.4  0.662304\n",
              "46.5  0.584197\n",
              "46.6  0.500252\n",
              "46.7  0.411309\n",
              "46.8  0.318257\n",
              "46.9  0.222024\n",
              "47.0  0.123573\n",
              "47.1  0.023888\n",
              "47.2 -0.076037\n",
              "47.3 -0.175201\n",
              "47.4 -0.272615\n",
              "47.5 -0.367305\n",
              "47.6 -0.458325\n",
              "47.7 -0.544766\n",
              "47.8 -0.625764\n",
              "47.9 -0.700509\n",
              "48.0 -0.768255\n",
              "48.1 -0.828324\n",
              "48.2 -0.880118\n",
              "48.3 -0.923117\n",
              "48.4 -0.956893\n",
              "48.5 -0.981108\n",
              "48.6 -0.995521\n",
              "48.7 -0.999986\n",
              "48.8 -0.994460\n",
              "48.9 -0.978997\n",
              "49.0 -0.953753\n",
              "49.1 -0.918979\n",
              "49.2 -0.875023\n",
              "49.3 -0.822324\n",
              "49.4 -0.761408\n",
              "49.5 -0.692885\n",
              "49.6 -0.617439\n",
              "49.7 -0.535823\n",
              "49.8 -0.448854\n",
              "49.9 -0.357400\n",
              "50.0 -0.262375"
            ]
          },
          "metadata": {
            "tags": []
          },
          "execution_count": 14
        }
      ]
    },
    {
      "cell_type": "markdown",
      "metadata": {
        "id": "_2z7-8ut_R1F"
      },
      "source": [
        "A próxima etapa é escalar os dados , porém , as coisas serão um pouco diferentes do que o que eu fiz em minhas redes neurais artificiais por causa da maneira como as redes neurais recorrentes alimentam os dados produzindos de volta os neurônios."
      ]
    },
    {
      "cell_type": "code",
      "metadata": {
        "id": "xAYxcWFCN6bz"
      },
      "source": [
        "from sklearn.preprocessing import MinMaxScaler"
      ],
      "execution_count": 15,
      "outputs": []
    },
    {
      "cell_type": "code",
      "metadata": {
        "id": "Mzh_k6bON6ek"
      },
      "source": [
        "scaler = MinMaxScaler()"
      ],
      "execution_count": 16,
      "outputs": []
    },
    {
      "cell_type": "code",
      "metadata": {
        "colab": {
          "base_uri": "https://localhost:8080/"
        },
        "id": "QK45O3tGAU1J",
        "outputId": "c6d2c9e0-3ac0-4c8f-8cfa-f0dd21946863"
      },
      "source": [
        "scaler.fit(train)"
      ],
      "execution_count": 17,
      "outputs": [
        {
          "output_type": "execute_result",
          "data": {
            "text/plain": [
              "MinMaxScaler(copy=True, feature_range=(0, 1))"
            ]
          },
          "metadata": {
            "tags": []
          },
          "execution_count": 17
        }
      ]
    },
    {
      "cell_type": "code",
      "metadata": {
        "colab": {
          "base_uri": "https://localhost:8080/"
        },
        "id": "ZFSRvWJmAXy2",
        "outputId": "694170d2-e774-466e-a48e-b1c9221b4ae8"
      },
      "source": [
        "scaled_train = scaler.transform(train)\n",
        "len(scaled_train)"
      ],
      "execution_count": 18,
      "outputs": [
        {
          "output_type": "execute_result",
          "data": {
            "text/plain": [
              "451"
            ]
          },
          "metadata": {
            "tags": []
          },
          "execution_count": 18
        }
      ]
    },
    {
      "cell_type": "code",
      "metadata": {
        "colab": {
          "base_uri": "https://localhost:8080/"
        },
        "id": "qpTTfTaDGpB2",
        "outputId": "a980591c-b167-42da-d476-c9f23cd2c0eb"
      },
      "source": [
        "scaled_test = scaler.transform(test)\n",
        "len(scaled_test)"
      ],
      "execution_count": 19,
      "outputs": [
        {
          "output_type": "execute_result",
          "data": {
            "text/plain": [
              "50"
            ]
          },
          "metadata": {
            "tags": []
          },
          "execution_count": 19
        }
      ]
    },
    {
      "cell_type": "code",
      "metadata": {
        "id": "vnhg8hJhA0LZ"
      },
      "source": [
        "from tensorflow.keras.preprocessing.sequence import TimeseriesGenerator\n",
        "#help (TimeseriesGenerator)"
      ],
      "execution_count": 20,
      "outputs": []
    },
    {
      "cell_type": "markdown",
      "metadata": {
        "id": "wJlTVsBlFi8z"
      },
      "source": [
        "Basicamente, trata-se de uma classe do tensorflow muito útil que gera  lotes ( bacthes)  para essa sequência de dados. \n",
        "\n",
        "**TEORIA** : Os dados da série temporal devem ser transformados em uma estrutura de amostras com componentes de entrada e saída antes que possam ser usados ​​para se ajustar a um modelo de aprendizado supervisionado. Isso pode ser desafiador se você tiver que realizar essa transformação manualmente. A biblioteca de aprendizado profundo Keras fornece o TimeseriesGenerator para transformar automaticamente dados univariados e multivariados de séries temporais, em amostras prontas para treinar modelos de aprendizado profundo.\n",
        "\n",
        "A série temporal deve ser transformada em amostras com componentes de entrada e saída. A transformação informa o que o modelo aprenderá e como você pretende usar o modelo no futuro ao fazer previsões, por exemplo, o que é necessário para fazer uma previsão (X) e qual previsão é feita (y).\n",
        "\n",
        "Para uma série temporal univariada interessada em previsões de uma etapa, as observações em etapas de tempo anteriores, as chamadas observações de atraso, são usadas como entrada e a saída é a observação na etapa de tempo atual."
      ]
    },
    {
      "cell_type": "code",
      "metadata": {
        "id": "jHiKnhc6Ax4l"
      },
      "source": [
        "length = 50\n",
        "#batch_size: o número de amostras a serem retornadas em cada iteração (por exemplo, 3).\n",
        "batch_size = 1 \n",
        "\n",
        "# Agora, nós criamos nosso gerador definindo nossa fonte de nossos dados.\n",
        "generator = TimeseriesGenerator(scaled_train, scaled_train, length=length , batch_size=batch_size )"
      ],
      "execution_count": 21,
      "outputs": []
    },
    {
      "cell_type": "markdown",
      "metadata": {
        "id": "kBBlcYGRA1vB"
      },
      "source": [
        "Tanto pra X quanto para Y, eu usei o conjunto de dados \"scaled_train\". "
      ]
    },
    {
      "cell_type": "code",
      "metadata": {
        "colab": {
          "base_uri": "https://localhost:8080/"
        },
        "id": "kzmkejVTOtQo",
        "outputId": "403f3e4c-5a5b-4b8b-932f-60fc4af9e7ef"
      },
      "source": [
        "len(scaled_train)"
      ],
      "execution_count": 22,
      "outputs": [
        {
          "output_type": "execute_result",
          "data": {
            "text/plain": [
              "451"
            ]
          },
          "metadata": {
            "tags": []
          },
          "execution_count": 22
        }
      ]
    },
    {
      "cell_type": "code",
      "metadata": {
        "colab": {
          "base_uri": "https://localhost:8080/"
        },
        "id": "87cvZ-RyJCyh",
        "outputId": "d5fcc331-ffbf-4997-d6b4-925146cf3674"
      },
      "source": [
        "#Nosso objeto gerador é 449 ( generator - length)  \n",
        "len(generator)"
      ],
      "execution_count": 23,
      "outputs": [
        {
          "output_type": "execute_result",
          "data": {
            "text/plain": [
              "401"
            ]
          },
          "metadata": {
            "tags": []
          },
          "execution_count": 23
        }
      ]
    },
    {
      "cell_type": "code",
      "metadata": {
        "id": "K8vl2AIBPeUA"
      },
      "source": [
        "X,y = generator [0]"
      ],
      "execution_count": 24,
      "outputs": []
    },
    {
      "cell_type": "code",
      "metadata": {
        "colab": {
          "base_uri": "https://localhost:8080/"
        },
        "id": "xywQBT7BxS12",
        "outputId": "2debfa16-1c89-42c8-fdb0-62763f71e1d5"
      },
      "source": [
        "X"
      ],
      "execution_count": 25,
      "outputs": [
        {
          "output_type": "execute_result",
          "data": {
            "text/plain": [
              "array([[[4.99999116e-01],\n",
              "        [5.49916225e-01],\n",
              "        [5.99334579e-01],\n",
              "        [6.47760405e-01],\n",
              "        [6.94709850e-01],\n",
              "        [7.39713809e-01],\n",
              "        [7.82322618e-01],\n",
              "        [8.22110545e-01],\n",
              "        [8.58680040e-01],\n",
              "        [8.91665714e-01],\n",
              "        [9.20737985e-01],\n",
              "        [9.45606372e-01],\n",
              "        [9.66022399e-01],\n",
              "        [9.81782075e-01],\n",
              "        [9.92727935e-01],\n",
              "        [9.98750612e-01],\n",
              "        [9.99789928e-01],\n",
              "        [9.95835500e-01],\n",
              "        [9.86926839e-01],\n",
              "        [9.73152957e-01],\n",
              "        [9.54651478e-01],\n",
              "        [9.31607263e-01],\n",
              "        [9.04250562e-01],\n",
              "        [8.72854714e-01],\n",
              "        [8.37733417e-01],\n",
              "        [7.99237589e-01],\n",
              "        [7.57751870e-01],\n",
              "        [7.13690771e-01],\n",
              "        [6.67494535e-01],\n",
              "        [6.19624741e-01],\n",
              "        [5.70559686e-01],\n",
              "        [5.20789614e-01],\n",
              "        [4.70811810e-01],\n",
              "        [4.21125636e-01],\n",
              "        [3.72227539e-01],\n",
              "        [3.24606094e-01],\n",
              "        [2.78737119e-01],\n",
              "        [2.35078919e-01],\n",
              "        [1.94067715e-01],\n",
              "        [1.56113277e-01],\n",
              "        [1.21594831e-01],\n",
              "        [9.08572769e-02],\n",
              "        [6.42077324e-02],\n",
              "        [4.19124713e-02],\n",
              "        [2.41942605e-02],\n",
              "        [1.12301346e-02],\n",
              "        [3.14962674e-03],\n",
              "        [3.34747619e-05],\n",
              "        [1.91281421e-03],\n",
              "        [8.76886734e-03]]])"
            ]
          },
          "metadata": {
            "tags": []
          },
          "execution_count": 25
        }
      ]
    },
    {
      "cell_type": "code",
      "metadata": {
        "colab": {
          "base_uri": "https://localhost:8080/"
        },
        "id": "SubAcJnR6OaC",
        "outputId": "844fb8b1-f99a-4ec5-a94e-1f99839b2f60"
      },
      "source": [
        "y"
      ],
      "execution_count": 26,
      "outputs": [
        {
          "output_type": "execute_result",
          "data": {
            "text/plain": [
              "array([[0.02053313]])"
            ]
          },
          "metadata": {
            "tags": []
          },
          "execution_count": 26
        }
      ]
    },
    {
      "cell_type": "markdown",
      "metadata": {
        "id": "GdsAVBGu6bau"
      },
      "source": [
        "###**Observação:** No primeiro teste, eu usei length =4\n",
        "\n",
        "#### Então, o que esses valores realmente significam: Essencialmente, o que vamos dizer ao nosso modelo de rede neural recorrente é :  dado esses dois pontos ( x = 0.94 e x= 0.98) em uma linha, tente prever este terceiro ponto ( y = 0.98) e você notará que os primeiros três números\n",
        "#### Se olharmos o conjunto abaixo, scaled_train, podemos ver que os dois primeiros números representam o conjunto X e o terceiroé o Y. \n"
      ]
    },
    {
      "cell_type": "code",
      "metadata": {
        "colab": {
          "base_uri": "https://localhost:8080/"
        },
        "id": "gwGPIReY6PGc",
        "outputId": "656577a8-dbb9-4a25-a66c-0974254b8fbb"
      },
      "source": [
        "scaled_train"
      ],
      "execution_count": 27,
      "outputs": [
        {
          "output_type": "execute_result",
          "data": {
            "text/plain": [
              "array([[4.99999116e-01],\n",
              "       [5.49916225e-01],\n",
              "       [5.99334579e-01],\n",
              "       [6.47760405e-01],\n",
              "       [6.94709850e-01],\n",
              "       [7.39713809e-01],\n",
              "       [7.82322618e-01],\n",
              "       [8.22110545e-01],\n",
              "       [8.58680040e-01],\n",
              "       [8.91665714e-01],\n",
              "       [9.20737985e-01],\n",
              "       [9.45606372e-01],\n",
              "       [9.66022399e-01],\n",
              "       [9.81782075e-01],\n",
              "       [9.92727935e-01],\n",
              "       [9.98750612e-01],\n",
              "       [9.99789928e-01],\n",
              "       [9.95835500e-01],\n",
              "       [9.86926839e-01],\n",
              "       [9.73152957e-01],\n",
              "       [9.54651478e-01],\n",
              "       [9.31607263e-01],\n",
              "       [9.04250562e-01],\n",
              "       [8.72854714e-01],\n",
              "       [8.37733417e-01],\n",
              "       [7.99237589e-01],\n",
              "       [7.57751870e-01],\n",
              "       [7.13690771e-01],\n",
              "       [6.67494535e-01],\n",
              "       [6.19624741e-01],\n",
              "       [5.70559686e-01],\n",
              "       [5.20789614e-01],\n",
              "       [4.70811810e-01],\n",
              "       [4.21125636e-01],\n",
              "       [3.72227539e-01],\n",
              "       [3.24606094e-01],\n",
              "       [2.78737119e-01],\n",
              "       [2.35078919e-01],\n",
              "       [1.94067715e-01],\n",
              "       [1.56113277e-01],\n",
              "       [1.21594831e-01],\n",
              "       [9.08572769e-02],\n",
              "       [6.42077324e-02],\n",
              "       [4.19124713e-02],\n",
              "       [2.41942605e-02],\n",
              "       [1.12301346e-02],\n",
              "       [3.14962674e-03],\n",
              "       [3.34747619e-05],\n",
              "       [1.91281421e-03],\n",
              "       [8.76886734e-03],\n",
              "       [2.05331307e-02],\n",
              "       [3.70880598e-02],\n",
              "       [5.82682430e-02],\n",
              "       [8.38620552e-02],\n",
              "       [1.13613771e-01],\n",
              "       [1.47226122e-01],\n",
              "       [1.84363264e-01],\n",
              "       [2.24654135e-01],\n",
              "       [2.67696162e-01],\n",
              "       [3.13059283e-01],\n",
              "       [3.60290246e-01],\n",
              "       [4.08917133e-01],\n",
              "       [4.58454081e-01],\n",
              "       [5.08406134e-01],\n",
              "       [5.58274186e-01],\n",
              "       [6.07559973e-01],\n",
              "       [6.55771048e-01],\n",
              "       [7.02425701e-01],\n",
              "       [7.47057774e-01],\n",
              "       [7.89221319e-01],\n",
              "       [8.28495052e-01],\n",
              "       [8.64486561e-01],\n",
              "       [8.96836233e-01],\n",
              "       [9.25220839e-01],\n",
              "       [9.49356770e-01],\n",
              "       [9.69002868e-01],\n",
              "       [9.83962836e-01],\n",
              "       [9.94087198e-01],\n",
              "       [9.99274795e-01],\n",
              "       [9.99473795e-01],\n",
              "       [9.94682209e-01],\n",
              "       [9.84947913e-01],\n",
              "       [9.70368169e-01],\n",
              "       [9.51088653e-01],\n",
              "       [9.27301999e-01],\n",
              "       [8.99245876e-01],\n",
              "       [8.67200612e-01],\n",
              "       [8.31486391e-01],\n",
              "       [7.92460059e-01],\n",
              "       [7.50511555e-01],\n",
              "       [7.06060012e-01],\n",
              "       [6.59549578e-01],\n",
              "       [6.11444967e-01],\n",
              "       [5.62226827e-01],\n",
              "       [5.12386928e-01],\n",
              "       [4.62423254e-01],\n",
              "       [4.12835026e-01],\n",
              "       [3.64117712e-01],\n",
              "       [3.16758081e-01],\n",
              "       [2.71229333e-01],\n",
              "       [2.27986377e-01],\n",
              "       [1.87461283e-01],\n",
              "       [1.50058964e-01],\n",
              "       [1.16153131e-01],\n",
              "       [8.60825596e-02],\n",
              "       [6.01477060e-02],\n",
              "       [3.86077023e-02],\n",
              "       [2.16777691e-02],\n",
              "       [9.52706470e-03],\n",
              "       [2.27699490e-03],\n",
              "       [0.00000000e+00],\n",
              "       [2.71883099e-03],\n",
              "       [1.04063222e-02],\n",
              "       [2.29856628e-02],\n",
              "       [4.03311641e-02],\n",
              "       [6.22695157e-02],\n",
              "       [8.85815167e-02],\n",
              "       [1.19004266e-01],\n",
              "       [1.53233791e-01],\n",
              "       [1.90928079e-01],\n",
              "       [2.31710504e-01],\n",
              "       [2.75173579e-01],\n",
              "       [3.20883037e-01],\n",
              "       [3.68382164e-01],\n",
              "       [4.17196364e-01],\n",
              "       [4.66837901e-01],\n",
              "       [5.16810774e-01],\n",
              "       [5.66615671e-01],\n",
              "       [6.15754957e-01],\n",
              "       [6.63737650e-01],\n",
              "       [7.10084320e-01],\n",
              "       [7.54331889e-01],\n",
              "       [7.96038249e-01],\n",
              "       [8.34786684e-01],\n",
              "       [8.70190032e-01],\n",
              "       [9.01894555e-01],\n",
              "       [9.29583471e-01],\n",
              "       [9.52980122e-01],\n",
              "       [9.71850737e-01],\n",
              "       [9.86006767e-01],\n",
              "       [9.95306769e-01],\n",
              "       [9.99657820e-01],\n",
              "       [9.99016447e-01],\n",
              "       [9.93389058e-01],\n",
              "       [9.82831879e-01],\n",
              "       [9.67450395e-01],\n",
              "       [9.47398292e-01],\n",
              "       [9.22875925e-01],\n",
              "       [8.94128313e-01],\n",
              "       [8.61442691e-01],\n",
              "       [8.25145645e-01],\n",
              "       [7.85599843e-01],\n",
              "       [7.43200412e-01],\n",
              "       [6.98370994e-01],\n",
              "       [6.51559511e-01],\n",
              "       [6.03233685e-01],\n",
              "       [5.53876374e-01],\n",
              "       [5.03980740e-01],\n",
              "       [4.54045322e-01],\n",
              "       [4.04569059e-01],\n",
              "       [3.56046302e-01],\n",
              "       [3.08961874e-01],\n",
              "       [2.63786227e-01],\n",
              "       [2.20970741e-01],\n",
              "       [1.80943214e-01],\n",
              "       [1.44103589e-01],\n",
              "       [1.10819953e-01],\n",
              "       [8.14248677e-02],\n",
              "       [5.62120376e-02],\n",
              "       [3.54333813e-02],\n",
              "       [1.92965122e-02],\n",
              "       [7.96266464e-03],\n",
              "       [1.54508265e-03],\n",
              "       [1.07888605e-04],\n",
              "       [3.66544246e-03],\n",
              "       [1.21821983e-02],\n",
              "       [2.55730595e-02],\n",
              "       [4.37042291e-02],\n",
              "       [6.63945464e-02],\n",
              "       [9.34172971e-02],\n",
              "       [1.24502479e-01],\n",
              "       [1.59339499e-01],\n",
              "       [1.97580278e-01],\n",
              "       [2.38842725e-01],\n",
              "       [2.82714561e-01],\n",
              "       [3.28757432e-01],\n",
              "       [3.76511294e-01],\n",
              "       [4.25499005e-01],\n",
              "       [4.75231097e-01],\n",
              "       [5.25210662e-01],\n",
              "       [5.74938322e-01],\n",
              "       [6.23917214e-01],\n",
              "       [6.71657958e-01],\n",
              "       [7.17683543e-01],\n",
              "       [7.61534097e-01],\n",
              "       [8.02771481e-01],\n",
              "       [8.40983662e-01],\n",
              "       [8.75788839e-01],\n",
              "       [9.06839250e-01],\n",
              "       [9.33824648e-01],\n",
              "       [9.56475405e-01],\n",
              "       [9.74565201e-01],\n",
              "       [9.87913290e-01],\n",
              "       [9.96386302e-01],\n",
              "       [9.99899578e-01],\n",
              "       [9.98418013e-01],\n",
              "       [9.91956411e-01],\n",
              "       [9.80579335e-01],\n",
              "       [9.64400460e-01],\n",
              "       [9.43581440e-01],\n",
              "       [9.18330292e-01],\n",
              "       [8.88899318e-01],\n",
              "       [8.55582581e-01],\n",
              "       [8.18712972e-01],\n",
              "       [7.78658879e-01],\n",
              "       [7.35820510e-01],\n",
              "       [6.90625892e-01],\n",
              "       [6.43526593e-01],\n",
              "       [5.94993216e-01],\n",
              "       [5.45510689e-01],\n",
              "       [4.95573426e-01],\n",
              "       [4.45680382e-01],\n",
              "       [3.96330074e-01],\n",
              "       [3.48015592e-01],\n",
              "       [3.01219679e-01],\n",
              "       [2.56409905e-01],\n",
              "       [2.14033993e-01],\n",
              "       [1.74515351e-01],\n",
              "       [1.38248835e-01],\n",
              "       [1.05596808e-01],\n",
              "       [7.68855182e-02],\n",
              "       [5.24018399e-02],\n",
              "       [3.23904056e-02],\n",
              "       [1.70511630e-02],\n",
              "       [6.53737668e-03],\n",
              "       [9.54096943e-04],\n",
              "       [3.57110073e-04],\n",
              "       [4.75238097e-03],\n",
              "       [1.40959935e-02],\n",
              "       [2.82945895e-02],\n",
              "       [4.72063011e-02],\n",
              "       [7.06421689e-02],\n",
              "       [9.83680294e-02],\n",
              "       [1.30106855e-01],\n",
              "       [1.65541522e-01],\n",
              "       [2.04317978e-01],\n",
              "       [2.46048783e-01],\n",
              "       [2.90316975e-01],\n",
              "       [3.36680242e-01],\n",
              "       [3.84675337e-01],\n",
              "       [4.33822710e-01],\n",
              "       [4.83631295e-01],\n",
              "       [5.33603422e-01],\n",
              "       [5.83239786e-01],\n",
              "       [6.32044436e-01],\n",
              "       [6.79529734e-01],\n",
              "       [7.25221221e-01],\n",
              "       [7.68662363e-01],\n",
              "       [8.09419110e-01],\n",
              "       [8.47084236e-01],\n",
              "       [8.81281401e-01],\n",
              "       [9.11668920e-01],\n",
              "       [9.37943170e-01],\n",
              "       [9.59841629e-01],\n",
              "       [9.77145492e-01],\n",
              "       [9.89681867e-01],\n",
              "       [9.97325494e-01],\n",
              "       [1.00000000e+00],\n",
              "       [9.97678662e-01],\n",
              "       [9.90384675e-01],\n",
              "       [9.78190918e-01],\n",
              "       [9.61219226e-01],\n",
              "       [9.39639175e-01],\n",
              "       [9.13666386e-01],\n",
              "       [8.83560370e-01],\n",
              "       [8.49621938e-01],\n",
              "       [8.12190189e-01],\n",
              "       [7.71639131e-01],\n",
              "       [7.28373935e-01],\n",
              "       [6.82826893e-01],\n",
              "       [6.35453097e-01],\n",
              "       [5.86725890e-01],\n",
              "       [5.37132137e-01],\n",
              "       [4.87167363e-01],\n",
              "       [4.37330800e-01],\n",
              "       [3.88120398e-01],\n",
              "       [3.40027851e-01],\n",
              "       [2.93533684e-01],\n",
              "       [2.49102452e-01],\n",
              "       [2.07178096e-01],\n",
              "       [1.68179511e-01],\n",
              "       [1.32496358e-01],\n",
              "       [1.00485170e-01],\n",
              "       [7.24657944e-02],\n",
              "       [4.87181901e-02],\n",
              "       [2.94796357e-02],\n",
              "       [1.49423563e-02],\n",
              "       [5.25160379e-03],\n",
              "       [5.04204848e-04],\n",
              "       [7.47593943e-04],\n",
              "       [5.97933921e-03],\n",
              "       [1.61471668e-02],\n",
              "       [3.11494831e-02],\n",
              "       [5.08363900e-02],\n",
              "       [7.50111823e-02],\n",
              "       [1.03432314e-01],\n",
              "       [1.35815809e-01],\n",
              "       [1.71838104e-01],\n",
              "       [2.11139276e-01],\n",
              "       [2.53326639e-01],\n",
              "       [2.97978672e-01],\n",
              "       [3.44649227e-01],\n",
              "       [3.92871986e-01],\n",
              "       [4.42165124e-01],\n",
              "       [4.92036121e-01],\n",
              "       [5.41986681e-01],\n",
              "       [5.91517715e-01],\n",
              "       [6.40134325e-01],\n",
              "       [6.87350751e-01],\n",
              "       [7.32695222e-01],\n",
              "       [7.75714669e-01],\n",
              "       [8.15979258e-01],\n",
              "       [8.53086678e-01],\n",
              "       [8.86666164e-01],\n",
              "       [9.16382200e-01],\n",
              "       [9.41937874e-01],\n",
              "       [9.63077843e-01],\n",
              "       [9.79590881e-01],\n",
              "       [9.91311998e-01],\n",
              "       [9.98124078e-01],\n",
              "       [9.99959058e-01],\n",
              "       [9.96798604e-01],\n",
              "       [9.88674294e-01],\n",
              "       [9.75667303e-01],\n",
              "       [9.57907592e-01],\n",
              "       [9.35572612e-01],\n",
              "       [9.08885525e-01],\n",
              "       [8.78112980e-01],\n",
              "       [8.43562446e-01],\n",
              "       [8.05579141e-01],\n",
              "       [7.64542582e-01],\n",
              "       [7.20862792e-01],\n",
              "       [6.74976205e-01],\n",
              "       [6.27341304e-01],\n",
              "       [5.78434043e-01],\n",
              "       [5.28743086e-01],\n",
              "       [4.78764928e-01],\n",
              "       [4.28998936e-01],\n",
              "       [3.79942353e-01],\n",
              "       [3.32085339e-01],\n",
              "       [2.85906063e-01],\n",
              "       [2.41865934e-01],\n",
              "       [2.00404987e-01],\n",
              "       [1.61937485e-01],\n",
              "       [1.26847783e-01],\n",
              "       [9.54864865e-02],\n",
              "       [6.81669460e-02],\n",
              "       [4.51621298e-02],\n",
              "       [2.67018944e-02],\n",
              "       [1.29706884e-02],\n",
              "       [4.10570950e-03],\n",
              "       [1.95533568e-04],\n",
              "       [1.27922981e-03],\n",
              "       [7.34597031e-03],\n",
              "       [1.83351382e-02],\n",
              "       [3.41369333e-02],\n",
              "       [5.45934694e-02],\n",
              "       [7.95003514e-02],\n",
              "       [1.08608718e-01],\n",
              "       [1.41627728e-01],\n",
              "       [1.78227467e-01],\n",
              "       [2.18042242e-01],\n",
              "       [2.60674236e-01],\n",
              "       [3.05697486e-01],\n",
              "       [3.52662133e-01],\n",
              "       [4.01098922e-01],\n",
              "       [4.50523890e-01],\n",
              "       [5.00443198e-01],\n",
              "       [5.50358069e-01],\n",
              "       [5.99769769e-01],\n",
              "       [6.48184595e-01],\n",
              "       [6.95118799e-01],\n",
              "       [7.40103433e-01],\n",
              "       [7.82689024e-01],\n",
              "       [8.22450070e-01],\n",
              "       [8.58989293e-01],\n",
              "       [8.91941605e-01],\n",
              "       [9.20977757e-01],\n",
              "       [9.45807630e-01],\n",
              "       [9.66183132e-01],\n",
              "       [9.81900676e-01],\n",
              "       [9.92803220e-01],\n",
              "       [9.98781828e-01],\n",
              "       [9.99776764e-01],\n",
              "       [9.95778087e-01],\n",
              "       [9.86825751e-01],\n",
              "       [9.73009203e-01],\n",
              "       [9.54466495e-01],\n",
              "       [9.31382900e-01],\n",
              "       [9.03989060e-01],\n",
              "       [8.72558686e-01],\n",
              "       [8.37405820e-01],\n",
              "       [7.98881698e-01],\n",
              "       [7.57371240e-01],\n",
              "       [7.13289205e-01],\n",
              "       [6.67076045e-01],\n",
              "       [6.19193508e-01],\n",
              "       [5.70120021e-01],\n",
              "       [5.20345908e-01],\n",
              "       [4.70368497e-01],\n",
              "       [4.20687145e-01],\n",
              "       [3.71798252e-01],\n",
              "       [3.24190300e-01],\n",
              "       [2.78338972e-01],\n",
              "       [2.34702398e-01],\n",
              "       [1.93716581e-01],\n",
              "       [1.55791039e-01],\n",
              "       [1.21304709e-01],\n",
              "       [9.06021693e-02],\n",
              "       [6.39901882e-02],\n",
              "       [4.17346643e-02],\n",
              "       [2.40579672e-02],\n",
              "       [1.11367167e-02],\n",
              "       [3.10001778e-03],\n",
              "       [2.81703720e-05],\n",
              "       [1.95186738e-03],\n",
              "       [8.85188786e-03],\n",
              "       [2.06592891e-02],\n",
              "       [3.72560954e-02],\n",
              "       [5.84764771e-02],\n",
              "       [8.41084070e-02],\n",
              "       [1.13895779e-01],\n",
              "       [1.47540969e-01],\n",
              "       [1.84707803e-01],\n",
              "       [2.25024924e-01],\n",
              "       [2.68089497e-01],\n",
              "       [3.13471233e-01],\n",
              "       [3.60716695e-01],\n",
              "       [4.09353821e-01],\n",
              "       [4.58896644e-01],\n",
              "       [5.08850150e-01],\n",
              "       [5.58715219e-01],\n",
              "       [6.07993616e-01],\n",
              "       [6.56192968e-01],\n",
              "       [7.02831682e-01],\n",
              "       [7.47443761e-01],\n",
              "       [7.89583454e-01],\n",
              "       [8.28829716e-01],\n",
              "       [8.64790412e-01],\n",
              "       [8.97106234e-01],\n",
              "       [9.25454293e-01]])"
            ]
          },
          "metadata": {
            "tags": []
          },
          "execution_count": 27
        }
      ]
    },
    {
      "cell_type": "markdown",
      "metadata": {
        "id": "5kWF1YSo_0lM"
      },
      "source": [
        " Então é essencialmente isso que este gerador está usando quando se trata de comprimento ( length = 2) . Estamos dizendo que dado este comprimento, podemos prever um número. Agora, este comprimento não deve ser apenas uma escolha arbitrária do comprimento do X . Deve eve ser o suficiente para a rede neural detectar qualquer sazonalidade ou efeitos repetidos.\n",
        "\n",
        "O que eu quero fazer é alimentar minha rede com uma sequência de informações longa o suficiente para que eu possa começar a perceber qualquer tendência.\n",
        "\n",
        "Provavelmente não é muito útil para a rede ver apenas um ponto no passado e um ponto no futuro, em vez disso, provavelmente quero ter pelo menos pontos suficientes para que uma rede  pegar neste movimento cíclico ( neste caso, o seno) uma tendência.\n",
        "\n",
        "Portanto, posso ver que, se for de talvez zero a provavelmente cerca de vinte e cinco pontos, posso ver um ciclo completo."
      ]
    },
    {
      "cell_type": "markdown",
      "metadata": {
        "id": "23zUn9x_IIdw"
      },
      "source": [
        "#Modelo"
      ]
    },
    {
      "cell_type": "code",
      "metadata": {
        "id": "p0jguXPb_z4Q"
      },
      "source": [
        "from tensorflow.keras.models import Sequential"
      ],
      "execution_count": 28,
      "outputs": []
    },
    {
      "cell_type": "code",
      "metadata": {
        "id": "UAzh-yFtISHo"
      },
      "source": [
        "from tensorflow.keras.layers import Dense,SimpleRNN, LSTM"
      ],
      "execution_count": 29,
      "outputs": []
    },
    {
      "cell_type": "markdown",
      "metadata": {
        "id": "qweet9cgJnJv"
      },
      "source": [
        "Precisamos definir  quantos recursos estamos realmente treinando.\n",
        "\n",
        "Em nosso caso, temos apenas uma entrada de recurso que é x tentando prever Y.\n",
        "\n",
        "Portanto, o número de recursos é apenas um."
      ]
    },
    {
      "cell_type": "code",
      "metadata": {
        "id": "SFLBr2CYISKQ"
      },
      "source": [
        "n_features =1"
      ],
      "execution_count": 30,
      "outputs": []
    },
    {
      "cell_type": "code",
      "metadata": {
        "id": "8KRrGbGaISM0"
      },
      "source": [
        "#Um modelo sequencial, como o nome sugere, permite que você crie modelos camada por camada, passo a passo.\n",
        "model = Sequential()\n",
        "\n",
        "model.add(SimpleRNN(50, input_shape = (length,n_features)))\n",
        "\n",
        "model.add(Dense(1))\n",
        "\n",
        "model.compile(optimizer ='adam', loss='mse')"
      ],
      "execution_count": 31,
      "outputs": []
    },
    {
      "cell_type": "code",
      "metadata": {
        "colab": {
          "base_uri": "https://localhost:8080/"
        },
        "id": "lgqjeD9qISPS",
        "outputId": "e08cfb22-6563-40fb-9a2c-fb8d919e8d0e"
      },
      "source": [
        "#resumo do modelo\n",
        "model.summary()"
      ],
      "execution_count": 32,
      "outputs": [
        {
          "output_type": "stream",
          "text": [
            "Model: \"sequential\"\n",
            "_________________________________________________________________\n",
            "Layer (type)                 Output Shape              Param #   \n",
            "=================================================================\n",
            "simple_rnn (SimpleRNN)       (None, 50)                2600      \n",
            "_________________________________________________________________\n",
            "dense (Dense)                (None, 1)                 51        \n",
            "=================================================================\n",
            "Total params: 2,651\n",
            "Trainable params: 2,651\n",
            "Non-trainable params: 0\n",
            "_________________________________________________________________\n"
          ],
          "name": "stdout"
        }
      ]
    },
    {
      "cell_type": "code",
      "metadata": {
        "colab": {
          "base_uri": "https://localhost:8080/"
        },
        "id": "OFNBnLe4ISRz",
        "outputId": "a8741665-8dd3-4d08-a995-ca808c643b05"
      },
      "source": [
        "model.fit_generator(generator,epochs=5)"
      ],
      "execution_count": 33,
      "outputs": [
        {
          "output_type": "stream",
          "text": [
            "Epoch 1/5\n"
          ],
          "name": "stdout"
        },
        {
          "output_type": "stream",
          "text": [
            "/usr/local/lib/python3.7/dist-packages/tensorflow/python/keras/engine/training.py:1844: UserWarning: `Model.fit_generator` is deprecated and will be removed in a future version. Please use `Model.fit`, which supports generators.\n",
            "  warnings.warn('`Model.fit_generator` is deprecated and '\n"
          ],
          "name": "stderr"
        },
        {
          "output_type": "stream",
          "text": [
            "401/401 [==============================] - 3s 6ms/step - loss: 0.0574\n",
            "Epoch 2/5\n",
            "401/401 [==============================] - 2s 6ms/step - loss: 8.8943e-05\n",
            "Epoch 3/5\n",
            "401/401 [==============================] - 3s 6ms/step - loss: 6.8929e-05\n",
            "Epoch 4/5\n",
            "401/401 [==============================] - 2s 6ms/step - loss: 8.8777e-05\n",
            "Epoch 5/5\n",
            "401/401 [==============================] - 2s 6ms/step - loss: 4.5393e-04\n"
          ],
          "name": "stdout"
        },
        {
          "output_type": "execute_result",
          "data": {
            "text/plain": [
              "<tensorflow.python.keras.callbacks.History at 0x7f845e5080d0>"
            ]
          },
          "metadata": {
            "tags": []
          },
          "execution_count": 33
        }
      ]
    },
    {
      "cell_type": "code",
      "metadata": {
        "id": "hbsrVYRkISUM"
      },
      "source": [
        "losses = pd.DataFrame(model.history.history)"
      ],
      "execution_count": 34,
      "outputs": []
    },
    {
      "cell_type": "code",
      "metadata": {
        "colab": {
          "base_uri": "https://localhost:8080/",
          "height": 282
        },
        "id": "F5xxTyA6ZtIp",
        "outputId": "59602e0a-2cac-44e7-8c8b-0a7a9986df37"
      },
      "source": [
        "losses.plot()"
      ],
      "execution_count": 35,
      "outputs": [
        {
          "output_type": "execute_result",
          "data": {
            "text/plain": [
              "<matplotlib.axes._subplots.AxesSubplot at 0x7f84594891d0>"
            ]
          },
          "metadata": {
            "tags": []
          },
          "execution_count": 35
        },
        {
          "output_type": "display_data",
          "data": {
            "image/png": "[encoded data removed]",
            "text/plain": [
              "<Figure size 432x288 with 1 Axes>"
            ]
          },
          "metadata": {
            "tags": [],
            "needs_background": "light"
          }
        }
      ]
    },
    {
      "cell_type": "markdown",
      "metadata": {
        "id": "9y0KsGJJaWgm"
      },
      "source": [
        "Qual é o primeiro batch(lote) que devo passar para meu modelo para prever algo no conjunto de teste?\n",
        "\n",
        "Bem, isso deve vir dos meus dados de treinamento em escala, desde o comprimento negativo até o fim.\n",
        "\n",
        "Basicamente, vamos pegar os últimos vinte e cinco pontos de nosso conjunto de treinamento para prever um ponto no futuro, que é o primeiro ponto em nosso conjunto de teste."
      ]
    },
    {
      "cell_type": "code",
      "metadata": {
        "id": "rza1pM12ZvKM"
      },
      "source": [
        "first_eval_batch =  scaled_train [-length:]"
      ],
      "execution_count": 36,
      "outputs": []
    },
    {
      "cell_type": "markdown",
      "metadata": {
        "id": "5MY3bIOQaVwP"
      },
      "source": [
        "preciso reformulá-lo para a forma que o modelo espera"
      ]
    },
    {
      "cell_type": "code",
      "metadata": {
        "id": "nVSdAd3uaR6f"
      },
      "source": [
        "first_eval_batch = first_eval_batch.reshape((1,length,n_features))"
      ],
      "execution_count": 37,
      "outputs": []
    },
    {
      "cell_type": "code",
      "metadata": {
        "colab": {
          "base_uri": "https://localhost:8080/"
        },
        "id": "4DiiOVcpbLid",
        "outputId": "db4ddcac-965d-4bf0-a042-9a4606125ab0"
      },
      "source": [
        "model.predict((first_eval_batch))"
      ],
      "execution_count": 38,
      "outputs": [
        {
          "output_type": "execute_result",
          "data": {
            "text/plain": [
              "array([[0.966195]], dtype=float32)"
            ]
          },
          "metadata": {
            "tags": []
          },
          "execution_count": 38
        }
      ]
    },
    {
      "cell_type": "markdown",
      "metadata": {
        "id": "3iUiijAbbo9v"
      },
      "source": [
        "agora , vamos ver se ele achou corretamente o primeiro número co conjunto teste."
      ]
    },
    {
      "cell_type": "code",
      "metadata": {
        "colab": {
          "base_uri": "https://localhost:8080/"
        },
        "id": "VScu2N2DbmMW",
        "outputId": "ba215d40-3ec1-405f-db8f-faa975a8eb33"
      },
      "source": [
        "scaled_test[0]"
      ],
      "execution_count": 39,
      "outputs": [
        {
          "output_type": "execute_result",
          "data": {
            "text/plain": [
              "array([0.94955134])"
            ]
          },
          "metadata": {
            "tags": []
          },
          "execution_count": 39
        }
      ]
    },
    {
      "cell_type": "markdown",
      "metadata": {
        "id": "HZPOeEePcBJU"
      },
      "source": [
        "Bem, o que eu faço aqui é um loop com 25 pontos a frente.  À medida que o modelo prevê, adiciono um ponto  adicional até que estejamos essencialmente prevendo ou fazendo previsões ao longo de previsões anteriores."
      ]
    },
    {
      "cell_type": "code",
      "metadata": {
        "id": "9oV_il5KeQqr"
      },
      "source": [
        "# pego os ultimos 50 números do conjunto treino\n",
        "#scaled_train[-length:]"
      ],
      "execution_count": 40,
      "outputs": []
    },
    {
      "cell_type": "markdown",
      "metadata": {
        "id": "7JUIuo9dtl9i"
      },
      "source": [
        "#Montando o núcleo de predição"
      ]
    },
    {
      "cell_type": "code",
      "metadata": {
        "id": "f7HWHhM6ePwj"
      },
      "source": [
        "#O que esse código está fazendo é : vá em frente e mova o lote atual em uma etapa de tempo. Ou seja , ao prever \n",
        "#o próximo número, apague o primeiro número do conjunto de dados e adicione o número previsto na ultima linha.\n",
        "#predicted_value = [[[99]]]\n",
        "#np.append(current_batch[:,1:,:],[[[99]]],axis=1)"
      ],
      "execution_count": 41,
      "outputs": []
    },
    {
      "cell_type": "code",
      "metadata": {
        "id": "9O67Iq04dX6B"
      },
      "source": [
        "#minhas previsões de teste ( test_predictions) é uma lista vazia\n",
        "test_predictions = []\n",
        "\n",
        "first_eval_batch = scaled_train[-length:]\n",
        "\n",
        "current_batch = first_eval_batch.reshape((1,length,n_features))\n",
        "\n",
        "for i in range(len(test)):\n",
        "\n",
        "  #minha primeira previsão\n",
        "  current_pred = model.predict(current_batch)[0]\n",
        "\n",
        "  #E então o que vou fazer é dizer OK, vá em frente e pegue essa previsão atual, mas agora,\n",
        "  #para continuar prevendo no futuro, mova meu lote atual um passo à frente\n",
        "  test_predictions.append(current_pred)\n",
        "\n",
        "  #o que é essencialmente o que isso faz: livra-se do primeiro item e, em vez disso, \n",
        "  #o substitui, adicionando a previsão atual no fim do conjunto\n",
        "  current_batch = np.append(current_batch[:,1:,:],[[current_pred]],axis=1)\n"
      ],
      "execution_count": 42,
      "outputs": []
    },
    {
      "cell_type": "code",
      "metadata": {
        "colab": {
          "base_uri": "https://localhost:8080/"
        },
        "id": "QK_4FNXkv7bk",
        "outputId": "c3b0e9d7-0cff-4494-d4e6-6579d7fbb5ef"
      },
      "source": [
        "test_predictions"
      ],
      "execution_count": 43,
      "outputs": [
        {
          "output_type": "execute_result",
          "data": {
            "text/plain": [
              "[array([0.966195], dtype=float32),\n",
              " array([0.99022186], dtype=float32),\n",
              " array([1.0067995], dtype=float32),\n",
              " array([1.0189362], dtype=float32),\n",
              " array([1.029016], dtype=float32),\n",
              " array([1.0334605], dtype=float32),\n",
              " array([1.0312397], dtype=float32),\n",
              " array([1.0242722], dtype=float32),\n",
              " array([1.013055], dtype=float32),\n",
              " array([0.9982469], dtype=float32),\n",
              " array([0.9769603], dtype=float32),\n",
              " array([0.951256], dtype=float32),\n",
              " array([0.92485374], dtype=float32),\n",
              " array([0.8968428], dtype=float32),\n",
              " array([0.8649446], dtype=float32),\n",
              " array([0.830715], dtype=float32),\n",
              " array([0.7949129], dtype=float32),\n",
              " array([0.75917184], dtype=float32),\n",
              " array([0.7217169], dtype=float32),\n",
              " array([0.68233424], dtype=float32),\n",
              " array([0.6421721], dtype=float32),\n",
              " array([0.6024714], dtype=float32),\n",
              " array([0.5631551], dtype=float32),\n",
              " array([0.52255535], dtype=float32),\n",
              " array([0.4823006], dtype=float32),\n",
              " array([0.4435586], dtype=float32),\n",
              " array([0.4064663], dtype=float32),\n",
              " array([0.37013882], dtype=float32),\n",
              " array([0.3350036], dtype=float32),\n",
              " array([0.3029371], dtype=float32),\n",
              " array([0.27394608], dtype=float32),\n",
              " array([0.24746488], dtype=float32),\n",
              " array([0.2223729], dtype=float32),\n",
              " array([0.20068386], dtype=float32),\n",
              " array([0.18403552], dtype=float32),\n",
              " array([0.1704091], dtype=float32),\n",
              " array([0.15949911], dtype=float32),\n",
              " array([0.15191603], dtype=float32),\n",
              " array([0.14918521], dtype=float32),\n",
              " array([0.15048231], dtype=float32),\n",
              " array([0.15435152], dtype=float32),\n",
              " array([0.16127475], dtype=float32),\n",
              " array([0.17276047], dtype=float32),\n",
              " array([0.18908533], dtype=float32),\n",
              " array([0.20735663], dtype=float32),\n",
              " array([0.22700037], dtype=float32),\n",
              " array([0.25055355], dtype=float32),\n",
              " array([0.2786861], dtype=float32),\n",
              " array([0.30885044], dtype=float32),\n",
              " array([0.3395871], dtype=float32)]"
            ]
          },
          "metadata": {
            "tags": []
          },
          "execution_count": 43
        }
      ]
    },
    {
      "cell_type": "markdown",
      "metadata": {
        "id": "zBlx61f0vn_3"
      },
      "source": [
        "Preciso lembrar que eu dimensionei o conjunto de dados, então devo inverter essa transformação.\n"
      ]
    },
    {
      "cell_type": "code",
      "metadata": {
        "colab": {
          "base_uri": "https://localhost:8080/"
        },
        "id": "kWUVMM9Klb_F",
        "outputId": "562be2aa-5588-4315-9e60-25278ad816eb"
      },
      "source": [
        "true_predictions = scaler.inverse_transform(test_predictions)\n",
        "true_predictions"
      ],
      "execution_count": 44,
      "outputs": [
        {
          "output_type": "execute_result",
          "data": {
            "text/plain": [
              "array([[ 0.93238426],\n",
              "       [ 0.98043762],\n",
              "       [ 1.01359255],\n",
              "       [ 1.03786575],\n",
              "       [ 1.05802531],\n",
              "       [ 1.0669142 ],\n",
              "       [ 1.06247274],\n",
              "       [ 1.04853776],\n",
              "       [ 1.02610347],\n",
              "       [ 0.99648759],\n",
              "       [ 0.95391472],\n",
              "       [ 0.90250648],\n",
              "       [ 0.84970243],\n",
              "       [ 0.79368095],\n",
              "       [ 0.72988507],\n",
              "       [ 0.66142646],\n",
              "       [ 0.58982278],\n",
              "       [ 0.5183413 ],\n",
              "       [ 0.44343197],\n",
              "       [ 0.36466733],\n",
              "       [ 0.28434368],\n",
              "       [ 0.20494295],\n",
              "       [ 0.12631098],\n",
              "       [ 0.04511211],\n",
              "       [-0.03539673],\n",
              "       [-0.11288012],\n",
              "       [-0.18706412],\n",
              "       [-0.2597185 ],\n",
              "       [-0.32998835],\n",
              "       [-0.39412089],\n",
              "       [-0.45210245],\n",
              "       [-0.50506442],\n",
              "       [-0.55524797],\n",
              "       [-0.5986257 ],\n",
              "       [-0.63192211],\n",
              "       [-0.65917475],\n",
              "       [-0.68099455],\n",
              "       [-0.69616059],\n",
              "       [-0.70162218],\n",
              "       [-0.699028  ],\n",
              "       [-0.69128965],\n",
              "       [-0.6774433 ],\n",
              "       [-0.65447204],\n",
              "       [-0.62182257],\n",
              "       [-0.58528027],\n",
              "       [-0.54599311],\n",
              "       [-0.49888713],\n",
              "       [-0.44262247],\n",
              "       [-0.38229429],\n",
              "       [-0.32082147]])"
            ]
          },
          "metadata": {
            "tags": []
          },
          "execution_count": 44
        }
      ]
    },
    {
      "cell_type": "code",
      "metadata": {
        "colab": {
          "base_uri": "https://localhost:8080/",
          "height": 1000
        },
        "id": "dCllTNK5uuC4",
        "outputId": "f4cf09f7-9f0c-495a-94f3-e459254614cd"
      },
      "source": [
        "test ['Predições'] = true_predictions\n",
        "test"
      ],
      "execution_count": 45,
      "outputs": [
        {
          "output_type": "stream",
          "text": [
            "/usr/local/lib/python3.7/dist-packages/ipykernel_launcher.py:1: SettingWithCopyWarning: \n",
            "A value is trying to be set on a copy of a slice from a DataFrame.\n",
            "Try using .loc[row_indexer,col_indexer] = value instead\n",
            "\n",
            "See the caveats in the documentation: https://pandas.pydata.org/pandas-docs/stable/user_guide/indexing.html#returning-a-view-versus-a-copy\n",
            "  \"\"\"Entry point for launching an IPython kernel.\n"
          ],
          "name": "stderr"
        },
        {
          "output_type": "execute_result",
          "data": {
            "text/html": [
              "<div>\n",
              "<style scoped>\n",
              "    .dataframe tbody tr th:only-of-type {\n",
              "        vertical-align: middle;\n",
              "    }\n",
              "\n",
              "    .dataframe tbody tr th {\n",
              "        vertical-align: top;\n",
              "    }\n",
              "\n",
              "    .dataframe thead th {\n",
              "        text-align: right;\n",
              "    }\n",
              "</style>\n",
              "<table border=\"1\" class=\"dataframe\">\n",
              "  <thead>\n",
              "    <tr style=\"text-align: right;\">\n",
              "      <th></th>\n",
              "      <th>Seno</th>\n",
              "      <th>Predições</th>\n",
              "    </tr>\n",
              "  </thead>\n",
              "  <tbody>\n",
              "    <tr>\n",
              "      <th>45.1</th>\n",
              "      <td>0.899097</td>\n",
              "      <td>0.932384</td>\n",
              "    </tr>\n",
              "    <tr>\n",
              "      <th>45.2</th>\n",
              "      <td>0.938307</td>\n",
              "      <td>0.980438</td>\n",
              "    </tr>\n",
              "    <tr>\n",
              "      <th>45.3</th>\n",
              "      <td>0.968142</td>\n",
              "      <td>1.013593</td>\n",
              "    </tr>\n",
              "    <tr>\n",
              "      <th>45.4</th>\n",
              "      <td>0.988304</td>\n",
              "      <td>1.037866</td>\n",
              "    </tr>\n",
              "    <tr>\n",
              "      <th>45.5</th>\n",
              "      <td>0.998591</td>\n",
              "      <td>1.058025</td>\n",
              "    </tr>\n",
              "    <tr>\n",
              "      <th>45.6</th>\n",
              "      <td>0.998900</td>\n",
              "      <td>1.066914</td>\n",
              "    </tr>\n",
              "    <tr>\n",
              "      <th>45.7</th>\n",
              "      <td>0.989229</td>\n",
              "      <td>1.062473</td>\n",
              "    </tr>\n",
              "    <tr>\n",
              "      <th>45.8</th>\n",
              "      <td>0.969673</td>\n",
              "      <td>1.048538</td>\n",
              "    </tr>\n",
              "    <tr>\n",
              "      <th>45.9</th>\n",
              "      <td>0.940429</td>\n",
              "      <td>1.026103</td>\n",
              "    </tr>\n",
              "    <tr>\n",
              "      <th>46.0</th>\n",
              "      <td>0.901788</td>\n",
              "      <td>0.996488</td>\n",
              "    </tr>\n",
              "    <tr>\n",
              "      <th>46.1</th>\n",
              "      <td>0.854137</td>\n",
              "      <td>0.953915</td>\n",
              "    </tr>\n",
              "    <tr>\n",
              "      <th>46.2</th>\n",
              "      <td>0.797952</td>\n",
              "      <td>0.902506</td>\n",
              "    </tr>\n",
              "    <tr>\n",
              "      <th>46.3</th>\n",
              "      <td>0.733794</td>\n",
              "      <td>0.849702</td>\n",
              "    </tr>\n",
              "    <tr>\n",
              "      <th>46.4</th>\n",
              "      <td>0.662304</td>\n",
              "      <td>0.793681</td>\n",
              "    </tr>\n",
              "    <tr>\n",
              "      <th>46.5</th>\n",
              "      <td>0.584197</td>\n",
              "      <td>0.729885</td>\n",
              "    </tr>\n",
              "    <tr>\n",
              "      <th>46.6</th>\n",
              "      <td>0.500252</td>\n",
              "      <td>0.661426</td>\n",
              "    </tr>\n",
              "    <tr>\n",
              "      <th>46.7</th>\n",
              "      <td>0.411309</td>\n",
              "      <td>0.589823</td>\n",
              "    </tr>\n",
              "    <tr>\n",
              "      <th>46.8</th>\n",
              "      <td>0.318257</td>\n",
              "      <td>0.518341</td>\n",
              "    </tr>\n",
              "    <tr>\n",
              "      <th>46.9</th>\n",
              "      <td>0.222024</td>\n",
              "      <td>0.443432</td>\n",
              "    </tr>\n",
              "    <tr>\n",
              "      <th>47.0</th>\n",
              "      <td>0.123573</td>\n",
              "      <td>0.364667</td>\n",
              "    </tr>\n",
              "    <tr>\n",
              "      <th>47.1</th>\n",
              "      <td>0.023888</td>\n",
              "      <td>0.284344</td>\n",
              "    </tr>\n",
              "    <tr>\n",
              "      <th>47.2</th>\n",
              "      <td>-0.076037</td>\n",
              "      <td>0.204943</td>\n",
              "    </tr>\n",
              "    <tr>\n",
              "      <th>47.3</th>\n",
              "      <td>-0.175201</td>\n",
              "      <td>0.126311</td>\n",
              "    </tr>\n",
              "    <tr>\n",
              "      <th>47.4</th>\n",
              "      <td>-0.272615</td>\n",
              "      <td>0.045112</td>\n",
              "    </tr>\n",
              "    <tr>\n",
              "      <th>47.5</th>\n",
              "      <td>-0.367305</td>\n",
              "      <td>-0.035397</td>\n",
              "    </tr>\n",
              "    <tr>\n",
              "      <th>47.6</th>\n",
              "      <td>-0.458325</td>\n",
              "      <td>-0.112880</td>\n",
              "    </tr>\n",
              "    <tr>\n",
              "      <th>47.7</th>\n",
              "      <td>-0.544766</td>\n",
              "      <td>-0.187064</td>\n",
              "    </tr>\n",
              "    <tr>\n",
              "      <th>47.8</th>\n",
              "      <td>-0.625764</td>\n",
              "      <td>-0.259718</td>\n",
              "    </tr>\n",
              "    <tr>\n",
              "      <th>47.9</th>\n",
              "      <td>-0.700509</td>\n",
              "      <td>-0.329988</td>\n",
              "    </tr>\n",
              "    <tr>\n",
              "      <th>48.0</th>\n",
              "      <td>-0.768255</td>\n",
              "      <td>-0.394121</td>\n",
              "    </tr>\n",
              "    <tr>\n",
              "      <th>48.1</th>\n",
              "      <td>-0.828324</td>\n",
              "      <td>-0.452102</td>\n",
              "    </tr>\n",
              "    <tr>\n",
              "      <th>48.2</th>\n",
              "      <td>-0.880118</td>\n",
              "      <td>-0.505064</td>\n",
              "    </tr>\n",
              "    <tr>\n",
              "      <th>48.3</th>\n",
              "      <td>-0.923117</td>\n",
              "      <td>-0.555248</td>\n",
              "    </tr>\n",
              "    <tr>\n",
              "      <th>48.4</th>\n",
              "      <td>-0.956893</td>\n",
              "      <td>-0.598626</td>\n",
              "    </tr>\n",
              "    <tr>\n",
              "      <th>48.5</th>\n",
              "      <td>-0.981108</td>\n",
              "      <td>-0.631922</td>\n",
              "    </tr>\n",
              "    <tr>\n",
              "      <th>48.6</th>\n",
              "      <td>-0.995521</td>\n",
              "      <td>-0.659175</td>\n",
              "    </tr>\n",
              "    <tr>\n",
              "      <th>48.7</th>\n",
              "      <td>-0.999986</td>\n",
              "      <td>-0.680995</td>\n",
              "    </tr>\n",
              "    <tr>\n",
              "      <th>48.8</th>\n",
              "      <td>-0.994460</td>\n",
              "      <td>-0.696161</td>\n",
              "    </tr>\n",
              "    <tr>\n",
              "      <th>48.9</th>\n",
              "      <td>-0.978997</td>\n",
              "      <td>-0.701622</td>\n",
              "    </tr>\n",
              "    <tr>\n",
              "      <th>49.0</th>\n",
              "      <td>-0.953753</td>\n",
              "      <td>-0.699028</td>\n",
              "    </tr>\n",
              "    <tr>\n",
              "      <th>49.1</th>\n",
              "      <td>-0.918979</td>\n",
              "      <td>-0.691290</td>\n",
              "    </tr>\n",
              "    <tr>\n",
              "      <th>49.2</th>\n",
              "      <td>-0.875023</td>\n",
              "      <td>-0.677443</td>\n",
              "    </tr>\n",
              "    <tr>\n",
              "      <th>49.3</th>\n",
              "      <td>-0.822324</td>\n",
              "      <td>-0.654472</td>\n",
              "    </tr>\n",
              "    <tr>\n",
              "      <th>49.4</th>\n",
              "      <td>-0.761408</td>\n",
              "      <td>-0.621823</td>\n",
              "    </tr>\n",
              "    <tr>\n",
              "      <th>49.5</th>\n",
              "      <td>-0.692885</td>\n",
              "      <td>-0.585280</td>\n",
              "    </tr>\n",
              "    <tr>\n",
              "      <th>49.6</th>\n",
              "      <td>-0.617439</td>\n",
              "      <td>-0.545993</td>\n",
              "    </tr>\n",
              "    <tr>\n",
              "      <th>49.7</th>\n",
              "      <td>-0.535823</td>\n",
              "      <td>-0.498887</td>\n",
              "    </tr>\n",
              "    <tr>\n",
              "      <th>49.8</th>\n",
              "      <td>-0.448854</td>\n",
              "      <td>-0.442622</td>\n",
              "    </tr>\n",
              "    <tr>\n",
              "      <th>49.9</th>\n",
              "      <td>-0.357400</td>\n",
              "      <td>-0.382294</td>\n",
              "    </tr>\n",
              "    <tr>\n",
              "      <th>50.0</th>\n",
              "      <td>-0.262375</td>\n",
              "      <td>-0.320821</td>\n",
              "    </tr>\n",
              "  </tbody>\n",
              "</table>\n",
              "</div>"
            ],
            "text/plain": [
              "          Seno  Predições\n",
              "45.1  0.899097   0.932384\n",
              "45.2  0.938307   0.980438\n",
              "45.3  0.968142   1.013593\n",
              "45.4  0.988304   1.037866\n",
              "45.5  0.998591   1.058025\n",
              "45.6  0.998900   1.066914\n",
              "45.7  0.989229   1.062473\n",
              "45.8  0.969673   1.048538\n",
              "45.9  0.940429   1.026103\n",
              "46.0  0.901788   0.996488\n",
              "46.1  0.854137   0.953915\n",
              "46.2  0.797952   0.902506\n",
              "46.3  0.733794   0.849702\n",
              "46.4  0.662304   0.793681\n",
              "46.5  0.584197   0.729885\n",
              "46.6  0.500252   0.661426\n",
              "46.7  0.411309   0.589823\n",
              "46.8  0.318257   0.518341\n",
              "46.9  0.222024   0.443432\n",
              "47.0  0.123573   0.364667\n",
              "47.1  0.023888   0.284344\n",
              "47.2 -0.076037   0.204943\n",
              "47.3 -0.175201   0.126311\n",
              "47.4 -0.272615   0.045112\n",
              "47.5 -0.367305  -0.035397\n",
              "47.6 -0.458325  -0.112880\n",
              "47.7 -0.544766  -0.187064\n",
              "47.8 -0.625764  -0.259718\n",
              "47.9 -0.700509  -0.329988\n",
              "48.0 -0.768255  -0.394121\n",
              "48.1 -0.828324  -0.452102\n",
              "48.2 -0.880118  -0.505064\n",
              "48.3 -0.923117  -0.555248\n",
              "48.4 -0.956893  -0.598626\n",
              "48.5 -0.981108  -0.631922\n",
              "48.6 -0.995521  -0.659175\n",
              "48.7 -0.999986  -0.680995\n",
              "48.8 -0.994460  -0.696161\n",
              "48.9 -0.978997  -0.701622\n",
              "49.0 -0.953753  -0.699028\n",
              "49.1 -0.918979  -0.691290\n",
              "49.2 -0.875023  -0.677443\n",
              "49.3 -0.822324  -0.654472\n",
              "49.4 -0.761408  -0.621823\n",
              "49.5 -0.692885  -0.585280\n",
              "49.6 -0.617439  -0.545993\n",
              "49.7 -0.535823  -0.498887\n",
              "49.8 -0.448854  -0.442622\n",
              "49.9 -0.357400  -0.382294\n",
              "50.0 -0.262375  -0.320821"
            ]
          },
          "metadata": {
            "tags": []
          },
          "execution_count": 45
        }
      ]
    },
    {
      "cell_type": "code",
      "metadata": {
        "colab": {
          "base_uri": "https://localhost:8080/",
          "height": 500
        },
        "id": "6_ZbK97Twdz0",
        "outputId": "b127eb3d-af92-4e7c-e264-5248c784bd98"
      },
      "source": [
        "test.plot (figsize = (12,8))"
      ],
      "execution_count": 46,
      "outputs": [
        {
          "output_type": "execute_result",
          "data": {
            "text/plain": [
              "<matplotlib.axes._subplots.AxesSubplot at 0x7f8457ba5690>"
            ]
          },
          "metadata": {
            "tags": []
          },
          "execution_count": 46
        },
        {
          "output_type": "display_data",
          "data": {
            "image/png": "[encoded data removed]",
            "text/plain": [
              "<Figure size 864x576 with 1 Axes>"
            ]
          },
          "metadata": {
            "tags": [],
            "needs_background": "light"
          }
        }
      ]
    },
    {
      "cell_type": "markdown",
      "metadata": {
        "id": "EITIgZkexSOD"
      },
      "source": [
        "**Autor** : As previsões definitivamente não são perfeitas, mas é muito interessante ver que meu modelo é realmente capaz de começar a imitar o comportamento de uma onda senoidal.\n"
      ]
    },
    {
      "cell_type": "code",
      "metadata": {
        "id": "2eVngwTZwlMn"
      },
      "source": [
        "from tensorflow.keras.callbacks import  EarlyStopping\n"
      ],
      "execution_count": 47,
      "outputs": []
    },
    {
      "cell_type": "code",
      "metadata": {
        "id": "a95-x7992_aW"
      },
      "source": [
        "# é recomendado o uso de paciências maiores por causa do ruido gerado\n",
        "early_stop = EarlyStopping(monitor='val_loss', patience=2)"
      ],
      "execution_count": 48,
      "outputs": []
    },
    {
      "cell_type": "markdown",
      "metadata": {
        "id": "AAj8ZYqBOuzE"
      },
      "source": [
        "**Nesse Momento, ocorreu um erro por que eu coloquei**: *length = length*\n",
        "\n",
        "Portanto, o que acontece é que esse conjunto de dados de teste (em escala) deve ser maior do que o comprimento escolhido para nossos lotes. E isso é essencialmente um sacrifício que temos que fazer para realmente executar este gerador de validação.\n",
        "\n",
        "O motivo pelo qual estou recebendo esse erro é porque agora, ele está tentando essencialmente seguir o protocolo estabelecido e isso não será permitido.\n",
        "\n",
        "Você não pode ter seu start_index +length=50 , (uma vez que o tamanho do batch é 49), porque nosso comprimento do lote é exatamente o mesmo tamanho do nosso conjunto de teste. O que não faz sentido, pois estamos essencialmente perdendo a predição do ponto futuro.\n",
        "\n",
        "Portanto, o que eu devo é redefinir o gerador original para ter um comprimento mais curto ( length = 49)."
      ]
    },
    {
      "cell_type": "code",
      "metadata": {
        "id": "1IhSiiyp2_i9"
      },
      "source": [
        "# Então agora o que ele vai fazer é pegar quarenta e nove pontos e prever o Ponto de número 50\n",
        "length = 49\n",
        "\n",
        "generator = TimeseriesGenerator(scaled_train, scaled_train, length=length , batch_size=1 )\n",
        "\n",
        "#criando um gerador de validação para os dados de teste.. Porém, dessa vez, usaremos o scaled_test como conjunto de dados\n",
        "validation_generator = TimeseriesGenerator(scaled_test,scaled_test, length=length, batch_size=1)"
      ],
      "execution_count": 49,
      "outputs": []
    },
    {
      "cell_type": "markdown",
      "metadata": {
        "id": "N-GL3fZEPO6q"
      },
      "source": [
        "Portanto, certifique-se de que, se eu começar a criar esses geradores de validação, o comprimento deste lote deva ser , pelo menos, um número abaixo do que o tamanho total dos seus dados de teste."
      ]
    },
    {
      "cell_type": "markdown",
      "metadata": {
        "id": "cEQ3XkCyPxsq"
      },
      "source": [
        "#Novo Modelo com LSTM"
      ]
    },
    {
      "cell_type": "code",
      "metadata": {
        "id": "P1JPymtZQF43"
      },
      "source": [
        "#Um modelo sequencial, como o nome sugere, permite que você crie modelos camada por camada, passo a passo.\n",
        "model = Sequential()\n",
        "\n",
        "model.add(LSTM(50, input_shape = (length,n_features)))\n",
        "\n",
        "model.add(Dense(1))\n",
        "\n",
        "model.compile(optimizer ='adam', loss='mse')"
      ],
      "execution_count": 50,
      "outputs": []
    },
    {
      "cell_type": "code",
      "metadata": {
        "colab": {
          "base_uri": "https://localhost:8080/"
        },
        "id": "oLNLfpt12_oB",
        "outputId": "6f24c91a-ce96-411e-b366-c5f3f40d3a56"
      },
      "source": [
        "model.fit_generator(generator,epochs=20, validation_data=validation_generator, callbacks=[early_stop])"
      ],
      "execution_count": 51,
      "outputs": [
        {
          "output_type": "stream",
          "text": [
            "/usr/local/lib/python3.7/dist-packages/tensorflow/python/keras/engine/training.py:1844: UserWarning: `Model.fit_generator` is deprecated and will be removed in a future version. Please use `Model.fit`, which supports generators.\n",
            "  warnings.warn('`Model.fit_generator` is deprecated and '\n"
          ],
          "name": "stderr"
        },
        {
          "output_type": "stream",
          "text": [
            "Epoch 1/20\n",
            "402/402 [==============================] - 8s 16ms/step - loss: 0.0788 - val_loss: 5.6515e-05\n",
            "Epoch 2/20\n",
            "402/402 [==============================] - 6s 14ms/step - loss: 8.7805e-05 - val_loss: 4.8428e-05\n",
            "Epoch 3/20\n",
            "402/402 [==============================] - 6s 14ms/step - loss: 9.2430e-05 - val_loss: 5.2126e-05\n",
            "Epoch 4/20\n",
            "402/402 [==============================] - 6s 14ms/step - loss: 1.8691e-04 - val_loss: 4.7638e-06\n",
            "Epoch 5/20\n",
            "402/402 [==============================] - 6s 14ms/step - loss: 3.3921e-04 - val_loss: 3.6151e-05\n",
            "Epoch 6/20\n",
            "402/402 [==============================] - 6s 14ms/step - loss: 5.3354e-05 - val_loss: 2.2156e-05\n"
          ],
          "name": "stdout"
        },
        {
          "output_type": "execute_result",
          "data": {
            "text/plain": [
              "<tensorflow.python.keras.callbacks.History at 0x7f8459da0050>"
            ]
          },
          "metadata": {
            "tags": []
          },
          "execution_count": 51
        }
      ]
    },
    {
      "cell_type": "code",
      "metadata": {
        "id": "s3A1DB1bXi37"
      },
      "source": [
        "test_predictions = []\n",
        "\n",
        "first_eval_batch = scaled_train[-length:]\n",
        "current_batch = first_eval_batch.reshape((1,length,n_features))\n",
        "\n",
        "for i in range(len(test)):\n",
        "\n",
        "  #minha primeira previsão\n",
        "  current_pred = model.predict(current_batch)[0]\n",
        "\n",
        "  test_predictions.append(current_pred)\n",
        "  \n",
        "  current_batch = np.append(current_batch[:,1:,:],[[current_pred]],axis=1)\n"
      ],
      "execution_count": 52,
      "outputs": []
    },
    {
      "cell_type": "code",
      "metadata": {
        "colab": {
          "base_uri": "https://localhost:8080/",
          "height": 1000
        },
        "id": "39WAHHKPZLcJ",
        "outputId": "83bc5ba4-1944-41e2-e910-00c4f8906eca"
      },
      "source": [
        "true_predictions = scaler.inverse_transform(test_predictions)\n",
        "test['Predições_LSTM'] = true_predictions\n",
        "test"
      ],
      "execution_count": 53,
      "outputs": [
        {
          "output_type": "stream",
          "text": [
            "/usr/local/lib/python3.7/dist-packages/ipykernel_launcher.py:2: SettingWithCopyWarning: \n",
            "A value is trying to be set on a copy of a slice from a DataFrame.\n",
            "Try using .loc[row_indexer,col_indexer] = value instead\n",
            "\n",
            "See the caveats in the documentation: https://pandas.pydata.org/pandas-docs/stable/user_guide/indexing.html#returning-a-view-versus-a-copy\n",
            "  \n"
          ],
          "name": "stderr"
        },
        {
          "output_type": "execute_result",
          "data": {
            "text/html": [
              "<div>\n",
              "<style scoped>\n",
              "    .dataframe tbody tr th:only-of-type {\n",
              "        vertical-align: middle;\n",
              "    }\n",
              "\n",
              "    .dataframe tbody tr th {\n",
              "        vertical-align: top;\n",
              "    }\n",
              "\n",
              "    .dataframe thead th {\n",
              "        text-align: right;\n",
              "    }\n",
              "</style>\n",
              "<table border=\"1\" class=\"dataframe\">\n",
              "  <thead>\n",
              "    <tr style=\"text-align: right;\">\n",
              "      <th></th>\n",
              "      <th>Seno</th>\n",
              "      <th>Predições</th>\n",
              "      <th>Predições_LSTM</th>\n",
              "    </tr>\n",
              "  </thead>\n",
              "  <tbody>\n",
              "    <tr>\n",
              "      <th>45.1</th>\n",
              "      <td>0.899097</td>\n",
              "      <td>0.932384</td>\n",
              "      <td>0.925624</td>\n",
              "    </tr>\n",
              "    <tr>\n",
              "      <th>45.2</th>\n",
              "      <td>0.938307</td>\n",
              "      <td>0.980438</td>\n",
              "      <td>0.964501</td>\n",
              "    </tr>\n",
              "    <tr>\n",
              "      <th>45.3</th>\n",
              "      <td>0.968142</td>\n",
              "      <td>1.013593</td>\n",
              "      <td>0.995388</td>\n",
              "    </tr>\n",
              "    <tr>\n",
              "      <th>45.4</th>\n",
              "      <td>0.988304</td>\n",
              "      <td>1.037866</td>\n",
              "      <td>1.017334</td>\n",
              "    </tr>\n",
              "    <tr>\n",
              "      <th>45.5</th>\n",
              "      <td>0.998591</td>\n",
              "      <td>1.058025</td>\n",
              "      <td>1.029886</td>\n",
              "    </tr>\n",
              "    <tr>\n",
              "      <th>45.6</th>\n",
              "      <td>0.998900</td>\n",
              "      <td>1.066914</td>\n",
              "      <td>1.032822</td>\n",
              "    </tr>\n",
              "    <tr>\n",
              "      <th>45.7</th>\n",
              "      <td>0.989229</td>\n",
              "      <td>1.062473</td>\n",
              "      <td>1.026091</td>\n",
              "    </tr>\n",
              "    <tr>\n",
              "      <th>45.8</th>\n",
              "      <td>0.969673</td>\n",
              "      <td>1.048538</td>\n",
              "      <td>1.009775</td>\n",
              "    </tr>\n",
              "    <tr>\n",
              "      <th>45.9</th>\n",
              "      <td>0.940429</td>\n",
              "      <td>1.026103</td>\n",
              "      <td>0.984070</td>\n",
              "    </tr>\n",
              "    <tr>\n",
              "      <th>46.0</th>\n",
              "      <td>0.901788</td>\n",
              "      <td>0.996488</td>\n",
              "      <td>0.949260</td>\n",
              "    </tr>\n",
              "    <tr>\n",
              "      <th>46.1</th>\n",
              "      <td>0.854137</td>\n",
              "      <td>0.953915</td>\n",
              "      <td>0.905706</td>\n",
              "    </tr>\n",
              "    <tr>\n",
              "      <th>46.2</th>\n",
              "      <td>0.797952</td>\n",
              "      <td>0.902506</td>\n",
              "      <td>0.853835</td>\n",
              "    </tr>\n",
              "    <tr>\n",
              "      <th>46.3</th>\n",
              "      <td>0.733794</td>\n",
              "      <td>0.849702</td>\n",
              "      <td>0.794130</td>\n",
              "    </tr>\n",
              "    <tr>\n",
              "      <th>46.4</th>\n",
              "      <td>0.662304</td>\n",
              "      <td>0.793681</td>\n",
              "      <td>0.727126</td>\n",
              "    </tr>\n",
              "    <tr>\n",
              "      <th>46.5</th>\n",
              "      <td>0.584197</td>\n",
              "      <td>0.729885</td>\n",
              "      <td>0.653411</td>\n",
              "    </tr>\n",
              "    <tr>\n",
              "      <th>46.6</th>\n",
              "      <td>0.500252</td>\n",
              "      <td>0.661426</td>\n",
              "      <td>0.573618</td>\n",
              "    </tr>\n",
              "    <tr>\n",
              "      <th>46.7</th>\n",
              "      <td>0.411309</td>\n",
              "      <td>0.589823</td>\n",
              "      <td>0.488431</td>\n",
              "    </tr>\n",
              "    <tr>\n",
              "      <th>46.8</th>\n",
              "      <td>0.318257</td>\n",
              "      <td>0.518341</td>\n",
              "      <td>0.398585</td>\n",
              "    </tr>\n",
              "    <tr>\n",
              "      <th>46.9</th>\n",
              "      <td>0.222024</td>\n",
              "      <td>0.443432</td>\n",
              "      <td>0.304861</td>\n",
              "    </tr>\n",
              "    <tr>\n",
              "      <th>47.0</th>\n",
              "      <td>0.123573</td>\n",
              "      <td>0.364667</td>\n",
              "      <td>0.208092</td>\n",
              "    </tr>\n",
              "    <tr>\n",
              "      <th>47.1</th>\n",
              "      <td>0.023888</td>\n",
              "      <td>0.284344</td>\n",
              "      <td>0.109158</td>\n",
              "    </tr>\n",
              "    <tr>\n",
              "      <th>47.2</th>\n",
              "      <td>-0.076037</td>\n",
              "      <td>0.204943</td>\n",
              "      <td>0.008981</td>\n",
              "    </tr>\n",
              "    <tr>\n",
              "      <th>47.3</th>\n",
              "      <td>-0.175201</td>\n",
              "      <td>0.126311</td>\n",
              "      <td>-0.091472</td>\n",
              "    </tr>\n",
              "    <tr>\n",
              "      <th>47.4</th>\n",
              "      <td>-0.272615</td>\n",
              "      <td>0.045112</td>\n",
              "      <td>-0.191206</td>\n",
              "    </tr>\n",
              "    <tr>\n",
              "      <th>47.5</th>\n",
              "      <td>-0.367305</td>\n",
              "      <td>-0.035397</td>\n",
              "      <td>-0.289201</td>\n",
              "    </tr>\n",
              "    <tr>\n",
              "      <th>47.6</th>\n",
              "      <td>-0.458325</td>\n",
              "      <td>-0.112880</td>\n",
              "      <td>-0.384421</td>\n",
              "    </tr>\n",
              "    <tr>\n",
              "      <th>47.7</th>\n",
              "      <td>-0.544766</td>\n",
              "      <td>-0.187064</td>\n",
              "      <td>-0.475832</td>\n",
              "    </tr>\n",
              "    <tr>\n",
              "      <th>47.8</th>\n",
              "      <td>-0.625764</td>\n",
              "      <td>-0.259718</td>\n",
              "      <td>-0.562412</td>\n",
              "    </tr>\n",
              "    <tr>\n",
              "      <th>47.9</th>\n",
              "      <td>-0.700509</td>\n",
              "      <td>-0.329988</td>\n",
              "      <td>-0.643173</td>\n",
              "    </tr>\n",
              "    <tr>\n",
              "      <th>48.0</th>\n",
              "      <td>-0.768255</td>\n",
              "      <td>-0.394121</td>\n",
              "      <td>-0.717176</td>\n",
              "    </tr>\n",
              "    <tr>\n",
              "      <th>48.1</th>\n",
              "      <td>-0.828324</td>\n",
              "      <td>-0.452102</td>\n",
              "      <td>-0.783554</td>\n",
              "    </tr>\n",
              "    <tr>\n",
              "      <th>48.2</th>\n",
              "      <td>-0.880118</td>\n",
              "      <td>-0.505064</td>\n",
              "      <td>-0.841532</td>\n",
              "    </tr>\n",
              "    <tr>\n",
              "      <th>48.3</th>\n",
              "      <td>-0.923117</td>\n",
              "      <td>-0.555248</td>\n",
              "      <td>-0.890444</td>\n",
              "    </tr>\n",
              "    <tr>\n",
              "      <th>48.4</th>\n",
              "      <td>-0.956893</td>\n",
              "      <td>-0.598626</td>\n",
              "      <td>-0.929750</td>\n",
              "    </tr>\n",
              "    <tr>\n",
              "      <th>48.5</th>\n",
              "      <td>-0.981108</td>\n",
              "      <td>-0.631922</td>\n",
              "      <td>-0.959044</td>\n",
              "    </tr>\n",
              "    <tr>\n",
              "      <th>48.6</th>\n",
              "      <td>-0.995521</td>\n",
              "      <td>-0.659175</td>\n",
              "      <td>-0.978061</td>\n",
              "    </tr>\n",
              "    <tr>\n",
              "      <th>48.7</th>\n",
              "      <td>-0.999986</td>\n",
              "      <td>-0.680995</td>\n",
              "      <td>-0.986673</td>\n",
              "    </tr>\n",
              "    <tr>\n",
              "      <th>48.8</th>\n",
              "      <td>-0.994460</td>\n",
              "      <td>-0.696161</td>\n",
              "      <td>-0.984882</td>\n",
              "    </tr>\n",
              "    <tr>\n",
              "      <th>48.9</th>\n",
              "      <td>-0.978997</td>\n",
              "      <td>-0.701622</td>\n",
              "      <td>-0.972812</td>\n",
              "    </tr>\n",
              "    <tr>\n",
              "      <th>49.0</th>\n",
              "      <td>-0.953753</td>\n",
              "      <td>-0.699028</td>\n",
              "      <td>-0.950687</td>\n",
              "    </tr>\n",
              "    <tr>\n",
              "      <th>49.1</th>\n",
              "      <td>-0.918979</td>\n",
              "      <td>-0.691290</td>\n",
              "      <td>-0.918821</td>\n",
              "    </tr>\n",
              "    <tr>\n",
              "      <th>49.2</th>\n",
              "      <td>-0.875023</td>\n",
              "      <td>-0.677443</td>\n",
              "      <td>-0.877603</td>\n",
              "    </tr>\n",
              "    <tr>\n",
              "      <th>49.3</th>\n",
              "      <td>-0.822324</td>\n",
              "      <td>-0.654472</td>\n",
              "      <td>-0.827479</td>\n",
              "    </tr>\n",
              "    <tr>\n",
              "      <th>49.4</th>\n",
              "      <td>-0.761408</td>\n",
              "      <td>-0.621823</td>\n",
              "      <td>-0.768944</td>\n",
              "    </tr>\n",
              "    <tr>\n",
              "      <th>49.5</th>\n",
              "      <td>-0.692885</td>\n",
              "      <td>-0.585280</td>\n",
              "      <td>-0.702535</td>\n",
              "    </tr>\n",
              "    <tr>\n",
              "      <th>49.6</th>\n",
              "      <td>-0.617439</td>\n",
              "      <td>-0.545993</td>\n",
              "      <td>-0.628826</td>\n",
              "    </tr>\n",
              "    <tr>\n",
              "      <th>49.7</th>\n",
              "      <td>-0.535823</td>\n",
              "      <td>-0.498887</td>\n",
              "      <td>-0.548427</td>\n",
              "    </tr>\n",
              "    <tr>\n",
              "      <th>49.8</th>\n",
              "      <td>-0.448854</td>\n",
              "      <td>-0.442622</td>\n",
              "      <td>-0.461983</td>\n",
              "    </tr>\n",
              "    <tr>\n",
              "      <th>49.9</th>\n",
              "      <td>-0.357400</td>\n",
              "      <td>-0.382294</td>\n",
              "      <td>-0.370184</td>\n",
              "    </tr>\n",
              "    <tr>\n",
              "      <th>50.0</th>\n",
              "      <td>-0.262375</td>\n",
              "      <td>-0.320821</td>\n",
              "      <td>-0.273765</td>\n",
              "    </tr>\n",
              "  </tbody>\n",
              "</table>\n",
              "</div>"
            ],
            "text/plain": [
              "          Seno  Predições  Predições_LSTM\n",
              "45.1  0.899097   0.932384        0.925624\n",
              "45.2  0.938307   0.980438        0.964501\n",
              "45.3  0.968142   1.013593        0.995388\n",
              "45.4  0.988304   1.037866        1.017334\n",
              "45.5  0.998591   1.058025        1.029886\n",
              "45.6  0.998900   1.066914        1.032822\n",
              "45.7  0.989229   1.062473        1.026091\n",
              "45.8  0.969673   1.048538        1.009775\n",
              "45.9  0.940429   1.026103        0.984070\n",
              "46.0  0.901788   0.996488        0.949260\n",
              "46.1  0.854137   0.953915        0.905706\n",
              "46.2  0.797952   0.902506        0.853835\n",
              "46.3  0.733794   0.849702        0.794130\n",
              "46.4  0.662304   0.793681        0.727126\n",
              "46.5  0.584197   0.729885        0.653411\n",
              "46.6  0.500252   0.661426        0.573618\n",
              "46.7  0.411309   0.589823        0.488431\n",
              "46.8  0.318257   0.518341        0.398585\n",
              "46.9  0.222024   0.443432        0.304861\n",
              "47.0  0.123573   0.364667        0.208092\n",
              "47.1  0.023888   0.284344        0.109158\n",
              "47.2 -0.076037   0.204943        0.008981\n",
              "47.3 -0.175201   0.126311       -0.091472\n",
              "47.4 -0.272615   0.045112       -0.191206\n",
              "47.5 -0.367305  -0.035397       -0.289201\n",
              "47.6 -0.458325  -0.112880       -0.384421\n",
              "47.7 -0.544766  -0.187064       -0.475832\n",
              "47.8 -0.625764  -0.259718       -0.562412\n",
              "47.9 -0.700509  -0.329988       -0.643173\n",
              "48.0 -0.768255  -0.394121       -0.717176\n",
              "48.1 -0.828324  -0.452102       -0.783554\n",
              "48.2 -0.880118  -0.505064       -0.841532\n",
              "48.3 -0.923117  -0.555248       -0.890444\n",
              "48.4 -0.956893  -0.598626       -0.929750\n",
              "48.5 -0.981108  -0.631922       -0.959044\n",
              "48.6 -0.995521  -0.659175       -0.978061\n",
              "48.7 -0.999986  -0.680995       -0.986673\n",
              "48.8 -0.994460  -0.696161       -0.984882\n",
              "48.9 -0.978997  -0.701622       -0.972812\n",
              "49.0 -0.953753  -0.699028       -0.950687\n",
              "49.1 -0.918979  -0.691290       -0.918821\n",
              "49.2 -0.875023  -0.677443       -0.877603\n",
              "49.3 -0.822324  -0.654472       -0.827479\n",
              "49.4 -0.761408  -0.621823       -0.768944\n",
              "49.5 -0.692885  -0.585280       -0.702535\n",
              "49.6 -0.617439  -0.545993       -0.628826\n",
              "49.7 -0.535823  -0.498887       -0.548427\n",
              "49.8 -0.448854  -0.442622       -0.461983\n",
              "49.9 -0.357400  -0.382294       -0.370184\n",
              "50.0 -0.262375  -0.320821       -0.273765"
            ]
          },
          "metadata": {
            "tags": []
          },
          "execution_count": 53
        }
      ]
    },
    {
      "cell_type": "code",
      "metadata": {
        "colab": {
          "base_uri": "https://localhost:8080/",
          "height": 481
        },
        "id": "zbDJmQ0tZLkJ",
        "outputId": "ae5b7a93-6fe3-41d3-a9c6-9efed6c50980"
      },
      "source": [
        "test.plot(figsize=(40,20))"
      ],
      "execution_count": 54,
      "outputs": [
        {
          "output_type": "execute_result",
          "data": {
            "text/plain": [
              "<matplotlib.axes._subplots.AxesSubplot at 0x7f8454a13490>"
            ]
          },
          "metadata": {
            "tags": []
          },
          "execution_count": 54
        },
        {
          "output_type": "display_data",
          "data": {
            "image/png": "[encoded data removed]",
            "text/plain": [
              "<Figure size 2880x1440 with 1 Axes>"
            ]
          },
          "metadata": {
            "tags": [],
            "needs_background": "light"
          }
        }
      ]
    },
    {
      "cell_type": "markdown",
      "metadata": {
        "id": "CU-QcIiiaOmJ"
      },
      "source": [
        "Noto que meu modelo LSTM é muito superior a uma RNN tradicional."
      ]
    },
    {
      "cell_type": "markdown",
      "metadata": {
        "id": "js_KsAvQmDno"
      },
      "source": [
        "#Nova Previsão\n",
        "\n"
      ]
    },
    {
      "cell_type": "markdown",
      "metadata": {
        "id": "-GD45mJ5maX-"
      },
      "source": [
        "Através da figura abaixo, noto que  a série temporal se limita a x=50. Portanto, irei simular uma previsão além desse valor. \n",
        "\n",
        "\n",
        "\n"
      ]
    },
    {
      "cell_type": "code",
      "metadata": {
        "id": "qDpdz636ZLm4",
        "colab": {
          "base_uri": "https://localhost:8080/",
          "height": 282
        },
        "outputId": "265cc5c8-5d33-4fde-f0aa-1da2e787b75e"
      },
      "source": [
        "df.plot()\n"
      ],
      "execution_count": 55,
      "outputs": [
        {
          "output_type": "execute_result",
          "data": {
            "text/plain": [
              "<matplotlib.axes._subplots.AxesSubplot at 0x7f845636ccd0>"
            ]
          },
          "metadata": {
            "tags": []
          },
          "execution_count": 55
        },
        {
          "output_type": "display_data",
          "data": {
            "image/png": "[encoded data removed]",
            "text/plain": [
              "<Figure size 432x288 with 1 Axes>"
            ]
          },
          "metadata": {
            "tags": [],
            "needs_background": "light"
          }
        }
      ]
    },
    {
      "cell_type": "markdown",
      "metadata": {
        "id": "hBy9Uve9m9af"
      },
      "source": [
        "Agora, irei dimensionar todos os meus dados para ajustar a transformação em todos os dados,  uma vez que irei fazer  uma previsão para no futuro"
      ]
    },
    {
      "cell_type": "code",
      "metadata": {
        "id": "5_IQFYgUZLpM"
      },
      "source": [
        "full_scaler = MinMaxScaler()\n",
        "scaled_full_data = full_scaler.fit_transform(df)"
      ],
      "execution_count": 56,
      "outputs": []
    },
    {
      "cell_type": "code",
      "metadata": {
        "id": "VE3Tni_snpu-"
      },
      "source": [
        "generator = TimeseriesGenerator(scaled_full_data, scaled_full_data, length=length , batch_size=1 )"
      ],
      "execution_count": 57,
      "outputs": []
    },
    {
      "cell_type": "code",
      "metadata": {
        "id": "p5j1xYbtnKZz"
      },
      "source": [
        "model = Sequential()\n",
        "\n",
        "model.add(LSTM(50, input_shape = (length,n_features)))\n",
        "\n",
        "model.add(Dense(1))\n",
        "\n",
        "model.compile(optimizer ='adam', loss='mse')"
      ],
      "execution_count": 58,
      "outputs": []
    },
    {
      "cell_type": "code",
      "metadata": {
        "colab": {
          "base_uri": "https://localhost:8080/"
        },
        "id": "7k8H7mzXoQLQ",
        "outputId": "52ad4fe8-b843-457a-e866-91acaf75cb01"
      },
      "source": [
        "model.fit_generator(generator, epochs=10)"
      ],
      "execution_count": 59,
      "outputs": [
        {
          "output_type": "stream",
          "text": [
            "/usr/local/lib/python3.7/dist-packages/tensorflow/python/keras/engine/training.py:1844: UserWarning: `Model.fit_generator` is deprecated and will be removed in a future version. Please use `Model.fit`, which supports generators.\n",
            "  warnings.warn('`Model.fit_generator` is deprecated and '\n"
          ],
          "name": "stderr"
        },
        {
          "output_type": "stream",
          "text": [
            "Epoch 1/10\n",
            "452/452 [==============================] - 8s 14ms/step - loss: 0.0424\n",
            "Epoch 2/10\n",
            "452/452 [==============================] - 6s 14ms/step - loss: 8.5636e-05\n",
            "Epoch 3/10\n",
            "452/452 [==============================] - 7s 15ms/step - loss: 7.6276e-05\n",
            "Epoch 4/10\n",
            "452/452 [==============================] - 7s 14ms/step - loss: 3.7083e-05\n",
            "Epoch 5/10\n",
            "452/452 [==============================] - 7s 15ms/step - loss: 5.8514e-05\n",
            "Epoch 6/10\n",
            "452/452 [==============================] - 7s 15ms/step - loss: 9.9001e-04\n",
            "Epoch 7/10\n",
            "452/452 [==============================] - 6s 14ms/step - loss: 5.0045e-05\n",
            "Epoch 8/10\n",
            "452/452 [==============================] - 6s 14ms/step - loss: 4.8744e-04\n",
            "Epoch 9/10\n",
            "452/452 [==============================] - 7s 15ms/step - loss: 5.4163e-05\n",
            "Epoch 10/10\n",
            "452/452 [==============================] - 7s 15ms/step - loss: 5.2822e-05\n"
          ],
          "name": "stdout"
        },
        {
          "output_type": "execute_result",
          "data": {
            "text/plain": [
              "<tensorflow.python.keras.callbacks.History at 0x7f84547a1650>"
            ]
          },
          "metadata": {
            "tags": []
          },
          "execution_count": 59
        }
      ]
    },
    {
      "cell_type": "code",
      "metadata": {
        "id": "47sEDvlKoVkE"
      },
      "source": [
        "# apesar de ser uma cópia de uma célula anterior, exceto que agora não estou prevendo no meu intervalo de teste.\n",
        "#Em vez disso, vou fazer uma previsão e  posso decidir quantos espaços desejo prever no futuro.\n",
        "\n",
        "forecast = []\n",
        "\n",
        "first_eval_batch = scaled_train[-length:]\n",
        "current_batch = first_eval_batch.reshape((1,length,n_features))\n",
        "\n",
        "for i in range(25):\n",
        "\n",
        "  #minha primeira previsão\n",
        "  current_pred = model.predict(current_batch)[0]\n",
        "\n",
        "  forecast.append(current_pred)\n",
        "  \n",
        "  current_batch = np.append(current_batch[:,1:,:],[[current_pred]],axis=1)"
      ],
      "execution_count": 67,
      "outputs": []
    },
    {
      "cell_type": "code",
      "metadata": {
        "colab": {
          "base_uri": "https://localhost:8080/",
          "height": 419
        },
        "id": "9WzSczESpi6v",
        "outputId": "5d365bf8-bc2c-47b6-cc62-3365e368ef8c"
      },
      "source": [
        "df"
      ],
      "execution_count": 68,
      "outputs": [
        {
          "output_type": "execute_result",
          "data": {
            "text/html": [
              "<div>\n",
              "<style scoped>\n",
              "    .dataframe tbody tr th:only-of-type {\n",
              "        vertical-align: middle;\n",
              "    }\n",
              "\n",
              "    .dataframe tbody tr th {\n",
              "        vertical-align: top;\n",
              "    }\n",
              "\n",
              "    .dataframe thead th {\n",
              "        text-align: right;\n",
              "    }\n",
              "</style>\n",
              "<table border=\"1\" class=\"dataframe\">\n",
              "  <thead>\n",
              "    <tr style=\"text-align: right;\">\n",
              "      <th></th>\n",
              "      <th>Seno</th>\n",
              "    </tr>\n",
              "  </thead>\n",
              "  <tbody>\n",
              "    <tr>\n",
              "      <th>0.0</th>\n",
              "      <td>0.000000</td>\n",
              "    </tr>\n",
              "    <tr>\n",
              "      <th>0.1</th>\n",
              "      <td>0.099833</td>\n",
              "    </tr>\n",
              "    <tr>\n",
              "      <th>0.2</th>\n",
              "      <td>0.198669</td>\n",
              "    </tr>\n",
              "    <tr>\n",
              "      <th>0.3</th>\n",
              "      <td>0.295520</td>\n",
              "    </tr>\n",
              "    <tr>\n",
              "      <th>0.4</th>\n",
              "      <td>0.389418</td>\n",
              "    </tr>\n",
              "    <tr>\n",
              "      <th>...</th>\n",
              "      <td>...</td>\n",
              "    </tr>\n",
              "    <tr>\n",
              "      <th>49.6</th>\n",
              "      <td>-0.617439</td>\n",
              "    </tr>\n",
              "    <tr>\n",
              "      <th>49.7</th>\n",
              "      <td>-0.535823</td>\n",
              "    </tr>\n",
              "    <tr>\n",
              "      <th>49.8</th>\n",
              "      <td>-0.448854</td>\n",
              "    </tr>\n",
              "    <tr>\n",
              "      <th>49.9</th>\n",
              "      <td>-0.357400</td>\n",
              "    </tr>\n",
              "    <tr>\n",
              "      <th>50.0</th>\n",
              "      <td>-0.262375</td>\n",
              "    </tr>\n",
              "  </tbody>\n",
              "</table>\n",
              "<p>501 rows × 1 columns</p>\n",
              "</div>"
            ],
            "text/plain": [
              "          Seno\n",
              "0.0   0.000000\n",
              "0.1   0.099833\n",
              "0.2   0.198669\n",
              "0.3   0.295520\n",
              "0.4   0.389418\n",
              "...        ...\n",
              "49.6 -0.617439\n",
              "49.7 -0.535823\n",
              "49.8 -0.448854\n",
              "49.9 -0.357400\n",
              "50.0 -0.262375\n",
              "\n",
              "[501 rows x 1 columns]"
            ]
          },
          "metadata": {
            "tags": []
          },
          "execution_count": 68
        }
      ]
    },
    {
      "cell_type": "code",
      "metadata": {
        "colab": {
          "base_uri": "https://localhost:8080/"
        },
        "id": "em3XXP1Jps7G",
        "outputId": "fa9c5ec5-5f39-4d3e-9be4-be7f5acc20db"
      },
      "source": [
        "forecast\n"
      ],
      "execution_count": 69,
      "outputs": [
        {
          "output_type": "execute_result",
          "data": {
            "text/plain": [
              "[array([0.95408225], dtype=float32),\n",
              " array([0.97339654], dtype=float32),\n",
              " array([0.98822284], dtype=float32),\n",
              " array([0.99843156], dtype=float32),\n",
              " array([1.0039157], dtype=float32),\n",
              " array([1.0046343], dtype=float32),\n",
              " array([1.0006069], dtype=float32),\n",
              " array([0.9919038], dtype=float32),\n",
              " array([0.97864115], dtype=float32),\n",
              " array([0.9609716], dtype=float32),\n",
              " array([0.93908155], dtype=float32),\n",
              " array([0.91318536], dtype=float32),\n",
              " array([0.8835223], dtype=float32),\n",
              " array([0.85035574], dtype=float32),\n",
              " array([0.81397104], dtype=float32),\n",
              " array([0.77467585], dtype=float32),\n",
              " array([0.73280025], dtype=float32),\n",
              " array([0.6886965], dtype=float32),\n",
              " array([0.6427413], dtype=float32),\n",
              " array([0.59533334], dtype=float32),\n",
              " array([0.5468943], dtype=float32),\n",
              " array([0.49786684], dtype=float32),\n",
              " array([0.44871235], dtype=float32),\n",
              " array([0.39990768], dtype=float32),\n",
              " array([0.35194042], dtype=float32)]"
            ]
          },
          "metadata": {
            "tags": []
          },
          "execution_count": 69
        }
      ]
    },
    {
      "cell_type": "markdown",
      "metadata": {
        "id": "qAniZhP9psMw"
      },
      "source": [
        "A primeira figura, mostra nosso conjunto de dados original. Nota-se que o conjunto de dados \"forecast\" precisa ser formatado."
      ]
    },
    {
      "cell_type": "code",
      "metadata": {
        "id": "tkp-UP11pjZk"
      },
      "source": [
        "forecast = scaler.inverse_transform (forecast)"
      ],
      "execution_count": 70,
      "outputs": []
    },
    {
      "cell_type": "code",
      "metadata": {
        "colab": {
          "base_uri": "https://localhost:8080/"
        },
        "id": "9WgYtKUUqWEW",
        "outputId": "c73bc3bb-7675-45af-f4fd-7d1ed04296bc"
      },
      "source": [
        "forecast\n"
      ],
      "execution_count": 71,
      "outputs": [
        {
          "output_type": "execute_result",
          "data": {
            "text/plain": [
              "array([[ 0.90815898],\n",
              "       [ 0.94678725],\n",
              "       [ 0.97643961],\n",
              "       [ 0.99685689],\n",
              "       [ 1.00782502],\n",
              "       [ 1.00926219],\n",
              "       [ 1.00120752],\n",
              "       [ 0.98380144],\n",
              "       [ 0.95727639],\n",
              "       [ 0.92193756],\n",
              "       [ 0.87815782],\n",
              "       [ 0.82636585],\n",
              "       [ 0.76704016],\n",
              "       [ 0.70070763],\n",
              "       [ 0.62793881],\n",
              "       [ 0.54934905],\n",
              "       [ 0.46559852],\n",
              "       [ 0.37739175],\n",
              "       [ 0.28548212],\n",
              "       [ 0.19066691],\n",
              "       [ 0.09378964],\n",
              "       [-0.00426452],\n",
              "       [-0.10257271],\n",
              "       [-0.20018127],\n",
              "       [-0.29611501]])"
            ]
          },
          "metadata": {
            "tags": []
          },
          "execution_count": 71
        }
      ]
    },
    {
      "cell_type": "code",
      "metadata": {
        "id": "ZZBuPGI9qZ7D"
      },
      "source": [
        "#Usando essa lógica, direi que meu índice de previsão( forecast_index) é igual ao intervalo abaixo, começando em 50,1.\n",
        "#Devo me lembrar que o último número do conjunto original de dados é 50, portanto, o primeiro número do conjunto de previsões \n",
        "#será 50.1 Meu passo será 0.1 . Portanto 25 pontos x 0.1 = 2.5. Assim 50.1+2,5 = 52,6\n",
        "forecast_index = np.arange(50.1,52.6,step=0.1)"
      ],
      "execution_count": 78,
      "outputs": []
    },
    {
      "cell_type": "code",
      "metadata": {
        "colab": {
          "base_uri": "https://localhost:8080/"
        },
        "id": "1xzMJvvMrGZj",
        "outputId": "85b5aed8-22c6-4b27-a849-b567bff593f6"
      },
      "source": [
        "forecast_index"
      ],
      "execution_count": 77,
      "outputs": [
        {
          "output_type": "execute_result",
          "data": {
            "text/plain": [
              "array([50.1, 50.2, 50.3, 50.4, 50.5, 50.6, 50.7, 50.8, 50.9, 51. , 51.1,\n",
              "       51.2, 51.3, 51.4, 51.5, 51.6, 51.7, 51.8, 51.9, 52. , 52.1, 52.2,\n",
              "       52.3, 52.4, 52.5])"
            ]
          },
          "metadata": {
            "tags": []
          },
          "execution_count": 77
        }
      ]
    },
    {
      "cell_type": "code",
      "metadata": {
        "colab": {
          "base_uri": "https://localhost:8080/"
        },
        "id": "ZuBP3Lvnp2_X",
        "outputId": "4f90ffd7-32ac-4f19-e461-dff5917e6680"
      },
      "source": [
        "len(forecast_index)"
      ],
      "execution_count": 74,
      "outputs": [
        {
          "output_type": "execute_result",
          "data": {
            "text/plain": [
              "25"
            ]
          },
          "metadata": {
            "tags": []
          },
          "execution_count": 74
        }
      ]
    },
    {
      "cell_type": "code",
      "metadata": {
        "colab": {
          "base_uri": "https://localhost:8080/",
          "height": 282
        },
        "id": "s-I0L9IRp3CP",
        "outputId": "77dd05f2-a1d0-4550-c94a-639d30c85a6e"
      },
      "source": [
        "plt.plot(df.index,df['Seno'])\n",
        "plt.plot(forecast_index,forecast)"
      ],
      "execution_count": 75,
      "outputs": [
        {
          "output_type": "execute_result",
          "data": {
            "text/plain": [
              "[<matplotlib.lines.Line2D at 0x7f8451b96290>]"
            ]
          },
          "metadata": {
            "tags": []
          },
          "execution_count": 75
        },
        {
          "output_type": "display_data",
          "data": {
            "image/png": "[encoded data removed]",
            "text/plain": [
              "<Figure size 432x288 with 1 Axes>"
            ]
          },
          "metadata": {
            "tags": [],
            "needs_background": "light"
          }
        }
      ]
    },
    {
      "cell_type": "markdown",
      "metadata": {
        "id": "i-K3S6cisXPc"
      },
      "source": [
        "E a razão pela qual eu vejo uma grande lacuna, é porque essas são duas séries essencialmente separadas. Portanto, não há linha que os conecte automaticamente aqui. No entanto, eu poderia fazer vinculá-los usando concatenação de pontos."
      ]
    }
  ]
}
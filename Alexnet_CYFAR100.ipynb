{
  "nbformat": 4,
  "nbformat_minor": 0,
  "metadata": {
    "colab": {
      "name": "Alexnet_CYFAR100.ipynb",
      "provenance": [],
      "collapsed_sections": [],
      "authorship_tag": "ABX9TyMZkpN541LAQZXshMH9bK3L",
      "include_colab_link": true
    },
    "kernelspec": {
      "name": "python3",
      "display_name": "Python 3"
    },
    "language_info": {
      "name": "python"
    },
    "accelerator": "GPU"
  },
  "cells": [
    {
      "cell_type": "markdown",
      "metadata": {
        "id": "view-in-github",
        "colab_type": "text"
      },
      "source": [
        "<a href=\"https://colab.research.google.com/github/ulisses-adonis/.Artificial-neural-network--projects/blob/main/Alexnet_CYFAR100.ipynb\" target=\"_parent\"><img src=\"https://colab.research.google.com/assets/colab-badge.svg\" alt=\"Open In Colab\"/></a>"
      ]
    },
    {
      "cell_type": "code",
      "metadata": {
        "id": "M4K90EoGQt6U"
      },
      "source": [
        "from keras.models import Sequential\n",
        "from keras.layers.core import Dense, Dropout, Activation, Flatten\n",
        "from keras.layers.convolutional import Conv2D, MaxPooling2D, ZeroPadding2D\n",
        "from keras.layers.normalization import BatchNormalization\n",
        "from keras.regularizers import l2\n",
        "from keras.datasets import cifar10, cifar100\n",
        "from keras.optimizers import Adam\n",
        "from tensorflow.keras.utils import to_categorical\n",
        "import numpy as np"
      ],
      "execution_count": 1,
      "outputs": []
    },
    {
      "cell_type": "markdown",
      "metadata": {
        "id": "S3g6cPUXRr5F"
      },
      "source": [
        "\n",
        "Professor, só pra avisar no código do pdf está 224x224. Altera para 32x32? \n",
        "\n",
        "\n",
        "\n",
        "eu preciso normalizar a entrada e a saida.\n",
        "Eu preciso que minha saida seja  igual neuronios =classe."
      ]
    },
    {
      "cell_type": "code",
      "metadata": {
        "id": "TZSKGbeYQ7M-"
      },
      "source": [
        "np.random.seed(1000)\n",
        "(X_train10, Y_train10), (X_test10, Y_test10) = cifar10.load_data()\n",
        "(X_train100, Y_train100), (X_test100, Y_test100) = cifar100.load_data()"
      ],
      "execution_count": 2,
      "outputs": []
    },
    {
      "cell_type": "code",
      "metadata": {
        "id": "3MrWYJQEQ7Ph"
      },
      "source": [
        "alexnet = Sequential()\n",
        "\n",
        "# Layer 1\n",
        "alexnet.add(Conv2D(96, (3, 3), input_shape=(32, 32, 3),\n",
        " padding='same'))\n",
        "alexnet.add(BatchNormalization())\n",
        "alexnet.add(Activation('relu'))\n",
        "alexnet.add(MaxPooling2D(pool_size=(2, 2)))\n",
        "\n",
        "# Layer 2\n",
        "alexnet.add(Conv2D(256, (5, 5), padding='same'))\n",
        "alexnet.add(BatchNormalization())\n",
        "alexnet.add(Activation('relu'))\n",
        "alexnet.add(MaxPooling2D(pool_size=(2, 2)))\n",
        "\n",
        "# Layer 3\n",
        "alexnet.add(Conv2D(512, (3, 3), padding='same'))\n",
        "alexnet.add(BatchNormalization())\n",
        "alexnet.add(Activation('relu'))\n",
        "alexnet.add(MaxPooling2D(pool_size=(2, 2)))\n",
        "\n",
        "# Layer 4\n",
        "alexnet.add(Conv2D(1024, (3, 3), padding='same'))\n",
        "alexnet.add(BatchNormalization())\n",
        "alexnet.add(Activation('relu'))\n",
        "\n",
        "# Layer 5\n",
        "alexnet.add(Conv2D(1024, (3, 3), padding='same'))\n",
        "alexnet.add(BatchNormalization())\n",
        "alexnet.add(Activation('relu'))\n",
        "alexnet.add(MaxPooling2D(pool_size=(2, 2)))\n",
        "\n",
        "# Layer 6\n",
        "alexnet.add(Flatten())\n",
        "alexnet.add(Dense(4096, kernel_initializer='zeros'))\n",
        "alexnet.add(BatchNormalization())\n",
        "alexnet.add(Activation('relu'))\n",
        "alexnet.add(Dropout(0.5))\n",
        "# Layer 7\n",
        "alexnet.add(Dense(4096, kernel_initializer='zeros'))\n",
        "alexnet.add(BatchNormalization())\n",
        "alexnet.add(Activation('relu'))\n",
        "alexnet.add(Dropout(0.5))\n",
        "# Layer 8\n",
        "alexnet.add(Dense(100, kernel_initializer='zeros'))\n",
        "alexnet.add(BatchNormalization())\n",
        "alexnet.add(Activation('softmax'))"
      ],
      "execution_count": 3,
      "outputs": []
    },
    {
      "cell_type": "code",
      "metadata": {
        "colab": {
          "base_uri": "https://localhost:8080/"
        },
        "id": "G5GySGfNQ7Sq",
        "outputId": "00f3b186-512b-4f39-a19e-20225d30f16a"
      },
      "source": [
        "alexnet.compile(loss='categorical_crossentropy',\n",
        " optimizer=Adam(lr=0.0001),\n",
        " metrics=['accuracy'])\n",
        "\n"
      ],
      "execution_count": 4,
      "outputs": [
        {
          "output_type": "stream",
          "text": [
            "/usr/local/lib/python3.7/dist-packages/tensorflow/python/keras/optimizer_v2/optimizer_v2.py:375: UserWarning: The `lr` argument is deprecated, use `learning_rate` instead.\n",
            "  \"The `lr` argument is deprecated, use `learning_rate` instead.\")\n"
          ],
          "name": "stderr"
        }
      ]
    },
    {
      "cell_type": "code",
      "metadata": {
        "colab": {
          "base_uri": "https://localhost:8080/"
        },
        "id": "htcf7Sjk2JkV",
        "outputId": "74e77693-6c63-46d1-8517-820bc6b3358a"
      },
      "source": [
        "alexnet.summary()"
      ],
      "execution_count": 5,
      "outputs": [
        {
          "output_type": "stream",
          "text": [
            "Model: \"sequential\"\n",
            "_________________________________________________________________\n",
            "Layer (type)                 Output Shape              Param #   \n",
            "=================================================================\n",
            "conv2d (Conv2D)              (None, 32, 32, 96)        2688      \n",
            "_________________________________________________________________\n",
            "batch_normalization (BatchNo (None, 32, 32, 96)        384       \n",
            "_________________________________________________________________\n",
            "activation (Activation)      (None, 32, 32, 96)        0         \n",
            "_________________________________________________________________\n",
            "max_pooling2d (MaxPooling2D) (None, 16, 16, 96)        0         \n",
            "_________________________________________________________________\n",
            "conv2d_1 (Conv2D)            (None, 16, 16, 256)       614656    \n",
            "_________________________________________________________________\n",
            "batch_normalization_1 (Batch (None, 16, 16, 256)       1024      \n",
            "_________________________________________________________________\n",
            "activation_1 (Activation)    (None, 16, 16, 256)       0         \n",
            "_________________________________________________________________\n",
            "max_pooling2d_1 (MaxPooling2 (None, 8, 8, 256)         0         \n",
            "_________________________________________________________________\n",
            "conv2d_2 (Conv2D)            (None, 8, 8, 512)         1180160   \n",
            "_________________________________________________________________\n",
            "batch_normalization_2 (Batch (None, 8, 8, 512)         2048      \n",
            "_________________________________________________________________\n",
            "activation_2 (Activation)    (None, 8, 8, 512)         0         \n",
            "_________________________________________________________________\n",
            "max_pooling2d_2 (MaxPooling2 (None, 4, 4, 512)         0         \n",
            "_________________________________________________________________\n",
            "conv2d_3 (Conv2D)            (None, 4, 4, 1024)        4719616   \n",
            "_________________________________________________________________\n",
            "batch_normalization_3 (Batch (None, 4, 4, 1024)        4096      \n",
            "_________________________________________________________________\n",
            "activation_3 (Activation)    (None, 4, 4, 1024)        0         \n",
            "_________________________________________________________________\n",
            "conv2d_4 (Conv2D)            (None, 4, 4, 1024)        9438208   \n",
            "_________________________________________________________________\n",
            "batch_normalization_4 (Batch (None, 4, 4, 1024)        4096      \n",
            "_________________________________________________________________\n",
            "activation_4 (Activation)    (None, 4, 4, 1024)        0         \n",
            "_________________________________________________________________\n",
            "max_pooling2d_3 (MaxPooling2 (None, 2, 2, 1024)        0         \n",
            "_________________________________________________________________\n",
            "flatten (Flatten)            (None, 4096)              0         \n",
            "_________________________________________________________________\n",
            "dense (Dense)                (None, 4096)              16781312  \n",
            "_________________________________________________________________\n",
            "batch_normalization_5 (Batch (None, 4096)              16384     \n",
            "_________________________________________________________________\n",
            "activation_5 (Activation)    (None, 4096)              0         \n",
            "_________________________________________________________________\n",
            "dropout (Dropout)            (None, 4096)              0         \n",
            "_________________________________________________________________\n",
            "dense_1 (Dense)              (None, 4096)              16781312  \n",
            "_________________________________________________________________\n",
            "batch_normalization_6 (Batch (None, 4096)              16384     \n",
            "_________________________________________________________________\n",
            "activation_6 (Activation)    (None, 4096)              0         \n",
            "_________________________________________________________________\n",
            "dropout_1 (Dropout)          (None, 4096)              0         \n",
            "_________________________________________________________________\n",
            "dense_2 (Dense)              (None, 100)               409700    \n",
            "_________________________________________________________________\n",
            "batch_normalization_7 (Batch (None, 100)               400       \n",
            "_________________________________________________________________\n",
            "activation_7 (Activation)    (None, 100)               0         \n",
            "=================================================================\n",
            "Total params: 49,972,468\n",
            "Trainable params: 49,950,060\n",
            "Non-trainable params: 22,408\n",
            "_________________________________________________________________\n"
          ],
          "name": "stdout"
        }
      ]
    },
    {
      "cell_type": "code",
      "metadata": {
        "colab": {
          "base_uri": "https://localhost:8080/"
        },
        "id": "oezBwtl4Q7Vl",
        "outputId": "a6011522-aadd-4c98-c1a5-0a87a05f7b5e"
      },
      "source": [
        "#(X_train100, Y_train100), (X_test100, Y_test100) = cifar100.load_data()\n",
        "#alexnet.fit(X_train10 / 255.0, to_categorical(Y_train10),\n",
        "alexnet.fit(X_train100 / 255.0, to_categorical(Y_train100),\n",
        " batch_size=128,\n",
        " shuffle=True,\n",
        " epochs=10,\n",
        "#validation_data=(X_test10 / 255.0, to_categorical(Y_test10)))\n",
        "validation_data=(X_test100/ 255.0, to_categorical(Y_test100)))"
      ],
      "execution_count": 6,
      "outputs": [
        {
          "output_type": "stream",
          "text": [
            "Epoch 1/10\n",
            "391/391 [==============================] - 52s 80ms/step - loss: 4.6052 - accuracy: 0.0089 - val_loss: 4.6052 - val_accuracy: 0.0100\n",
            "Epoch 2/10\n",
            "391/391 [==============================] - 29s 73ms/step - loss: 4.6052 - accuracy: 0.0100 - val_loss: 4.6053 - val_accuracy: 0.0100\n",
            "Epoch 3/10\n",
            "391/391 [==============================] - 28s 72ms/step - loss: 4.6052 - accuracy: 0.0089 - val_loss: 4.6053 - val_accuracy: 0.0100\n",
            "Epoch 4/10\n",
            "391/391 [==============================] - 28s 72ms/step - loss: 4.6052 - accuracy: 0.0087 - val_loss: 4.6054 - val_accuracy: 0.0100\n",
            "Epoch 5/10\n",
            "391/391 [==============================] - 28s 73ms/step - loss: 4.6052 - accuracy: 0.0097 - val_loss: 4.6053 - val_accuracy: 0.0100\n",
            "Epoch 6/10\n",
            "391/391 [==============================] - 28s 72ms/step - loss: 4.6052 - accuracy: 0.0085 - val_loss: 4.6053 - val_accuracy: 0.0100\n",
            "Epoch 7/10\n",
            "391/391 [==============================] - 28s 72ms/step - loss: 4.6052 - accuracy: 0.0088 - val_loss: 4.6054 - val_accuracy: 0.0100\n",
            "Epoch 8/10\n",
            "391/391 [==============================] - 28s 72ms/step - loss: 4.6052 - accuracy: 0.0098 - val_loss: 4.6053 - val_accuracy: 0.0100\n",
            "Epoch 9/10\n",
            "391/391 [==============================] - 28s 72ms/step - loss: 4.6052 - accuracy: 0.0098 - val_loss: 4.6054 - val_accuracy: 0.0100\n",
            "Epoch 10/10\n",
            "391/391 [==============================] - 28s 72ms/step - loss: 4.6052 - accuracy: 0.0093 - val_loss: 4.6054 - val_accuracy: 0.0100\n"
          ],
          "name": "stdout"
        },
        {
          "output_type": "execute_result",
          "data": {
            "text/plain": [
              "<keras.callbacks.History at 0x7f8e43b23790>"
            ]
          },
          "metadata": {
            "tags": []
          },
          "execution_count": 6
        }
      ]
    },
    {
      "cell_type": "code",
      "metadata": {
        "id": "vyf-DEguQ7YJ",
        "colab": {
          "base_uri": "https://localhost:8080/"
        },
        "outputId": "b2a7384e-015a-4a26-aff1-792dd7fa5cca"
      },
      "source": [
        "scores = alexnet.evaluate(X_test100 / 255.0, to_categorical(Y_test100))\n"
      ],
      "execution_count": 9,
      "outputs": [
        {
          "output_type": "stream",
          "text": [
            "313/313 [==============================] - 3s 10ms/step - loss: 4.6054 - accuracy: 0.0100\n"
          ],
          "name": "stdout"
        }
      ]
    },
    {
      "cell_type": "code",
      "metadata": {
        "colab": {
          "base_uri": "https://localhost:8080/"
        },
        "id": "vpIb065uFTf_",
        "outputId": "20a164d3-a096-4b5e-d119-d4ae03189d04"
      },
      "source": [
        "print('Loss: %.3f' % scores[0])\n",
        "print('Accuracy: %.3f' % scores[1])"
      ],
      "execution_count": 10,
      "outputs": [
        {
          "output_type": "stream",
          "text": [
            "Loss: 4.605\n",
            "Accuracy: 0.010\n"
          ],
          "name": "stdout"
        }
      ]
    },
    {
      "cell_type": "markdown",
      "metadata": {
        "id": "waWCR05g5kdw"
      },
      "source": [
        " **Rede com  batch_size = 100**   Loss: 2.645\n",
        "Accuracy: 0.402\n",
        " print('Loss: %.3f' % scores[0])\n"
      ]
    },
    {
      "cell_type": "code",
      "metadata": {
        "id": "phAbEWgEFqDm"
      },
      "source": [
        ""
      ],
      "execution_count": 8,
      "outputs": []
    },
    {
      "cell_type": "code",
      "metadata": {
        "id": "VIyO2uZbFqGv"
      },
      "source": [
        ""
      ],
      "execution_count": 8,
      "outputs": []
    },
    {
      "cell_type": "code",
      "metadata": {
        "id": "H2_KjeiGFqJl"
      },
      "source": [
        ""
      ],
      "execution_count": 8,
      "outputs": []
    }
  ]
}
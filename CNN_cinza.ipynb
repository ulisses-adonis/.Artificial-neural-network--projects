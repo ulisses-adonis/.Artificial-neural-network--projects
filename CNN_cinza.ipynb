{
  "nbformat": 4,
  "nbformat_minor": 0,
  "metadata": {
    "colab": {
      "name": "CNN_1_canal_de_cor.ipynb",
      "provenance": [],
      "authorship_tag": "ABX9TyNOmC/c8qNUZY7mi4nxa802",
      "include_colab_link": true
    },
    "kernelspec": {
      "name": "python3",
      "display_name": "Python 3"
    },
    "language_info": {
      "name": "python"
    }
  },
  "cells": [
    {
      "cell_type": "markdown",
      "metadata": {
        "id": "view-in-github",
        "colab_type": "text"
      },
      "source": [
        "<a href=\"https://colab.research.google.com/github/ulisses-adonis/.Artificial-neural-network--projects/blob/main/CNN_cinza.ipynb\" target=\"_parent\"><img src=\"https://colab.research.google.com/assets/colab-badge.svg\" alt=\"Open In Colab\"/></a>"
      ]
    },
    {
      "cell_type": "code",
      "metadata": {
        "id": "Tdc6YS2MJ4MK"
      },
      "source": [
        "import pandas as pd\n",
        "import numpy as np\n",
        "import matplotlib.pyplot as plt\n",
        "%matplotlib inline\n"
      ],
      "execution_count": 2,
      "outputs": []
    },
    {
      "cell_type": "code",
      "metadata": {
        "id": "QTbiXGAtKG7e"
      },
      "source": [
        "from tensorflow.keras.datasets import mnist"
      ],
      "execution_count": 3,
      "outputs": []
    },
    {
      "cell_type": "code",
      "metadata": {
        "colab": {
          "base_uri": "https://localhost:8080/"
        },
        "id": "XFbGXOL9KNmd",
        "outputId": "ab3170b9-8f5b-4f81-9c75-61b250cf2908"
      },
      "source": [
        "(x_train,y_train),(x_test,y_test) = mnist.load_data()"
      ],
      "execution_count": 4,
      "outputs": [
        {
          "output_type": "stream",
          "text": [
            "Downloading data from https://storage.googleapis.com/tensorflow/tf-keras-datasets/mnist.npz\n",
            "11493376/11490434 [==============================] - 0s 0us/step\n"
          ],
          "name": "stdout"
        }
      ]
    },
    {
      "cell_type": "code",
      "metadata": {
        "colab": {
          "base_uri": "https://localhost:8080/"
        },
        "id": "TRPeHbhrKaZL",
        "outputId": "48d9c882-edfb-45a7-d781-48b24038657e"
      },
      "source": [
        "# função shape: fornece uma indicação do número de dimensões na matriz.\n",
        "x_train.shape"
      ],
      "execution_count": 5,
      "outputs": [
        {
          "output_type": "execute_result",
          "data": {
            "text/plain": [
              "(60000, 28, 28)"
            ]
          },
          "metadata": {
            "tags": []
          },
          "execution_count": 5
        }
      ]
    },
    {
      "cell_type": "markdown",
      "metadata": {
        "id": "zDcuUbMrZRwy"
      },
      "source": [
        "essencialmente, o arquivo de treino possui 60 mil imagens e cada imagem tem 28 por 28 pixels."
      ]
    },
    {
      "cell_type": "code",
      "metadata": {
        "id": "v2ahTZmiKgn7"
      },
      "source": [
        "single_image = x_train[6]"
      ],
      "execution_count": 6,
      "outputs": []
    },
    {
      "cell_type": "code",
      "metadata": {
        "colab": {
          "base_uri": "https://localhost:8080/"
        },
        "id": "qxy6CjtGKja8",
        "outputId": "a9c9004c-1dd4-40d0-c824-e6cc8866b809"
      },
      "source": [
        "single_image.shape"
      ],
      "execution_count": 7,
      "outputs": [
        {
          "output_type": "execute_result",
          "data": {
            "text/plain": [
              "(28, 28)"
            ]
          },
          "metadata": {
            "tags": []
          },
          "execution_count": 7
        }
      ]
    },
    {
      "cell_type": "code",
      "metadata": {
        "colab": {
          "base_uri": "https://localhost:8080/",
          "height": 282
        },
        "id": "dLQsUrJoKmQP",
        "outputId": "4f60583b-66e2-4fb5-8483-0cc862d03b99"
      },
      "source": [
        "plt.imshow(single_image)"
      ],
      "execution_count": 8,
      "outputs": [
        {
          "output_type": "execute_result",
          "data": {
            "text/plain": [
              "<matplotlib.image.AxesImage at 0x7fed58020290>"
            ]
          },
          "metadata": {
            "tags": []
          },
          "execution_count": 8
        },
        {
          "output_type": "display_data",
          "data": {
            "image/png": "[encoded data removed]",
            "text/plain": [
              "<Figure size 432x288 with 1 Axes>"
            ]
          },
          "metadata": {
            "tags": [],
            "needs_background": "light"
          }
        }
      ]
    },
    {
      "cell_type": "code",
      "metadata": {
        "id": "sjum-nr5M2QK"
      },
      "source": [
        "from tensorflow.keras.utils import to_categorical"
      ],
      "execution_count": 9,
      "outputs": []
    },
    {
      "cell_type": "markdown",
      "metadata": {
        "id": "2dEXHrWTgLHt"
      },
      "source": [
        "**to_categorical** : Esta função retorna uma matriz de valores binários ('1' ou '0'). Possui número de linhas igual ao comprimento do vetor de entrada e número de colunas igual ao número de classes."
      ]
    },
    {
      "cell_type": "code",
      "metadata": {
        "colab": {
          "base_uri": "https://localhost:8080/"
        },
        "id": "W-vv6x57M2So",
        "outputId": "06bf8867-a8e5-4466-fbd7-5993788aa6eb"
      },
      "source": [
        "y_train.shape"
      ],
      "execution_count": 10,
      "outputs": [
        {
          "output_type": "execute_result",
          "data": {
            "text/plain": [
              "(60000,)"
            ]
          },
          "metadata": {
            "tags": []
          },
          "execution_count": 10
        }
      ]
    },
    {
      "cell_type": "code",
      "metadata": {
        "colab": {
          "base_uri": "https://localhost:8080/"
        },
        "id": "kpqT9obm66L4",
        "outputId": "6983e2cd-6323-4690-ecfa-df1aa475d229"
      },
      "source": [
        "y_train[0]"
      ],
      "execution_count": 11,
      "outputs": [
        {
          "output_type": "execute_result",
          "data": {
            "text/plain": [
              "5"
            ]
          },
          "metadata": {
            "tags": []
          },
          "execution_count": 11
        }
      ]
    },
    {
      "cell_type": "markdown",
      "metadata": {
        "id": "js1Z_XHr6LQ7"
      },
      "source": [
        "há essencialmente 60.000 imagens de números. \n"
      ]
    },
    {
      "cell_type": "markdown",
      "metadata": {
        "id": "CID-1KKTaa7z"
      },
      "source": [
        "**One Hot Encoding** é um processo que é aplicado a dados categóricos para convertê-los em uma representação vetorial binária para uso em algoritmos de aprendizado de máquina. O que eu faço abaixo, é transformar esse conjunto de números em uma categoria"
      ]
    },
    {
      "cell_type": "code",
      "metadata": {
        "colab": {
          "base_uri": "https://localhost:8080/"
        },
        "id": "kXDwzjFgfnt1",
        "outputId": "feb45dea-cfe2-4362-ae4a-9e762df8abf4"
      },
      "source": [
        "y_example = to_categorical(y_train)\n",
        "print(y_example)\n"
      ],
      "execution_count": 12,
      "outputs": [
        {
          "output_type": "stream",
          "text": [
            "[[0. 0. 0. ... 0. 0. 0.]\n",
            " [1. 0. 0. ... 0. 0. 0.]\n",
            " [0. 0. 0. ... 0. 0. 0.]\n",
            " ...\n",
            " [0. 0. 0. ... 0. 0. 0.]\n",
            " [0. 0. 0. ... 0. 0. 0.]\n",
            " [0. 0. 0. ... 0. 1. 0.]]\n"
          ],
          "name": "stdout"
        }
      ]
    },
    {
      "cell_type": "markdown",
      "metadata": {
        "id": "dTIbMALIg9zO"
      },
      "source": [
        "essencialmente  a função \"to_categorical\" converte um vetor de classe de inteiros em uma matriz de classe binária."
      ]
    },
    {
      "cell_type": "code",
      "metadata": {
        "colab": {
          "base_uri": "https://localhost:8080/"
        },
        "id": "Rotfj8wX61UB",
        "outputId": "e6c1313a-e7c3-4a7b-8b74-5f54e663b7c4"
      },
      "source": [
        "y_example[0]"
      ],
      "execution_count": 13,
      "outputs": [
        {
          "output_type": "execute_result",
          "data": {
            "text/plain": [
              "array([0., 0., 0., 0., 0., 1., 0., 0., 0., 0.], dtype=float32)"
            ]
          },
          "metadata": {
            "tags": []
          },
          "execution_count": 13
        }
      ]
    },
    {
      "cell_type": "markdown",
      "metadata": {
        "id": "Bm3awe7Xaae2"
      },
      "source": [
        ""
      ]
    },
    {
      "cell_type": "markdown",
      "metadata": {
        "id": "WEid2mKs7AFJ"
      },
      "source": [
        "Note que antes aparecia o número cinco ( categórico)  e agora aparece um binário. Uma posição de índice 5 agora é 1, essencialmente, indicando que pertence ao seu número de classe 5.\n"
      ]
    },
    {
      "cell_type": "code",
      "metadata": {
        "colab": {
          "base_uri": "https://localhost:8080/"
        },
        "id": "0Jym7n-eBlZF",
        "outputId": "5b4982b4-5928-4d49-d152-57ac16e34867"
      },
      "source": [
        "y_example.shape"
      ],
      "execution_count": 14,
      "outputs": [
        {
          "output_type": "execute_result",
          "data": {
            "text/plain": [
              "(60000, 10)"
            ]
          },
          "metadata": {
            "tags": []
          },
          "execution_count": 14
        }
      ]
    },
    {
      "cell_type": "markdown",
      "metadata": {
        "id": "T0KVPt_qBrAu"
      },
      "source": [
        "O número 10 representa o número de categorias que o conjunto possui, no caso 10. Portanto, neste caso, os números vão de 0 a 9. Portanto, há 10 números possíveis, então 10 categorias reais únicas. O que eu  farei agora, será converter os rótulos de teste e de treinamento em rótulos categóricos ( y_categorical_test e y_categorical_train)"
      ]
    },
    {
      "cell_type": "code",
      "metadata": {
        "id": "iBnyH2aqM2VQ"
      },
      "source": [
        "y_cat_test = to_categorical(y_test , num_classes =10)"
      ],
      "execution_count": 15,
      "outputs": []
    },
    {
      "cell_type": "markdown",
      "metadata": {
        "id": "JNvZsOVcCnO0"
      },
      "source": [
        "Acima eu setei o número de classes ( num_classes=10) . Por quê ?\n",
        "Pode ser que ocorra um caso raro em que, por algum motivo, eu esteja perdendo uma instância de uma classe específica.\n",
        "Se for esse o caso, eu posso sempre se certificar de que o número de classes é o que eu espero, inserindo manualmente o número de classes."
      ]
    },
    {
      "cell_type": "code",
      "metadata": {
        "id": "dxsnN1AhM2Xr"
      },
      "source": [
        "y_cat_train = to_categorical(y_train,10)"
      ],
      "execution_count": 16,
      "outputs": []
    },
    {
      "cell_type": "markdown",
      "metadata": {
        "id": "tTyBENCcFSaq"
      },
      "source": [
        "Se eu der uma olhada  meus valores vão de 0 a 255 e eu preciso normalizar esses valores. E para ter certeza de que nao terei nenhum problema de gradiente, eles devem ter uma escala entre 0 e 1. "
      ]
    },
    {
      "cell_type": "code",
      "metadata": {
        "colab": {
          "base_uri": "https://localhost:8080/"
        },
        "id": "XVRhQm7GKs4d",
        "outputId": "e5fb2d3f-17f7-4101-b301-645c3e5850fc"
      },
      "source": [
        "single_image.max()"
      ],
      "execution_count": 17,
      "outputs": [
        {
          "output_type": "execute_result",
          "data": {
            "text/plain": [
              "255"
            ]
          },
          "metadata": {
            "tags": []
          },
          "execution_count": 17
        }
      ]
    },
    {
      "cell_type": "code",
      "metadata": {
        "colab": {
          "base_uri": "https://localhost:8080/"
        },
        "id": "QRwsTJbvtxKY",
        "outputId": "6f0e7e71-ce61-4350-9da3-1d96a9614b53"
      },
      "source": [
        "single_image.min()"
      ],
      "execution_count": 18,
      "outputs": [
        {
          "output_type": "execute_result",
          "data": {
            "text/plain": [
              "0"
            ]
          },
          "metadata": {
            "tags": []
          },
          "execution_count": 18
        }
      ]
    },
    {
      "cell_type": "markdown",
      "metadata": {
        "id": "nJMBDW1YF9uC"
      },
      "source": [
        "Podemos adotar uma abordagem clássica de \"S.K. Learn \" usando a função min max scalar. \n",
        "\n",
        "**Nota**:  quando estivemos usando a função min max ou qualquer semelhante, lembre-se que primeiro nos ajustamos aos dados de treinamento e depois nos transformamos estes, nos dados de teste.\n"
      ]
    },
    {
      "cell_type": "code",
      "metadata": {
        "id": "Uqjj2GH-ty7Z"
      },
      "source": [
        "x_train = x_train/255"
      ],
      "execution_count": 19,
      "outputs": []
    },
    {
      "cell_type": "code",
      "metadata": {
        "id": "i9PAZf7cLo79"
      },
      "source": [
        "x_test = x_test/255"
      ],
      "execution_count": 20,
      "outputs": []
    },
    {
      "cell_type": "code",
      "metadata": {
        "id": "Ug1Db9e3Lo49"
      },
      "source": [
        ""
      ],
      "execution_count": 20,
      "outputs": []
    },
    {
      "cell_type": "markdown",
      "metadata": {
        "id": "knzD6fBSLkFn"
      },
      "source": [
        "**Explicando as ações acima:** Posso supor que  imagens que alimentarei futuramente este \n",
        "modelo devem ser dimensionadas como imagens normais entre os valores 0 a 255. \n",
        "Portanto, uma maneira fácil de manter instantaneamente todos os valores entre 0 e  1 é simplesmente dividir o conjunto de treinos e testes por 255.\n"
      ]
    },
    {
      "cell_type": "code",
      "metadata": {
        "id": "7-67jgOFLhno"
      },
      "source": [
        "scaled_image = x_train[0]"
      ],
      "execution_count": 21,
      "outputs": []
    },
    {
      "cell_type": "code",
      "metadata": {
        "colab": {
          "base_uri": "https://localhost:8080/"
        },
        "id": "eBRAOYYv3anl",
        "outputId": "5c3a3ebd-d156-4cd6-bbd4-ace8c06dc38e"
      },
      "source": [
        "scaled_image.max()"
      ],
      "execution_count": 22,
      "outputs": [
        {
          "output_type": "execute_result",
          "data": {
            "text/plain": [
              "1.0"
            ]
          },
          "metadata": {
            "tags": []
          },
          "execution_count": 22
        }
      ]
    },
    {
      "cell_type": "code",
      "metadata": {
        "colab": {
          "base_uri": "https://localhost:8080/",
          "height": 282
        },
        "id": "m6_o5pek3j_M",
        "outputId": "ad585a0f-5999-42f0-d563-ad467face9be"
      },
      "source": [
        "plt.imshow(scaled_image)"
      ],
      "execution_count": 23,
      "outputs": [
        {
          "output_type": "execute_result",
          "data": {
            "text/plain": [
              "<matplotlib.image.AxesImage at 0x7fed57afb110>"
            ]
          },
          "metadata": {
            "tags": []
          },
          "execution_count": 23
        },
        {
          "output_type": "display_data",
          "data": {
            "image/png": "[encoded data removed]",
            "text/plain": [
              "<Figure size 432x288 with 1 Axes>"
            ]
          },
          "metadata": {
            "tags": [],
            "needs_background": "light"
          }
        }
      ]
    },
    {
      "cell_type": "markdown",
      "metadata": {
        "id": "3YkLZBzJ3RZN"
      },
      "source": [
        "Olhando uma imagem em escala."
      ]
    },
    {
      "cell_type": "markdown",
      "metadata": {
        "id": "SRdbw-bO5WNG"
      },
      "source": [
        "# Data Processing"
      ]
    },
    {
      "cell_type": "code",
      "metadata": {
        "id": "6U7_2rmem3v4"
      },
      "source": [
        ""
      ],
      "execution_count": 23,
      "outputs": []
    },
    {
      "cell_type": "markdown",
      "metadata": {
        "id": "BVSOSAyO6CxL"
      },
      "source": [
        "Devo reformular os dados agora, e através do comando abaixo, posso concluir que o conjunto de treinamento\n",
        "é composto de  sessenta mil figuras,  e cada uma delas possui o formato de 28x28. "
      ]
    },
    {
      "cell_type": "code",
      "metadata": {
        "colab": {
          "base_uri": "https://localhost:8080/"
        },
        "id": "NH1Oj5CF35Ru",
        "outputId": "79e4a1f0-5494-4ece-caf6-4434d91a64c5"
      },
      "source": [
        "x_train.shape"
      ],
      "execution_count": 24,
      "outputs": [
        {
          "output_type": "execute_result",
          "data": {
            "text/plain": [
              "(60000, 28, 28)"
            ]
          },
          "metadata": {
            "tags": []
          },
          "execution_count": 24
        }
      ]
    },
    {
      "cell_type": "code",
      "metadata": {
        "colab": {
          "base_uri": "https://localhost:8080/"
        },
        "id": "4MjNDMCDnosV",
        "outputId": "0b4a962b-6ceb-4df7-9ccc-67d90b5cc5bd"
      },
      "source": [
        "x_test.shape"
      ],
      "execution_count": 25,
      "outputs": [
        {
          "output_type": "execute_result",
          "data": {
            "text/plain": [
              "(10000, 28, 28)"
            ]
          },
          "metadata": {
            "tags": []
          },
          "execution_count": 25
        }
      ]
    },
    {
      "cell_type": "markdown",
      "metadata": {
        "id": "eax_SPKW6LRW"
      },
      "source": [
        "Esse formato esta correto para uma convolução em sua própria rede, mas preciso adicionar mais uma dimensão para que a rede saiba que estamos lidando com um único canal de cores RGB. \n"
      ]
    },
    {
      "cell_type": "code",
      "metadata": {
        "id": "y5_s0D1tsKpu"
      },
      "source": [
        ""
      ],
      "execution_count": 25,
      "outputs": []
    },
    {
      "cell_type": "code",
      "metadata": {
        "id": "NkhlGu9dB4mn"
      },
      "source": [
        "#batch_size, width, heigth, color_channels\n",
        "x_train = x_train.reshape(60000,28,28,1)"
      ],
      "execution_count": 26,
      "outputs": []
    },
    {
      "cell_type": "code",
      "metadata": {
        "id": "-qRiyw9GCDVj"
      },
      "source": [
        "x_test = x_test.reshape(10000,28,28,1)"
      ],
      "execution_count": 27,
      "outputs": []
    },
    {
      "cell_type": "code",
      "metadata": {
        "id": "pJUZsKk9v5aG"
      },
      "source": [
        "from tensorflow.keras.models import Sequential"
      ],
      "execution_count": 28,
      "outputs": []
    },
    {
      "cell_type": "code",
      "metadata": {
        "id": "IKzEMl6Qv_fp"
      },
      "source": [
        "from tensorflow.keras.layers import Dense, Conv2D, MaxPool2D,Flatten"
      ],
      "execution_count": 29,
      "outputs": []
    },
    {
      "cell_type": "markdown",
      "metadata": {
        "id": "eBg_bzvrGdAY"
      },
      "source": [
        "#Hidden Layers"
      ]
    },
    {
      "cell_type": "markdown",
      "metadata": {
        "id": "7-oZMpSzxQr_"
      },
      "source": [
        "Conv1D é usado para seqüências e Conv2D usa para imagens. "
      ]
    },
    {
      "cell_type": "code",
      "metadata": {
        "id": "-W4apKYWwJGX"
      },
      "source": [
        "model = Sequential()"
      ],
      "execution_count": 30,
      "outputs": []
    },
    {
      "cell_type": "markdown",
      "metadata": {
        "id": "u3TxiUSszv9D"
      },
      "source": [
        "O primeiro parâmetro Conv2D necessário é o número de filtros que a camada convolucional aprenderá.\n",
        "\n",
        "Camadas no início da arquitetura de rede (ou seja, mais perto da imagem de entrada real) aprendem menos filtros convolucionais enquanto camadas mais profundas da rede (ou seja, mais perto das previsões de saída) aprenderão mais filtros."
      ]
    },
    {
      "cell_type": "code",
      "metadata": {
        "colab": {
          "base_uri": "https://localhost:8080/"
        },
        "id": "4THf-PGLwJJR",
        "outputId": "f93daf53-6a8f-4b67-e378-809c4e54243d"
      },
      "source": [
        "#kernal_size = os tamanhos típicos de núcleos de imagem são algo na faixa de 2x2 ou \n",
        "#4x4. Basicamente é o tamanho do quadrado que scaneia a imagem\n",
        "model.add(Conv2D(filters=32,kernel_size=(4,4), input_shape=(28,28,1),activation='relu'))\n",
        "model.output_shape"
      ],
      "execution_count": 31,
      "outputs": [
        {
          "output_type": "execute_result",
          "data": {
            "text/plain": [
              "(None, 25, 25, 32)"
            ]
          },
          "metadata": {
            "tags": []
          },
          "execution_count": 31
        }
      ]
    },
    {
      "cell_type": "markdown",
      "metadata": {
        "id": "PpRT5zQ_zDnq"
      },
      "source": [
        "E é muito comum escolher filtros baseados em potências de dois. Portanto, um ponto de partida muito comum para essse filtro poderia ser o número 32. Esse número depende do tamanho do seu conjunto de imagens e , portanto, para nosso conjunto ( 10 categorias) , esse é um número bom. Após sua camada de realização, deve-se ter uma camada de pool."
      ]
    },
    {
      "cell_type": "code",
      "metadata": {
        "colab": {
          "base_uri": "https://localhost:8080/"
        },
        "id": "Jj4eXjavwOun",
        "outputId": "559eac43-1c35-4b44-e778-c86e4820ea2c"
      },
      "source": [
        "model.add(MaxPool2D(pool_size=(2,2)))\n",
        "model.output_shape"
      ],
      "execution_count": 32,
      "outputs": [
        {
          "output_type": "execute_result",
          "data": {
            "text/plain": [
              "(None, 12, 12, 32)"
            ]
          },
          "metadata": {
            "tags": []
          },
          "execution_count": 32
        }
      ]
    },
    {
      "cell_type": "code",
      "metadata": {
        "colab": {
          "base_uri": "https://localhost:8080/"
        },
        "id": "nJgVDEBgJ9zF",
        "outputId": "df2211c6-c2bb-4ac9-8a8e-452aa16e04bb"
      },
      "source": [
        "# Após a camada de pooling, devo nivelar(achatar) as imagens em único array. Exemplo : 28x28 = 784\n",
        "model.add(Flatten())\n",
        "model.output_shape"
      ],
      "execution_count": 33,
      "outputs": [
        {
          "output_type": "execute_result",
          "data": {
            "text/plain": [
              "(None, 4608)"
            ]
          },
          "metadata": {
            "tags": []
          },
          "execution_count": 33
        }
      ]
    },
    {
      "cell_type": "markdown",
      "metadata": {
        "id": "peB3C_CkGafB"
      },
      "source": [
        "Após nivelar/ achatar  a imagem,  podemos  começar a adicionar nossas camadas densas. Normalmente as pessoas usam apenas uma camada densa, talvez duas, depois de achatá-la, uma vez que a maior parte do trabalho para dados de imagem  deve ser feit0 pela camada de convolução."
      ]
    },
    {
      "cell_type": "code",
      "metadata": {
        "colab": {
          "base_uri": "https://localhost:8080/"
        },
        "id": "ep4dTaW8K6Fg",
        "outputId": "3f40ef99-60fe-4829-b7b3-011013c1e1db"
      },
      "source": [
        "model.add(Dense(128,activation='relu'))\n",
        "\n",
        "#OUTPUT LAYER SOFTMAX ----> MULTICLASS\n",
        "model.add(Dense(10,activation='softmax'))\n",
        "model.output_shape"
      ],
      "execution_count": 34,
      "outputs": [
        {
          "output_type": "execute_result",
          "data": {
            "text/plain": [
              "(None, 10)"
            ]
          },
          "metadata": {
            "tags": []
          },
          "execution_count": 34
        }
      ]
    },
    {
      "cell_type": "markdown",
      "metadata": {
        "id": "b0_G5qO9MO_Y"
      },
      "source": [
        "Quanto neurônios devemos ter na última camada? \n",
        "Neste caso, para um problema de \"classificação\", devo ter um neurônio por classe, de modo que será uma camada densa com 10 neurônios. E, neste caso, eu também tenho que pensar na minha função de ativação, que deve ser para uma classificação multiclasse e nao para uma classe binária, "
      ]
    },
    {
      "cell_type": "code",
      "metadata": {
        "id": "mweyr7BFMkCE"
      },
      "source": [
        "model.compile (loss='categorical_crossentropy', optimizer= 'adam', metrics = ['accuracy'])"
      ],
      "execution_count": 35,
      "outputs": []
    },
    {
      "cell_type": "code",
      "metadata": {
        "id": "iUtSngsKTYXP"
      },
      "source": [
        "from tensorflow.keras.callbacks import EarlyStopping  "
      ],
      "execution_count": 36,
      "outputs": []
    },
    {
      "cell_type": "code",
      "metadata": {
        "id": "7yHHnplUThks"
      },
      "source": [
        "early_stop = EarlyStopping ( monitor='val_loss',patience=1)"
      ],
      "execution_count": 37,
      "outputs": []
    },
    {
      "cell_type": "code",
      "metadata": {
        "colab": {
          "base_uri": "https://localhost:8080/"
        },
        "id": "V7rt45eBTlLL",
        "outputId": "d7b0a0f9-b095-4062-bfae-d90f9516a890"
      },
      "source": [
        "model.fit(x_train,y_cat_train,epochs=20,validation_data = (x_test,y_cat_test), callbacks =[early_stop])"
      ],
      "execution_count": 38,
      "outputs": [
        {
          "output_type": "stream",
          "text": [
            "Epoch 1/20\n",
            "1875/1875 [==============================] - 37s 20ms/step - loss: 0.2817 - accuracy: 0.9151 - val_loss: 0.0568 - val_accuracy: 0.9821\n",
            "Epoch 2/20\n",
            "1875/1875 [==============================] - 36s 19ms/step - loss: 0.0497 - accuracy: 0.9848 - val_loss: 0.0428 - val_accuracy: 0.9847\n",
            "Epoch 3/20\n",
            "1875/1875 [==============================] - 35s 19ms/step - loss: 0.0297 - accuracy: 0.9901 - val_loss: 0.0399 - val_accuracy: 0.9866\n",
            "Epoch 4/20\n",
            "1875/1875 [==============================] - 35s 19ms/step - loss: 0.0201 - accuracy: 0.9937 - val_loss: 0.0434 - val_accuracy: 0.9872\n"
          ],
          "name": "stdout"
        },
        {
          "output_type": "execute_result",
          "data": {
            "text/plain": [
              "<tensorflow.python.keras.callbacks.History at 0x7fed5433b090>"
            ]
          },
          "metadata": {
            "tags": []
          },
          "execution_count": 38
        }
      ]
    },
    {
      "cell_type": "code",
      "metadata": {
        "id": "hQGyy-MMuUzi"
      },
      "source": [
        "metrics= pd.DataFrame(model.history.history)"
      ],
      "execution_count": 39,
      "outputs": []
    },
    {
      "cell_type": "code",
      "metadata": {
        "colab": {
          "base_uri": "https://localhost:8080/",
          "height": 166
        },
        "id": "EKgk7AcPtluD",
        "outputId": "86e47586-09c7-437c-f964-767e37c72c4e"
      },
      "source": [
        "metrics"
      ],
      "execution_count": 40,
      "outputs": [
        {
          "output_type": "execute_result",
          "data": {
            "text/html": [
              "<div>\n",
              "<style scoped>\n",
              "    .dataframe tbody tr th:only-of-type {\n",
              "        vertical-align: middle;\n",
              "    }\n",
              "\n",
              "    .dataframe tbody tr th {\n",
              "        vertical-align: top;\n",
              "    }\n",
              "\n",
              "    .dataframe thead th {\n",
              "        text-align: right;\n",
              "    }\n",
              "</style>\n",
              "<table border=\"1\" class=\"dataframe\">\n",
              "  <thead>\n",
              "    <tr style=\"text-align: right;\">\n",
              "      <th></th>\n",
              "      <th>loss</th>\n",
              "      <th>accuracy</th>\n",
              "      <th>val_loss</th>\n",
              "      <th>val_accuracy</th>\n",
              "    </tr>\n",
              "  </thead>\n",
              "  <tbody>\n",
              "    <tr>\n",
              "      <th>0</th>\n",
              "      <td>0.139537</td>\n",
              "      <td>0.958267</td>\n",
              "      <td>0.056770</td>\n",
              "      <td>0.9821</td>\n",
              "    </tr>\n",
              "    <tr>\n",
              "      <th>1</th>\n",
              "      <td>0.048464</td>\n",
              "      <td>0.984883</td>\n",
              "      <td>0.042800</td>\n",
              "      <td>0.9847</td>\n",
              "    </tr>\n",
              "    <tr>\n",
              "      <th>2</th>\n",
              "      <td>0.031485</td>\n",
              "      <td>0.989650</td>\n",
              "      <td>0.039851</td>\n",
              "      <td>0.9866</td>\n",
              "    </tr>\n",
              "    <tr>\n",
              "      <th>3</th>\n",
              "      <td>0.021926</td>\n",
              "      <td>0.992600</td>\n",
              "      <td>0.043377</td>\n",
              "      <td>0.9872</td>\n",
              "    </tr>\n",
              "  </tbody>\n",
              "</table>\n",
              "</div>"
            ],
            "text/plain": [
              "       loss  accuracy  val_loss  val_accuracy\n",
              "0  0.139537  0.958267  0.056770        0.9821\n",
              "1  0.048464  0.984883  0.042800        0.9847\n",
              "2  0.031485  0.989650  0.039851        0.9866\n",
              "3  0.021926  0.992600  0.043377        0.9872"
            ]
          },
          "metadata": {
            "tags": []
          },
          "execution_count": 40
        }
      ]
    },
    {
      "cell_type": "code",
      "metadata": {
        "colab": {
          "base_uri": "https://localhost:8080/",
          "height": 282
        },
        "id": "K-0WNPh2toOj",
        "outputId": "763e465d-736c-4b24-998e-c4180695b891"
      },
      "source": [
        "metrics.plot()"
      ],
      "execution_count": 41,
      "outputs": [
        {
          "output_type": "execute_result",
          "data": {
            "text/plain": [
              "<matplotlib.axes._subplots.AxesSubplot at 0x7fed50977cd0>"
            ]
          },
          "metadata": {
            "tags": []
          },
          "execution_count": 41
        },
        {
          "output_type": "display_data",
          "data": {
            "image/png": "[encoded data removed]",
            "text/plain": [
              "<Figure size 432x288 with 1 Axes>"
            ]
          },
          "metadata": {
            "tags": [],
            "needs_background": "light"
          }
        }
      ]
    },
    {
      "cell_type": "markdown",
      "metadata": {
        "id": "xCjkuf6Nt95S"
      },
      "source": [
        "Esse gráfico não faz sentindo. Em vez disso, devo traçar a perda para perda de validação e precisão com precisão de validação."
      ]
    },
    {
      "cell_type": "code",
      "metadata": {
        "colab": {
          "base_uri": "https://localhost:8080/",
          "height": 282
        },
        "id": "NKepjyVvuq30",
        "outputId": "d980bb6f-c1f3-4b2f-ba70-deffca184a0f"
      },
      "source": [
        "metrics[['loss','val_loss']].plot()\n"
      ],
      "execution_count": 42,
      "outputs": [
        {
          "output_type": "execute_result",
          "data": {
            "text/plain": [
              "<matplotlib.axes._subplots.AxesSubplot at 0x7fed50847d50>"
            ]
          },
          "metadata": {
            "tags": []
          },
          "execution_count": 42
        },
        {
          "output_type": "display_data",
          "data": {
            "image/png": "[encoded data removed]",
            "text/plain": [
              "<Figure size 432x288 with 1 Axes>"
            ]
          },
          "metadata": {
            "tags": [],
            "needs_background": "light"
          }
        }
      ]
    },
    {
      "cell_type": "markdown",
      "metadata": {
        "id": "j8nSfcJMvDcZ"
      },
      "source": [
        "A perda para o conjunto de treinamento está diminuindo, mas a perda associada ao conjunto de validação passa a crescer a partir de um determinado momento. É interessante avaliar a precisão  em relaçao a validação."
      ]
    },
    {
      "cell_type": "code",
      "metadata": {
        "colab": {
          "base_uri": "https://localhost:8080/",
          "height": 282
        },
        "id": "k-tWjNpFsMW7",
        "outputId": "08663d15-26ec-45c8-8768-fc45fc233f88"
      },
      "source": [
        "metrics[['accuracy','val_accuracy']].plot()"
      ],
      "execution_count": 43,
      "outputs": [
        {
          "output_type": "execute_result",
          "data": {
            "text/plain": [
              "<matplotlib.axes._subplots.AxesSubplot at 0x7fed5083c910>"
            ]
          },
          "metadata": {
            "tags": []
          },
          "execution_count": 43
        },
        {
          "output_type": "display_data",
          "data": {
            "image/png": "[encoded data removed]",
            "text/plain": [
              "<Figure size 432x288 with 1 Axes>"
            ]
          },
          "metadata": {
            "tags": [],
            "needs_background": "light"
          }
        }
      ]
    },
    {
      "cell_type": "code",
      "metadata": {
        "colab": {
          "base_uri": "https://localhost:8080/"
        },
        "id": "ZUZjbMecwegS",
        "outputId": "a6436056-0ed7-4fc1-a6fd-502af6a6d393"
      },
      "source": [
        "model.metrics_names"
      ],
      "execution_count": 44,
      "outputs": [
        {
          "output_type": "execute_result",
          "data": {
            "text/plain": [
              "['loss', 'accuracy']"
            ]
          },
          "metadata": {
            "tags": []
          },
          "execution_count": 44
        }
      ]
    },
    {
      "cell_type": "markdown",
      "metadata": {
        "id": "v9_ARrXVwZYI"
      },
      "source": [
        "**Loss:** é o resultado da função de entropia cruzada categórica (cross entropy)"
      ]
    },
    {
      "cell_type": "markdown",
      "metadata": {
        "id": "mEkEVQ-l49r6"
      },
      "source": [
        "Agora vou prever classes algumas informações  baseadas no conjunto de dados de teste x."
      ]
    },
    {
      "cell_type": "code",
      "metadata": {
        "id": "ymkLfQwHuTUY"
      },
      "source": [
        "from sklearn.metrics import classification_report,confusion_matrix"
      ],
      "execution_count": 45,
      "outputs": []
    },
    {
      "cell_type": "code",
      "metadata": {
        "colab": {
          "base_uri": "https://localhost:8080/"
        },
        "id": "1uSq4SwZTlNq",
        "outputId": "45d5ac70-7cc7-4b1a-ea07-604c496d2fbe"
      },
      "source": [
        "predictions = model.predict_classes(x_test)"
      ],
      "execution_count": 46,
      "outputs": [
        {
          "output_type": "stream",
          "text": [
            "/usr/local/lib/python3.7/dist-packages/tensorflow/python/keras/engine/sequential.py:450: UserWarning: `model.predict_classes()` is deprecated and will be removed after 2021-01-01. Please use instead:* `np.argmax(model.predict(x), axis=-1)`,   if your model does multi-class classification   (e.g. if it uses a `softmax` last-layer activation).* `(model.predict(x) > 0.5).astype(\"int32\")`,   if your model does binary classification   (e.g. if it uses a `sigmoid` last-layer activation).\n",
            "  warnings.warn('`model.predict_classes()` is deprecated and '\n"
          ],
          "name": "stderr"
        }
      ]
    },
    {
      "cell_type": "code",
      "metadata": {
        "colab": {
          "base_uri": "https://localhost:8080/"
        },
        "id": "dZ8OqZkc5VvT",
        "outputId": "31065e48-032d-4d2c-e4a4-bd59b0928ec6"
      },
      "source": [
        "print(classification_report(y_test, predictions))"
      ],
      "execution_count": 47,
      "outputs": [
        {
          "output_type": "stream",
          "text": [
            "              precision    recall  f1-score   support\n",
            "\n",
            "           0       0.99      1.00      0.99       980\n",
            "           1       1.00      0.99      0.99      1135\n",
            "           2       0.98      0.99      0.99      1032\n",
            "           3       0.97      1.00      0.99      1010\n",
            "           4       0.98      0.99      0.99       982\n",
            "           5       0.99      0.98      0.99       892\n",
            "           6       1.00      0.98      0.99       958\n",
            "           7       0.98      0.99      0.99      1028\n",
            "           8       0.99      0.98      0.99       974\n",
            "           9       0.99      0.96      0.98      1009\n",
            "\n",
            "    accuracy                           0.99     10000\n",
            "   macro avg       0.99      0.99      0.99     10000\n",
            "weighted avg       0.99      0.99      0.99     10000\n",
            "\n"
          ],
          "name": "stdout"
        }
      ]
    },
    {
      "cell_type": "code",
      "metadata": {
        "colab": {
          "base_uri": "https://localhost:8080/"
        },
        "id": "me-Zq7AS5Vyg",
        "outputId": "00982236-79f0-45de-fb34-5507a865eacd"
      },
      "source": [
        "confusion_matrix(y_test,predictions)"
      ],
      "execution_count": 48,
      "outputs": [
        {
          "output_type": "execute_result",
          "data": {
            "text/plain": [
              "array([[ 978,    0,    0,    1,    0,    0,    0,    0,    1,    0],\n",
              "       [   0, 1126,    3,    1,    0,    0,    0,    4,    1,    0],\n",
              "       [   0,    0, 1025,    2,    1,    0,    0,    4,    0,    0],\n",
              "       [   0,    0,    1, 1007,    0,    0,    0,    0,    2,    0],\n",
              "       [   0,    0,    2,    0,  977,    0,    0,    0,    0,    3],\n",
              "       [   2,    0,    1,   13,    0,  873,    2,    0,    0,    1],\n",
              "       [   8,    1,    1,    1,    6,    3,  937,    0,    1,    0],\n",
              "       [   0,    0,    8,    0,    0,    0,    0, 1019,    1,    0],\n",
              "       [   4,    0,    5,    3,    0,    0,    2,    0,  958,    2],\n",
              "       [   0,    2,    3,    5,   13,    4,    0,   10,    0,  972]])"
            ]
          },
          "metadata": {
            "tags": []
          },
          "execution_count": 48
        }
      ]
    },
    {
      "cell_type": "code",
      "metadata": {
        "id": "Sug2FL255V2m"
      },
      "source": [
        "import seaborn as sns"
      ],
      "execution_count": 49,
      "outputs": []
    },
    {
      "cell_type": "code",
      "metadata": {
        "colab": {
          "base_uri": "https://localhost:8080/",
          "height": 391
        },
        "id": "I7RxfXBb5V4z",
        "outputId": "ddea2a88-36a6-4dd1-c9cd-4161b2d32793"
      },
      "source": [
        "plt.figure(figsize=(10,6))\n",
        "sns.heatmap(confusion_matrix(y_test,predictions),annot=True)"
      ],
      "execution_count": 50,
      "outputs": [
        {
          "output_type": "execute_result",
          "data": {
            "text/plain": [
              "<matplotlib.axes._subplots.AxesSubplot at 0x7fed48dd0090>"
            ]
          },
          "metadata": {
            "tags": []
          },
          "execution_count": 50
        },
        {
          "output_type": "display_data",
          "data": {
            "image/png": "[encoded data removed]",
            "text/plain": [
              "<Figure size 720x432 with 2 Axes>"
            ]
          },
          "metadata": {
            "tags": [],
            "needs_background": "light"
          }
        }
      ]
    },
    {
      "cell_type": "markdown",
      "metadata": {
        "id": "BZFj2IeR8GkZ"
      },
      "source": [
        "##Prediction"
      ]
    },
    {
      "cell_type": "markdown",
      "metadata": {
        "id": "5p_6C2PFR6Iw"
      },
      "source": [
        "Vou testar a previsão de uma imagem.\n",
        "Então, se alguém mostrar uma imagem de um número( chamarei de meu número), como a rede se comportaria?\n",
        "\n",
        "Bom , o  modelo prevê classes e então a única coisa da qual estou ciente é que o mesmo deve usar o tamanho do array, para uma análise. "
      ]
    },
    {
      "cell_type": "code",
      "metadata": {
        "colab": {
          "base_uri": "https://localhost:8080/"
        },
        "id": "Uz2FYsvw7wP6",
        "outputId": "7df5f9ed-a631-4dca-a8ab-00fdb086fa3c"
      },
      "source": [
        "meu_numero=x_test[0]\n",
        "x_test[0].shape\n"
      ],
      "execution_count": 53,
      "outputs": [
        {
          "output_type": "execute_result",
          "data": {
            "text/plain": [
              "(28, 28, 1)"
            ]
          },
          "metadata": {
            "tags": []
          },
          "execution_count": 53
        }
      ]
    },
    {
      "cell_type": "code",
      "metadata": {
        "colab": {
          "base_uri": "https://localhost:8080/",
          "height": 282
        },
        "id": "sZP9Lc0n8Oww",
        "outputId": "044d7614-6828-465c-865f-641844f9878a"
      },
      "source": [
        "#preciso remodelar  a figura.\n",
        "plt.imshow(meu_numero.reshape(28,28))"
      ],
      "execution_count": 54,
      "outputs": [
        {
          "output_type": "execute_result",
          "data": {
            "text/plain": [
              "<matplotlib.image.AxesImage at 0x7fed3cfcf0d0>"
            ]
          },
          "metadata": {
            "tags": []
          },
          "execution_count": 54
        },
        {
          "output_type": "display_data",
          "data": {
            "image/png": "[encoded data removed]",
            "text/plain": [
              "<Figure size 432x288 with 1 Axes>"
            ]
          },
          "metadata": {
            "tags": [],
            "needs_background": "light"
          }
        }
      ]
    },
    {
      "cell_type": "code",
      "metadata": {
        "colab": {
          "base_uri": "https://localhost:8080/"
        },
        "id": "weJk7QXG8O4v",
        "outputId": "8dfaa6df-7873-4ef2-9b2e-a1681867abc6"
      },
      "source": [
        "#num_images, width, heigth, color_channels\n",
        "model.predict_classes(meu_numero.reshape(1,28,28,1))"
      ],
      "execution_count": 57,
      "outputs": [
        {
          "output_type": "stream",
          "text": [
            "/usr/local/lib/python3.7/dist-packages/tensorflow/python/keras/engine/sequential.py:450: UserWarning: `model.predict_classes()` is deprecated and will be removed after 2021-01-01. Please use instead:* `np.argmax(model.predict(x), axis=-1)`,   if your model does multi-class classification   (e.g. if it uses a `softmax` last-layer activation).* `(model.predict(x) > 0.5).astype(\"int32\")`,   if your model does binary classification   (e.g. if it uses a `sigmoid` last-layer activation).\n",
            "  warnings.warn('`model.predict_classes()` is deprecated and '\n"
          ],
          "name": "stderr"
        },
        {
          "output_type": "execute_result",
          "data": {
            "text/plain": [
              "array([7])"
            ]
          },
          "metadata": {
            "tags": []
          },
          "execution_count": 57
        }
      ]
    },
    {
      "cell_type": "markdown",
      "metadata": {
        "id": "ZoOKzyyOVxX8"
      },
      "source": [
        "O modelo analisou corretamente. Agora, vou testa outro número qualquer. "
      ]
    },
    {
      "cell_type": "code",
      "metadata": {
        "colab": {
          "base_uri": "https://localhost:8080/",
          "height": 282
        },
        "id": "0qSGCOM2Vkrt",
        "outputId": "a9b1ac6e-e91b-4b54-84a8-ebc580e1f49e"
      },
      "source": [
        "meu_numero=x_test[99]\n",
        "plt.imshow(meu_numero.reshape(28,28))"
      ],
      "execution_count": 61,
      "outputs": [
        {
          "output_type": "execute_result",
          "data": {
            "text/plain": [
              "<matplotlib.image.AxesImage at 0x7fed3bdfad50>"
            ]
          },
          "metadata": {
            "tags": []
          },
          "execution_count": 61
        },
        {
          "output_type": "display_data",
          "data": {
            "image/png": "[encoded data removed]",
            "text/plain": [
              "<Figure size 432x288 with 1 Axes>"
            ]
          },
          "metadata": {
            "tags": [],
            "needs_background": "light"
          }
        }
      ]
    },
    {
      "cell_type": "code",
      "metadata": {
        "colab": {
          "base_uri": "https://localhost:8080/"
        },
        "id": "do-MmdBcV_Ws",
        "outputId": "99076127-0654-4430-be42-a771d3081bc3"
      },
      "source": [
        "model.predict_classes(meu_numero.reshape(1,28,28,1))"
      ],
      "execution_count": 62,
      "outputs": [
        {
          "output_type": "stream",
          "text": [
            "/usr/local/lib/python3.7/dist-packages/tensorflow/python/keras/engine/sequential.py:450: UserWarning: `model.predict_classes()` is deprecated and will be removed after 2021-01-01. Please use instead:* `np.argmax(model.predict(x), axis=-1)`,   if your model does multi-class classification   (e.g. if it uses a `softmax` last-layer activation).* `(model.predict(x) > 0.5).astype(\"int32\")`,   if your model does binary classification   (e.g. if it uses a `sigmoid` last-layer activation).\n",
            "  warnings.warn('`model.predict_classes()` is deprecated and '\n"
          ],
          "name": "stderr"
        },
        {
          "output_type": "execute_result",
          "data": {
            "text/plain": [
              "array([9])"
            ]
          },
          "metadata": {
            "tags": []
          },
          "execution_count": 62
        }
      ]
    },
    {
      "cell_type": "markdown",
      "metadata": {
        "id": "9mUBqCFhXEGc"
      },
      "source": [
        "Perfeito. A rede trabalha com sucesso para imagens em tons de cinza."
      ]
    },
    {
      "cell_type": "code",
      "metadata": {
        "id": "CFy0nbtQXILT"
      },
      "source": [
        ""
      ],
      "execution_count": null,
      "outputs": []
    }
  ]
}
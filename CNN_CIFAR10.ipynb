{
  "nbformat": 4,
  "nbformat_minor": 0,
  "metadata": {
    "colab": {
      "name": "CNN_CIFAR10.ipynb",
      "provenance": [],
      "collapsed_sections": [],
      "authorship_tag": "ABX9TyMwPbqcIKC6fCVgCptqBVdE",
      "include_colab_link": true
    },
    "kernelspec": {
      "name": "python3",
      "display_name": "Python 3"
    },
    "language_info": {
      "name": "python"
    },
    "accelerator": "GPU"
  },
  "cells": [
    {
      "cell_type": "markdown",
      "metadata": {
        "id": "view-in-github",
        "colab_type": "text"
      },
      "source": [
        "<a href=\"https://colab.research.google.com/github/ulisses-adonis/.Artificial-neural-network--projects/blob/main/CNN_CIFAR10.ipynb\" target=\"_parent\"><img src=\"https://colab.research.google.com/assets/colab-badge.svg\" alt=\"Open In Colab\"/></a>"
      ]
    },
    {
      "cell_type": "code",
      "metadata": {
        "id": "NUgb_gvckAqv"
      },
      "source": [
        "from __future__ import print_function\n",
        "from PIL import Image\n",
        "#Faz uma solicitação a uma página da web.\n",
        "import requests\n",
        "from io import BytesIO\n",
        "from keras.callbacks import EarlyStopping\n",
        "from keras.datasets import cifar10\n",
        "from keras.models import Sequential\n",
        "from keras.layers.core import Dense, Dropout, Flatten\n",
        "from keras.layers.convolutional import Conv2D\n",
        "from keras.optimizers import Adam\n",
        "from keras.layers.pooling import MaxPooling2D\n",
        "from keras.utils.np_utils import to_categorical\n",
        "from keras.preprocessing.image import load_img\n",
        "from keras.preprocessing.image import img_to_array\n",
        "from keras.preprocessing.image import array_to_img\n",
        "\n",
        "import numpy as np\n",
        "\n"
      ],
      "execution_count": null,
      "outputs": []
    },
    {
      "cell_type": "code",
      "metadata": {
        "id": "ushw2inxkTB6"
      },
      "source": [
        "#gerador de números aleatórios\n",
        "np.random.seed(1000)"
      ],
      "execution_count": null,
      "outputs": []
    },
    {
      "cell_type": "code",
      "metadata": {
        "id": "Ewpd5NuKkTEl"
      },
      "source": [
        "#realiza o download da base de dados (cifar10.load_data()) CIFAR-10, já separados em conjunto de treino e de teste.\n",
        "(X_train, Y_train), (X_test, Y_test) = cifar10.load_data()"
      ],
      "execution_count": null,
      "outputs": []
    },
    {
      "cell_type": "code",
      "metadata": {
        "id": "ovqXd0iWkTHF"
      },
      "source": [
        "# O modelo sequencial é uma pilha linear de camadas\n",
        "model = Sequential()\n",
        "\n",
        "#O primeiro parâmetro Conv2D necessário é o número de filtros que a camada convolucional aprenderá ( nesse caso 32 filtros). \n",
        "model.add(Conv2D(32, kernel_size=(3, 3), activation='relu', input_shape=(32, 32, 3)))\n",
        "\n",
        "#Uma camada de pooling recebe cada saída do mapa de características da camada convolucional e prepara um mapa de características condensadas.\n",
        "#MaxPooling: Calcule o valor máximo para cada patch de feature maps.\n",
        "model.add(MaxPooling2D(pool_size=(2, 2)))\n",
        "\n",
        "#Em seguida, a rede neural aprenderá com 64 filtros. Mais uma vez, o pooling máximo é usado para reduzir as dimensões espaciais.\n",
        "model.add(Conv2D(64, kernel_size=(3, 3), activation='relu'))\n",
        "model.add(MaxPooling2D(pool_size=(2, 2)))\n",
        "model.add(Dropout(0.25))\n",
        "\n",
        "model.add(Conv2D(128, kernel_size=(3, 3), activation='relu'))\n",
        "model.add(MaxPooling2D(pool_size=(2, 2)))\n",
        "model.add(Dropout(0.25))\n",
        "\n",
        "#model.add(Conv2D(256, kernel_size=(3, 3), activation='relu'))\n",
        "#model.add(MaxPooling2D(pool_size=(2, 2)))\n",
        "#model.add(Dropout(0.25))\n",
        "\n",
        "model.add(Flatten())\n",
        "model.add(Dense(1024, activation='relu'))\n",
        "model.add(Dropout(0.5))\n",
        "model.add(Dense(10, activation='softmax'))"
      ],
      "execution_count": null,
      "outputs": []
    },
    {
      "cell_type": "markdown",
      "metadata": {
        "id": "bnt2NH-7772i"
      },
      "source": [
        "**kernel_size:**:  especifica  a altura e largura da janela de convolução 2D. Pode ser um único inteiro para especificar o mesmo valor para todas as dimensões espacial.\n",
        "\n",
        "**Pooling:** envolve a seleção de uma operação de pooling, bem como um filtro a ser aplicado aos mapas de características (Feature Map). O tamanho da operação de pooling (ou filtro ) é menor que o tamanho do feature map;  geralmente possui o valor igual a 2 × 2 pixels, aplicado com uma distância de 2 pixels. \n",
        "\n",
        "Isso significa que a camada de agrupamento sempre reduzirá o tamanho de cada feature map por um fator 2, por ex. cada dimensão é dividida pela metade, reduzindo o número de pixels ou valores em cada feature map para um quarto do tamanho.\n",
        "*Por exemplo: uma camada de pooling aplicada a um feature map de 6 × 6 (36 pixels) resultará em um mapa de feições agrupadas de saída de 3 × 3 (9 pixels).*\n"
      ]
    },
    {
      "cell_type": "code",
      "metadata": {
        "colab": {
          "base_uri": "https://localhost:8080/"
        },
        "id": "_-98tqZYkTJl",
        "outputId": "bceeb637-9dbf-4b5f-973d-5d3249f539c3"
      },
      "source": [
        "model.compile(loss='categorical_crossentropy',\n",
        "              optimizer=Adam(lr=0.0001, decay=1e-6),\n",
        "              metrics=['accuracy'])"
      ],
      "execution_count": null,
      "outputs": [
        {
          "output_type": "stream",
          "text": [
            "/usr/local/lib/python3.7/dist-packages/tensorflow/python/keras/optimizer_v2/optimizer_v2.py:375: UserWarning: The `lr` argument is deprecated, use `learning_rate` instead.\n",
            "  \"The `lr` argument is deprecated, use `learning_rate` instead.\")\n"
          ],
          "name": "stderr"
        }
      ]
    },
    {
      "cell_type": "code",
      "metadata": {
        "colab": {
          "base_uri": "https://localhost:8080/"
        },
        "id": "U_gFcaJJkTMV",
        "outputId": "effcc9e1-4746-45f4-93bc-032c979a59a3"
      },
      "source": [
        "model.fit(X_train / 255.0, to_categorical(Y_train),\n",
        "          batch_size=64,\n",
        "          shuffle=True,\n",
        "          epochs=100,\n",
        "          validation_data=(X_test / 255.0, to_categorical(Y_test)))\n",
        "\n"
      ],
      "execution_count": null,
      "outputs": [
        {
          "output_type": "stream",
          "text": [
            "Epoch 1/100\n",
            "782/782 [==============================] - 4s 5ms/step - loss: 0.4983 - accuracy: 0.8232 - val_loss: 0.6096 - val_accuracy: 0.7903\n",
            "Epoch 2/100\n",
            "782/782 [==============================] - 4s 5ms/step - loss: 0.4949 - accuracy: 0.8258 - val_loss: 0.5999 - val_accuracy: 0.7938\n",
            "Epoch 3/100\n",
            "782/782 [==============================] - 4s 5ms/step - loss: 0.4915 - accuracy: 0.8286 - val_loss: 0.6032 - val_accuracy: 0.7930\n",
            "Epoch 4/100\n",
            "782/782 [==============================] - 3s 4ms/step - loss: 0.4906 - accuracy: 0.8275 - val_loss: 0.6104 - val_accuracy: 0.7900\n",
            "Epoch 5/100\n",
            "782/782 [==============================] - 4s 5ms/step - loss: 0.4843 - accuracy: 0.8287 - val_loss: 0.6011 - val_accuracy: 0.7939\n",
            "Epoch 6/100\n",
            "782/782 [==============================] - 4s 5ms/step - loss: 0.4874 - accuracy: 0.8292 - val_loss: 0.6016 - val_accuracy: 0.7941\n",
            "Epoch 7/100\n",
            "782/782 [==============================] - 4s 5ms/step - loss: 0.4782 - accuracy: 0.8300 - val_loss: 0.6029 - val_accuracy: 0.7960\n",
            "Epoch 8/100\n",
            "782/782 [==============================] - 3s 4ms/step - loss: 0.4759 - accuracy: 0.8310 - val_loss: 0.6337 - val_accuracy: 0.7847\n",
            "Epoch 9/100\n",
            "782/782 [==============================] - 4s 4ms/step - loss: 0.4757 - accuracy: 0.8326 - val_loss: 0.5953 - val_accuracy: 0.7964\n",
            "Epoch 10/100\n",
            "782/782 [==============================] - 4s 5ms/step - loss: 0.4703 - accuracy: 0.8330 - val_loss: 0.5950 - val_accuracy: 0.7959\n",
            "Epoch 11/100\n",
            "782/782 [==============================] - 4s 5ms/step - loss: 0.4659 - accuracy: 0.8349 - val_loss: 0.5964 - val_accuracy: 0.7965\n",
            "Epoch 12/100\n",
            "782/782 [==============================] - 3s 4ms/step - loss: 0.4671 - accuracy: 0.8341 - val_loss: 0.5909 - val_accuracy: 0.7974\n",
            "Epoch 13/100\n",
            "782/782 [==============================] - 4s 5ms/step - loss: 0.4637 - accuracy: 0.8357 - val_loss: 0.5953 - val_accuracy: 0.7948\n",
            "Epoch 14/100\n",
            "782/782 [==============================] - 3s 4ms/step - loss: 0.4690 - accuracy: 0.8338 - val_loss: 0.5977 - val_accuracy: 0.7949\n",
            "Epoch 15/100\n",
            "782/782 [==============================] - 3s 4ms/step - loss: 0.4611 - accuracy: 0.8367 - val_loss: 0.5885 - val_accuracy: 0.7999\n",
            "Epoch 16/100\n",
            "782/782 [==============================] - 3s 4ms/step - loss: 0.4617 - accuracy: 0.8362 - val_loss: 0.5955 - val_accuracy: 0.7966\n",
            "Epoch 17/100\n",
            "782/782 [==============================] - 3s 4ms/step - loss: 0.4548 - accuracy: 0.8385 - val_loss: 0.5896 - val_accuracy: 0.7968\n",
            "Epoch 18/100\n",
            "782/782 [==============================] - 3s 4ms/step - loss: 0.4559 - accuracy: 0.8384 - val_loss: 0.5966 - val_accuracy: 0.7961\n",
            "Epoch 19/100\n",
            "782/782 [==============================] - 3s 4ms/step - loss: 0.4519 - accuracy: 0.8399 - val_loss: 0.5895 - val_accuracy: 0.7961\n",
            "Epoch 20/100\n",
            "782/782 [==============================] - 4s 5ms/step - loss: 0.4476 - accuracy: 0.8427 - val_loss: 0.6006 - val_accuracy: 0.7934\n",
            "Epoch 21/100\n",
            "782/782 [==============================] - 3s 4ms/step - loss: 0.4484 - accuracy: 0.8417 - val_loss: 0.5898 - val_accuracy: 0.7979\n",
            "Epoch 22/100\n",
            "782/782 [==============================] - 3s 4ms/step - loss: 0.4468 - accuracy: 0.8404 - val_loss: 0.5878 - val_accuracy: 0.8011\n",
            "Epoch 23/100\n",
            "782/782 [==============================] - 4s 5ms/step - loss: 0.4489 - accuracy: 0.8398 - val_loss: 0.5905 - val_accuracy: 0.8005\n",
            "Epoch 24/100\n",
            "782/782 [==============================] - 3s 4ms/step - loss: 0.4413 - accuracy: 0.8437 - val_loss: 0.5901 - val_accuracy: 0.7993\n",
            "Epoch 25/100\n",
            "782/782 [==============================] - 3s 4ms/step - loss: 0.4410 - accuracy: 0.8437 - val_loss: 0.5828 - val_accuracy: 0.8024\n",
            "Epoch 26/100\n",
            "782/782 [==============================] - 3s 4ms/step - loss: 0.4350 - accuracy: 0.8466 - val_loss: 0.5848 - val_accuracy: 0.8011\n",
            "Epoch 27/100\n",
            "782/782 [==============================] - 3s 4ms/step - loss: 0.4333 - accuracy: 0.8465 - val_loss: 0.5843 - val_accuracy: 0.8015\n",
            "Epoch 28/100\n",
            "782/782 [==============================] - 4s 5ms/step - loss: 0.4335 - accuracy: 0.8472 - val_loss: 0.5785 - val_accuracy: 0.8039\n",
            "Epoch 29/100\n",
            "782/782 [==============================] - 4s 5ms/step - loss: 0.4301 - accuracy: 0.8477 - val_loss: 0.5899 - val_accuracy: 0.7988\n",
            "Epoch 30/100\n",
            "782/782 [==============================] - 3s 4ms/step - loss: 0.4335 - accuracy: 0.8460 - val_loss: 0.5865 - val_accuracy: 0.8021\n",
            "Epoch 31/100\n",
            "782/782 [==============================] - 4s 5ms/step - loss: 0.4317 - accuracy: 0.8467 - val_loss: 0.5770 - val_accuracy: 0.8041\n",
            "Epoch 32/100\n",
            "782/782 [==============================] - 4s 5ms/step - loss: 0.4237 - accuracy: 0.8498 - val_loss: 0.5835 - val_accuracy: 0.8021\n",
            "Epoch 33/100\n",
            "782/782 [==============================] - 4s 5ms/step - loss: 0.4236 - accuracy: 0.8483 - val_loss: 0.5855 - val_accuracy: 0.8026\n",
            "Epoch 34/100\n",
            "782/782 [==============================] - 3s 4ms/step - loss: 0.4225 - accuracy: 0.8502 - val_loss: 0.5838 - val_accuracy: 0.8012\n",
            "Epoch 35/100\n",
            "782/782 [==============================] - 4s 5ms/step - loss: 0.4219 - accuracy: 0.8502 - val_loss: 0.5855 - val_accuracy: 0.8015\n",
            "Epoch 36/100\n",
            "782/782 [==============================] - 4s 5ms/step - loss: 0.4237 - accuracy: 0.8490 - val_loss: 0.5833 - val_accuracy: 0.8012\n",
            "Epoch 37/100\n",
            "782/782 [==============================] - 4s 5ms/step - loss: 0.4214 - accuracy: 0.8523 - val_loss: 0.5853 - val_accuracy: 0.8023\n",
            "Epoch 38/100\n",
            "782/782 [==============================] - 3s 4ms/step - loss: 0.4197 - accuracy: 0.8497 - val_loss: 0.6007 - val_accuracy: 0.7959\n",
            "Epoch 39/100\n",
            "782/782 [==============================] - 4s 5ms/step - loss: 0.4128 - accuracy: 0.8533 - val_loss: 0.5835 - val_accuracy: 0.8019\n",
            "Epoch 40/100\n",
            "782/782 [==============================] - 4s 5ms/step - loss: 0.4139 - accuracy: 0.8538 - val_loss: 0.5903 - val_accuracy: 0.8015\n",
            "Epoch 41/100\n",
            "782/782 [==============================] - 3s 4ms/step - loss: 0.4126 - accuracy: 0.8534 - val_loss: 0.5821 - val_accuracy: 0.8031\n",
            "Epoch 42/100\n",
            "782/782 [==============================] - 4s 5ms/step - loss: 0.4125 - accuracy: 0.8550 - val_loss: 0.5801 - val_accuracy: 0.8005\n",
            "Epoch 43/100\n",
            "782/782 [==============================] - 4s 5ms/step - loss: 0.4099 - accuracy: 0.8547 - val_loss: 0.5781 - val_accuracy: 0.8040\n",
            "Epoch 44/100\n",
            "782/782 [==============================] - 4s 5ms/step - loss: 0.4048 - accuracy: 0.8572 - val_loss: 0.5826 - val_accuracy: 0.8018\n",
            "Epoch 45/100\n",
            "782/782 [==============================] - 4s 5ms/step - loss: 0.3997 - accuracy: 0.8583 - val_loss: 0.5787 - val_accuracy: 0.8040\n",
            "Epoch 46/100\n",
            "782/782 [==============================] - 4s 5ms/step - loss: 0.4045 - accuracy: 0.8570 - val_loss: 0.5820 - val_accuracy: 0.8034\n",
            "Epoch 47/100\n",
            "782/782 [==============================] - 4s 5ms/step - loss: 0.3994 - accuracy: 0.8576 - val_loss: 0.5793 - val_accuracy: 0.8044\n",
            "Epoch 48/100\n",
            "782/782 [==============================] - 4s 5ms/step - loss: 0.3989 - accuracy: 0.8583 - val_loss: 0.5957 - val_accuracy: 0.7993\n",
            "Epoch 49/100\n",
            "782/782 [==============================] - 3s 4ms/step - loss: 0.3981 - accuracy: 0.8582 - val_loss: 0.5948 - val_accuracy: 0.8009\n",
            "Epoch 50/100\n",
            "782/782 [==============================] - 4s 5ms/step - loss: 0.3943 - accuracy: 0.8575 - val_loss: 0.5773 - val_accuracy: 0.8021\n",
            "Epoch 51/100\n",
            "782/782 [==============================] - 3s 4ms/step - loss: 0.3970 - accuracy: 0.8597 - val_loss: 0.5832 - val_accuracy: 0.8039\n",
            "Epoch 52/100\n",
            "782/782 [==============================] - 3s 4ms/step - loss: 0.3918 - accuracy: 0.8610 - val_loss: 0.5889 - val_accuracy: 0.8037\n",
            "Epoch 53/100\n",
            "782/782 [==============================] - 3s 4ms/step - loss: 0.3892 - accuracy: 0.8614 - val_loss: 0.5781 - val_accuracy: 0.8025\n",
            "Epoch 54/100\n",
            "782/782 [==============================] - 3s 4ms/step - loss: 0.3906 - accuracy: 0.8618 - val_loss: 0.5894 - val_accuracy: 0.8037\n",
            "Epoch 55/100\n",
            "782/782 [==============================] - 3s 4ms/step - loss: 0.3866 - accuracy: 0.8629 - val_loss: 0.5795 - val_accuracy: 0.8042\n",
            "Epoch 56/100\n",
            "782/782 [==============================] - 3s 4ms/step - loss: 0.3851 - accuracy: 0.8629 - val_loss: 0.5829 - val_accuracy: 0.8039\n",
            "Epoch 57/100\n",
            "782/782 [==============================] - 3s 4ms/step - loss: 0.3831 - accuracy: 0.8642 - val_loss: 0.5745 - val_accuracy: 0.8065\n",
            "Epoch 58/100\n",
            "782/782 [==============================] - 4s 4ms/step - loss: 0.3850 - accuracy: 0.8623 - val_loss: 0.5725 - val_accuracy: 0.8074\n",
            "Epoch 59/100\n",
            "782/782 [==============================] - 4s 5ms/step - loss: 0.3800 - accuracy: 0.8631 - val_loss: 0.5855 - val_accuracy: 0.8037\n",
            "Epoch 60/100\n",
            "782/782 [==============================] - 3s 4ms/step - loss: 0.3792 - accuracy: 0.8652 - val_loss: 0.5843 - val_accuracy: 0.8039\n",
            "Epoch 61/100\n",
            "782/782 [==============================] - 4s 5ms/step - loss: 0.3767 - accuracy: 0.8662 - val_loss: 0.5874 - val_accuracy: 0.8034\n",
            "Epoch 62/100\n",
            "782/782 [==============================] - 3s 4ms/step - loss: 0.3816 - accuracy: 0.8639 - val_loss: 0.5783 - val_accuracy: 0.8052\n",
            "Epoch 63/100\n",
            "782/782 [==============================] - 4s 5ms/step - loss: 0.3732 - accuracy: 0.8666 - val_loss: 0.5825 - val_accuracy: 0.8039\n",
            "Epoch 64/100\n",
            "782/782 [==============================] - 4s 5ms/step - loss: 0.3764 - accuracy: 0.8661 - val_loss: 0.6040 - val_accuracy: 0.7973\n",
            "Epoch 65/100\n",
            "782/782 [==============================] - 4s 5ms/step - loss: 0.3726 - accuracy: 0.8670 - val_loss: 0.5777 - val_accuracy: 0.8069\n",
            "Epoch 66/100\n",
            "782/782 [==============================] - 4s 5ms/step - loss: 0.3735 - accuracy: 0.8670 - val_loss: 0.5693 - val_accuracy: 0.8076\n",
            "Epoch 67/100\n",
            "782/782 [==============================] - 3s 4ms/step - loss: 0.3748 - accuracy: 0.8658 - val_loss: 0.5895 - val_accuracy: 0.8034\n",
            "Epoch 68/100\n",
            "782/782 [==============================] - 4s 5ms/step - loss: 0.3733 - accuracy: 0.8663 - val_loss: 0.5845 - val_accuracy: 0.8028\n",
            "Epoch 69/100\n",
            "782/782 [==============================] - 3s 4ms/step - loss: 0.3662 - accuracy: 0.8683 - val_loss: 0.5773 - val_accuracy: 0.8079\n",
            "Epoch 70/100\n",
            "782/782 [==============================] - 4s 5ms/step - loss: 0.3641 - accuracy: 0.8711 - val_loss: 0.5776 - val_accuracy: 0.8081\n",
            "Epoch 71/100\n",
            "782/782 [==============================] - 4s 5ms/step - loss: 0.3619 - accuracy: 0.8716 - val_loss: 0.5817 - val_accuracy: 0.8068\n",
            "Epoch 72/100\n",
            "782/782 [==============================] - 3s 4ms/step - loss: 0.3628 - accuracy: 0.8723 - val_loss: 0.5791 - val_accuracy: 0.8092\n",
            "Epoch 73/100\n",
            "782/782 [==============================] - 3s 4ms/step - loss: 0.3636 - accuracy: 0.8708 - val_loss: 0.5799 - val_accuracy: 0.8076\n",
            "Epoch 74/100\n",
            "782/782 [==============================] - 4s 5ms/step - loss: 0.3584 - accuracy: 0.8723 - val_loss: 0.5809 - val_accuracy: 0.8086\n",
            "Epoch 75/100\n",
            "782/782 [==============================] - 3s 4ms/step - loss: 0.3589 - accuracy: 0.8736 - val_loss: 0.5914 - val_accuracy: 0.8045\n",
            "Epoch 76/100\n",
            "782/782 [==============================] - 3s 4ms/step - loss: 0.3561 - accuracy: 0.8725 - val_loss: 0.5860 - val_accuracy: 0.8057\n",
            "Epoch 77/100\n",
            "782/782 [==============================] - 3s 4ms/step - loss: 0.3563 - accuracy: 0.8717 - val_loss: 0.5761 - val_accuracy: 0.8100\n",
            "Epoch 78/100\n",
            "782/782 [==============================] - 4s 5ms/step - loss: 0.3606 - accuracy: 0.8707 - val_loss: 0.5785 - val_accuracy: 0.8072\n",
            "Epoch 79/100\n",
            "782/782 [==============================] - 4s 5ms/step - loss: 0.3538 - accuracy: 0.8750 - val_loss: 0.5838 - val_accuracy: 0.8087\n",
            "Epoch 80/100\n",
            "782/782 [==============================] - 3s 4ms/step - loss: 0.3538 - accuracy: 0.8731 - val_loss: 0.5860 - val_accuracy: 0.8068\n",
            "Epoch 81/100\n",
            "782/782 [==============================] - 3s 4ms/step - loss: 0.3507 - accuracy: 0.8756 - val_loss: 0.5819 - val_accuracy: 0.8065\n",
            "Epoch 82/100\n",
            "782/782 [==============================] - 4s 5ms/step - loss: 0.3459 - accuracy: 0.8783 - val_loss: 0.5855 - val_accuracy: 0.8081\n",
            "Epoch 83/100\n",
            "782/782 [==============================] - 4s 5ms/step - loss: 0.3503 - accuracy: 0.8764 - val_loss: 0.5787 - val_accuracy: 0.8096\n",
            "Epoch 84/100\n",
            "782/782 [==============================] - 3s 4ms/step - loss: 0.3493 - accuracy: 0.8762 - val_loss: 0.5791 - val_accuracy: 0.8087\n",
            "Epoch 85/100\n",
            "782/782 [==============================] - 3s 4ms/step - loss: 0.3471 - accuracy: 0.8765 - val_loss: 0.5762 - val_accuracy: 0.8063\n",
            "Epoch 86/100\n",
            "782/782 [==============================] - 3s 4ms/step - loss: 0.3465 - accuracy: 0.8774 - val_loss: 0.5867 - val_accuracy: 0.8058\n",
            "Epoch 87/100\n",
            "782/782 [==============================] - 4s 5ms/step - loss: 0.3438 - accuracy: 0.8779 - val_loss: 0.5841 - val_accuracy: 0.8086\n",
            "Epoch 88/100\n",
            "782/782 [==============================] - 3s 4ms/step - loss: 0.3459 - accuracy: 0.8754 - val_loss: 0.5853 - val_accuracy: 0.8078\n",
            "Epoch 89/100\n",
            "782/782 [==============================] - 4s 4ms/step - loss: 0.3430 - accuracy: 0.8767 - val_loss: 0.5826 - val_accuracy: 0.8071\n",
            "Epoch 90/100\n",
            "782/782 [==============================] - 4s 5ms/step - loss: 0.3441 - accuracy: 0.8788 - val_loss: 0.5795 - val_accuracy: 0.8064\n",
            "Epoch 91/100\n",
            "782/782 [==============================] - 3s 4ms/step - loss: 0.3390 - accuracy: 0.8784 - val_loss: 0.5757 - val_accuracy: 0.8113\n",
            "Epoch 92/100\n",
            "782/782 [==============================] - 3s 4ms/step - loss: 0.3411 - accuracy: 0.8783 - val_loss: 0.5794 - val_accuracy: 0.8077\n",
            "Epoch 93/100\n",
            "782/782 [==============================] - 4s 4ms/step - loss: 0.3375 - accuracy: 0.8793 - val_loss: 0.5771 - val_accuracy: 0.8096\n",
            "Epoch 94/100\n",
            "782/782 [==============================] - 3s 4ms/step - loss: 0.3384 - accuracy: 0.8807 - val_loss: 0.5871 - val_accuracy: 0.8040\n",
            "Epoch 95/100\n",
            "782/782 [==============================] - 4s 5ms/step - loss: 0.3364 - accuracy: 0.8797 - val_loss: 0.5832 - val_accuracy: 0.8073\n",
            "Epoch 96/100\n",
            "782/782 [==============================] - 4s 5ms/step - loss: 0.3359 - accuracy: 0.8811 - val_loss: 0.5794 - val_accuracy: 0.8079\n",
            "Epoch 97/100\n",
            "782/782 [==============================] - 4s 5ms/step - loss: 0.3365 - accuracy: 0.8803 - val_loss: 0.5880 - val_accuracy: 0.8051\n",
            "Epoch 98/100\n",
            "782/782 [==============================] - 4s 5ms/step - loss: 0.3350 - accuracy: 0.8802 - val_loss: 0.5792 - val_accuracy: 0.8100\n",
            "Epoch 99/100\n",
            "782/782 [==============================] - 4s 5ms/step - loss: 0.3315 - accuracy: 0.8808 - val_loss: 0.5742 - val_accuracy: 0.8113\n",
            "Epoch 100/100\n",
            "782/782 [==============================] - 3s 4ms/step - loss: 0.3322 - accuracy: 0.8811 - val_loss: 0.5756 - val_accuracy: 0.8104\n"
          ],
          "name": "stdout"
        },
        {
          "output_type": "execute_result",
          "data": {
            "text/plain": [
              "<keras.callbacks.History at 0x7fb3feb99210>"
            ]
          },
          "metadata": {
            "tags": []
          },
          "execution_count": 60
        }
      ]
    },
    {
      "cell_type": "code",
      "metadata": {
        "colab": {
          "base_uri": "https://localhost:8080/"
        },
        "id": "75XY-esHlno7",
        "outputId": "4753bb0e-6e2e-4edf-bcf5-f8adcb5b5764"
      },
      "source": [
        "\n",
        "scores = model.evaluate(X_test / 255.0, to_categorical(Y_test))\n"
      ],
      "execution_count": null,
      "outputs": [
        {
          "output_type": "stream",
          "text": [
            "313/313 [==============================] - 1s 2ms/step - loss: 0.5756 - accuracy: 0.8104\n"
          ],
          "name": "stdout"
        }
      ]
    },
    {
      "cell_type": "code",
      "metadata": {
        "colab": {
          "base_uri": "https://localhost:8080/"
        },
        "id": "ov9kGwlJl0Ch",
        "outputId": "da210d7d-d6d3-4b43-b0b4-3a15e90cf287"
      },
      "source": [
        "print('Loss: %.3f' % scores[0])\n",
        "print('Accuracy: %.3f' % scores[1])"
      ],
      "execution_count": null,
      "outputs": [
        {
          "output_type": "stream",
          "text": [
            "Loss: 0.576\n",
            "Accuracy: 0.810\n"
          ],
          "name": "stdout"
        }
      ]
    },
    {
      "cell_type": "markdown",
      "metadata": {
        "id": "JWpoCrI_IooJ"
      },
      "source": [
        "Até 15 epochs :  Loss: 0.975  Accuracy: 0.663\n",
        "\n",
        "Até 40 epochs :  Loss: 0.813  Accuracy: 0.716  ( nos testes acertou 7, de acordou com a acurácia)\n",
        "\n",
        "Até 100 epochs Loss: 0.593 Accuracy: 0.796 ( usando bacth_size = 128)"
      ]
    },
    {
      "cell_type": "markdown",
      "metadata": {
        "id": "Iqaf1lBND7jK"
      },
      "source": [
        "1- Avião \n",
        "4- Gato\n",
        "6- Cachorro\n",
        "7- Sapo\n",
        "8- Cavalo\n",
        "9- Navio\n",
        "10-caminhão"
      ]
    },
    {
      "cell_type": "code",
      "metadata": {
        "id": "cATDTrRel0FP",
        "colab": {
          "base_uri": "https://localhost:8080/"
        },
        "outputId": "ee4a232d-eefe-4970-9d29-39fa8aacd6a5"
      },
      "source": [
        "# Este comando obtém na WEB uma imagem de um Avião.\n",
        "response = requests.get('https://dl1.cbsistatic.com/i/r/2017/02/01/4094f803-44d1-47e0-a22f-6d48f65727b5/thumbnail/32x32/4188676421c43926bfcb5f3329ffacb6/fmimg586302198861076950.png')\n",
        "img = Image.open(BytesIO(response.content))\n",
        "img = np.expand_dims(img, axis=0)\n",
        "img = img[:,:,:,:3]\n",
        "#print(img.mode)\n",
        "#print(img.size)\n",
        "print(img.dtype)\n",
        "print(img.shape)"
      ],
      "execution_count": null,
      "outputs": [
        {
          "output_type": "stream",
          "text": [
            "uint8\n",
            "(1, 32, 32, 3)\n"
          ],
          "name": "stdout"
        }
      ]
    },
    {
      "cell_type": "code",
      "metadata": {
        "colab": {
          "base_uri": "https://localhost:8080/"
        },
        "id": "i7OJroZ-l0H5",
        "outputId": "7eab1703-c83b-4f97-b6b6-d44861afea57"
      },
      "source": [
        "print(model.predict(img))"
      ],
      "execution_count": null,
      "outputs": [
        {
          "output_type": "stream",
          "text": [
            "[[1. 0. 0. 0. 0. 0. 0. 0. 0. 0.]]\n"
          ],
          "name": "stdout"
        }
      ]
    },
    {
      "cell_type": "code",
      "metadata": {
        "colab": {
          "base_uri": "https://localhost:8080/"
        },
        "id": "pDfGLiNyXy-j",
        "outputId": "9cdfb269-d82d-4e43-b4bc-b27e84ffd058"
      },
      "source": [
        "#Cavalo # acertou\n",
        "im = Image.open('/content/cavalo1.jpeg')\n",
        "im = im.resize((32, 32))  \n",
        "print(im.mode)\n",
        "print(im.size)"
      ],
      "execution_count": null,
      "outputs": [
        {
          "output_type": "stream",
          "text": [
            "RGB\n",
            "(32, 32)\n"
          ],
          "name": "stdout"
        }
      ]
    },
    {
      "cell_type": "code",
      "metadata": {
        "id": "UkN6vRUhbrdD"
      },
      "source": [
        "im = np.expand_dims(im, axis=0)\n",
        "img = img[:,:,:,:3]"
      ],
      "execution_count": null,
      "outputs": []
    },
    {
      "cell_type": "code",
      "metadata": {
        "colab": {
          "base_uri": "https://localhost:8080/"
        },
        "id": "rqGLZTs3bofp",
        "outputId": "35874f76-31c5-49d8-8f0d-ae2f990f49b9"
      },
      "source": [
        "print(im.dtype)\n",
        "print(im.shape)"
      ],
      "execution_count": null,
      "outputs": [
        {
          "output_type": "stream",
          "text": [
            "uint8\n",
            "(1, 32, 32, 3)\n"
          ],
          "name": "stdout"
        }
      ]
    },
    {
      "cell_type": "code",
      "metadata": {
        "colab": {
          "base_uri": "https://localhost:8080/"
        },
        "id": "V_xp8qTXasTo",
        "outputId": "80d60bf6-c0e3-4523-fdba-c821d2ecbd53"
      },
      "source": [
        "print(model.predict(im))"
      ],
      "execution_count": null,
      "outputs": [
        {
          "output_type": "stream",
          "text": [
            "[[0. 0. 0. 0. 0. 0. 0. 1. 0. 0.]]\n"
          ],
          "name": "stdout"
        }
      ]
    },
    {
      "cell_type": "code",
      "metadata": {
        "colab": {
          "base_uri": "https://localhost:8080/"
        },
        "id": "q0kvKSIUYOof",
        "outputId": "7942481e-da31-4998-d6e8-d4f241877ec7"
      },
      "source": [
        "#Cavalo2 # acertou\n",
        "im2 = Image.open('/content/cavalo2.jpg')  \n",
        "im2 = im2.resize((32, 32))\n",
        "im2 = np.expand_dims(im2, axis=0)\n",
        "im2 = im2[:,:,:,:3]\n",
        "print(model.predict(im2))"
      ],
      "execution_count": null,
      "outputs": [
        {
          "output_type": "stream",
          "text": [
            "[[0. 0. 0. 0. 0. 0. 0. 1. 0. 0.]]\n"
          ],
          "name": "stdout"
        }
      ]
    },
    {
      "cell_type": "code",
      "metadata": {
        "colab": {
          "base_uri": "https://localhost:8080/"
        },
        "id": "wxoc0yX0ZNPl",
        "outputId": "161b08ab-c325-492e-a961-b0b5848ae4a5"
      },
      "source": [
        "#sapo #acertou\n",
        "im3 = Image.open('/content/sapo.jpeg')  \n",
        "im3 = im3.resize((32, 32))\n",
        "im3 = np.expand_dims(im3, axis=0)\n",
        "im3 = im3[:,:,:,:3]\n",
        "print(model.predict(im3))\n"
      ],
      "execution_count": null,
      "outputs": [
        {
          "output_type": "stream",
          "text": [
            "[[0. 0. 0. 0. 0. 0. 1. 0. 0. 0.]]\n"
          ],
          "name": "stdout"
        }
      ]
    },
    {
      "cell_type": "code",
      "metadata": {
        "colab": {
          "base_uri": "https://localhost:8080/"
        },
        "id": "EN5WV3lRZJnI",
        "outputId": "1b86b000-051d-41cf-cfb2-6cef5c6c079c"
      },
      "source": [
        "#sapo2 #errou\n",
        "im4 = Image.open('/content/sapo2.jpg')  \n",
        "im4 = im4.resize((32, 32))\n",
        "im4= np.expand_dims(im4, axis=0)\n",
        "im4 = im4[:,:,:,:3]\n",
        "print(model.predict(im4))"
      ],
      "execution_count": null,
      "outputs": [
        {
          "output_type": "stream",
          "text": [
            "[[0. 0. 0. 0. 0. 0. 0. 0. 1. 0.]]\n"
          ],
          "name": "stdout"
        }
      ]
    },
    {
      "cell_type": "code",
      "metadata": {
        "colab": {
          "base_uri": "https://localhost:8080/"
        },
        "id": "HWSsQa0WZRIV",
        "outputId": "09b37646-874d-4213-8b70-e163bd5fb45d"
      },
      "source": [
        "#navio # acertou\n",
        "im5= Image.open('/content/navio3.jpg')  \n",
        "im5 = im5.resize((32, 32))\n",
        "im5= np.expand_dims(im5, axis=0)\n",
        "im5 = im5[:,:,:,:3]\n",
        "print(model.predict(im5))"
      ],
      "execution_count": null,
      "outputs": [
        {
          "output_type": "stream",
          "text": [
            "[[0. 0. 0. 0. 0. 0. 0. 0. 1. 0.]]\n"
          ],
          "name": "stdout"
        }
      ]
    },
    {
      "cell_type": "code",
      "metadata": {
        "colab": {
          "base_uri": "https://localhost:8080/"
        },
        "id": "3PAnUnRvCpG7",
        "outputId": "7fd2bb38-cd29-431b-ace0-cf68f03537d2"
      },
      "source": [
        "#navio # acertou\n",
        "im6= Image.open('/content/navio2.jpg')  \n",
        "im6 = im6.resize((32, 32))\n",
        "im6= np.expand_dims(im6, axis=0)\n",
        "im6 = im6[:,:,:,:3]\n",
        "print(model.predict(im6))"
      ],
      "execution_count": null,
      "outputs": [
        {
          "output_type": "stream",
          "text": [
            "[[0. 0. 0. 0. 0. 0. 0. 0. 1. 0.]]\n"
          ],
          "name": "stdout"
        }
      ]
    },
    {
      "cell_type": "code",
      "metadata": {
        "colab": {
          "base_uri": "https://localhost:8080/"
        },
        "id": "DQFOhG_jDWe2",
        "outputId": "0fa35510-2fee-42ad-b713-e984e0918c5e"
      },
      "source": [
        "#gato # errou\n",
        "im7= Image.open('/content/gato.jpeg')  \n",
        "im7= im7.resize((32, 32))\n",
        "im7= np.expand_dims(im7, axis=0)\n",
        "im7= im7[:,:,:,:3]\n",
        "print(model.predict(im7))"
      ],
      "execution_count": null,
      "outputs": [
        {
          "output_type": "stream",
          "text": [
            "[[0. 0. 0. 0. 0. 0. 0. 1. 0. 0.]]\n"
          ],
          "name": "stdout"
        }
      ]
    },
    {
      "cell_type": "code",
      "metadata": {
        "colab": {
          "base_uri": "https://localhost:8080/"
        },
        "id": "wqrEMFXcDib0",
        "outputId": "726161c3-6e64-45d4-dbba-63fe43947f01"
      },
      "source": [
        "#cachorro # acertou\n",
        "im8= Image.open('/content/cachorro.jpg')  \n",
        "im8= im8.resize((32, 32))\n",
        "im8= np.expand_dims(im8, axis=0)\n",
        "im8= im8[:,:,:,:3]\n",
        "print(model.predict(im8))"
      ],
      "execution_count": null,
      "outputs": [
        {
          "output_type": "stream",
          "text": [
            "[[0. 0. 0. 0. 0. 1. 0. 0. 0. 0.]]\n"
          ],
          "name": "stdout"
        }
      ]
    },
    {
      "cell_type": "code",
      "metadata": {
        "colab": {
          "base_uri": "https://localhost:8080/"
        },
        "id": "L1VV2XzmDWp0",
        "outputId": "8b30c12a-7c6c-4583-cf23-a11366cb5dd0"
      },
      "source": [
        "#caminhão # acertou\n",
        "im9= Image.open('/content/caminhao.jpg')  \n",
        "im9= im9.resize((32, 32))\n",
        "im9= np.expand_dims(im9, axis=0)\n",
        "im9= im9[:,:,:,:3]\n",
        "print(model.predict(im9))"
      ],
      "execution_count": null,
      "outputs": [
        {
          "output_type": "stream",
          "text": [
            "[[0. 0. 0. 0. 0. 0. 0. 0. 0. 1.]]\n"
          ],
          "name": "stdout"
        }
      ]
    },
    {
      "cell_type": "code",
      "metadata": {
        "colab": {
          "base_uri": "https://localhost:8080/"
        },
        "id": "5hOL8_KKD3sd",
        "outputId": "f48e4869-b030-46b6-dd6d-f8278e901d95"
      },
      "source": [
        "#cachorro2 #acertou\n",
        "im10= Image.open('/content/cachorro2.jpg')  \n",
        "im10= im10.resize((32, 32))\n",
        "im10= np.expand_dims(im10, axis=0)\n",
        "im10= im10[:,:,:,:3]\n",
        "print(model.predict(im10))"
      ],
      "execution_count": null,
      "outputs": [
        {
          "output_type": "stream",
          "text": [
            "[[0. 0. 0. 0. 0. 1. 0. 0. 0. 0.]]\n"
          ],
          "name": "stdout"
        }
      ]
    },
    {
      "cell_type": "markdown",
      "metadata": {
        "id": "L811GEcuOa5b"
      },
      "source": [
        "Conclusão: Aumentando o número de épocas e diminuindo o número de Batch_size, a acurácia aumenta consideravelmente. "
      ]
    }
  ]
}